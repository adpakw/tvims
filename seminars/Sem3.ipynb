{
 "cells": [
  {
   "cell_type": "markdown",
   "id": "b1305b43",
   "metadata": {},
   "source": [
    "# СЕМИНАР 3: МЕТОД МАКСИМАЛЬНОГО ПРАВДОПОДОБИЯ\n",
    "\n",
    "На лекции мы рассмотрели теоретические основы метода максимального правдоподобия и даже вывели несколько оценок ММП руками.\n",
    "\n",
    "Попробуем провернуть аналогичные операции в Python\n"
   ]
  },
  {
   "cell_type": "markdown",
   "id": "a5f752d0",
   "metadata": {},
   "source": [
    "## Практический минимум"
   ]
  },
  {
   "cell_type": "code",
   "execution_count": 76,
   "id": "4b386c9b",
   "metadata": {},
   "outputs": [],
   "source": [
    "import datetime\n",
    "import glob\n",
    "import os\n",
    "\n",
    "import matplotlib.pyplot as plt\n",
    "import numpy as np\n",
    "import pandas as pd\n",
    "import plotly.express as px\n",
    "import plotly.graph_objects as go\n",
    "import seaborn as sns\n",
    "from plotly.subplots import make_subplots\n",
    "from scipy import stats\n",
    "from scipy.optimize import minimize"
   ]
  },
  {
   "cell_type": "markdown",
   "id": "b994ed63",
   "metadata": {},
   "source": [
    "* Попробуем оценить параметры нормального распределения для следующей выборки:"
   ]
  },
  {
   "cell_type": "code",
   "execution_count": null,
   "id": "834adbcd",
   "metadata": {},
   "outputs": [],
   "source": [
    "x = [3.2, 7.9, 5.4, 4.9, 6.2, 4.3]"
   ]
  },
  {
   "cell_type": "markdown",
   "id": "c155f702",
   "metadata": {},
   "source": [
    "1. Напишем ф-ю логарифма макс. правдоподобия, которая принимает на вход массив из двух параметров норм. распр-я и нашу выборку.\n",
    "\n",
    "   Возвращает значение лог-функции правдоподобия"
   ]
  },
  {
   "cell_type": "code",
   "execution_count": null,
   "id": "35f7f276",
   "metadata": {},
   "outputs": [
    {
     "name": "stdout",
     "output_type": "stream",
     "text": [
      "10.240554617493236\n"
     ]
    }
   ],
   "source": [
    "def lnL(theta, x):\n",
    "    mu = theta[0]\n",
    "    s2 = np.exp(theta[1])\n",
    "\n",
    "    x = np.array(x)\n",
    "    n = x.size\n",
    "\n",
    "    l = -0.5 * n * np.log(s2) - 0.5 / s2 * np.sum(\n",
    "        (x - mu) ** 2\n",
    "    )  # лог ф-я правдоподобия для норм. распр-я\n",
    "\n",
    "    return (\n",
    "        -l\n",
    "    )  # на минус 1 домножаем в силу того, что в scipy есть только функция minimize\n",
    "\n",
    "\n",
    "# Проверка, что работает\n",
    "print(lnL([4, 0.2], x))"
   ]
  },
  {
   "cell_type": "markdown",
   "id": "f6f94414",
   "metadata": {},
   "source": [
    "2. Оценим параметры"
   ]
  },
  {
   "cell_type": "code",
   "execution_count": null,
   "id": "d6ba760d",
   "metadata": {},
   "outputs": [
    {
     "data": {
      "text/plain": [
       "  message: Optimization terminated successfully.\n",
       "  success: True\n",
       "   status: 0\n",
       "      fun: 5.353606615954048\n",
       "        x: [ 5.317e+00  7.845e-01]\n",
       "      nit: 14\n",
       "      jac: [-1.788e-06  2.146e-06]\n",
       " hess_inv: [[ 3.527e-01  1.303e-02]\n",
       "            [ 1.303e-02  3.198e-01]]\n",
       "     nfev: 51\n",
       "     njev: 17"
      ]
     },
     "execution_count": 5,
     "metadata": {},
     "output_type": "execute_result"
    }
   ],
   "source": [
    "theta_int = [0, 0]  # initial guess\n",
    "res = minimize(lnL, theta_int, args=x)\n",
    "res"
   ]
  },
  {
   "cell_type": "code",
   "execution_count": 6,
   "id": "789e288a",
   "metadata": {},
   "outputs": [
    {
     "data": {
      "text/plain": [
       "(np.float64(5.316665987334323), np.float64(1.480334570143922))"
      ]
     },
     "execution_count": 6,
     "metadata": {},
     "output_type": "execute_result"
    }
   ],
   "source": [
    "mu, s2 = res.x\n",
    "s2 = np.sqrt(np.exp(s2))\n",
    "mu, s2"
   ]
  },
  {
   "cell_type": "markdown",
   "id": "54199e19",
   "metadata": {},
   "source": [
    "3. Получим тот же результат, используя встроенный метод stats.norm.fit(x)"
   ]
  },
  {
   "cell_type": "code",
   "execution_count": 7,
   "id": "5c7f9d40",
   "metadata": {},
   "outputs": [
    {
     "data": {
      "text/plain": [
       "(np.float64(5.316666666666666), np.float64(1.4803340463857775))"
      ]
     },
     "execution_count": 7,
     "metadata": {},
     "output_type": "execute_result"
    }
   ],
   "source": [
    "mu, s = stats.norm.fit(x)\n",
    "mu, s"
   ]
  },
  {
   "cell_type": "markdown",
   "id": "d82ecb6d",
   "metadata": {},
   "source": [
    "4. Построим 95% доверительный интервал для среднего"
   ]
  },
  {
   "cell_type": "code",
   "execution_count": 8,
   "id": "12883039",
   "metadata": {},
   "outputs": [
    {
     "data": {
      "text/plain": [
       "array([[0.35270628, 0.0130339 ],\n",
       "       [0.0130339 , 0.31983887]])"
      ]
     },
     "execution_count": 8,
     "metadata": {},
     "output_type": "execute_result"
    }
   ],
   "source": [
    "res.hess_inv"
   ]
  },
  {
   "cell_type": "code",
   "execution_count": null,
   "id": "410b8db2",
   "metadata": {},
   "outputs": [
    {
     "name": "stdout",
     "output_type": "stream",
     "text": [
      "Доверительный интервал для среднего: [4.152661404574153 ; 6.480670570094493]\n"
     ]
    }
   ],
   "source": [
    "alpha = 0.05\n",
    "\n",
    "z = stats.norm().ppf(1 - alpha / 2)\n",
    "\n",
    "left = res.x[0] - z * np.sqrt(res.hess_inv[0, 0])\n",
    "right = res.x[0] + z * np.sqrt(res.hess_inv[0, 0])\n",
    "\n",
    "print(f\"Доверительный интервал для среднего: [{left} ; {right}]\")"
   ]
  },
  {
   "cell_type": "markdown",
   "id": "7e6b2c40",
   "metadata": {},
   "source": [
    "Ниже на примере нормального распределения написан пайплайн запуска теста отношения правдоподобий"
   ]
  },
  {
   "cell_type": "code",
   "execution_count": null,
   "id": "ad4a2714",
   "metadata": {},
   "outputs": [
    {
     "name": "stdout",
     "output_type": "stream",
     "text": [
      "Оцененное среднее: -0.10384651739409384\n",
      "Статистика теста: 6.4438\n",
      "Критическое значение: 3.8415\n",
      "p-value: 0.0111\n",
      "Отвергаем H0: данные не согласуются с предположением mu = 0.15\n"
     ]
    }
   ],
   "source": [
    "np.random.seed(42)\n",
    "\n",
    "n = 100  # размер выборки\n",
    "mu_true = 0  # истинное среднее\n",
    "sigma = 1  # известное стандартное отклонение\n",
    "alpha = 0.05  # уровень значимости\n",
    "\n",
    "hypo_mu = 0.15  # наше предположение о параметре как исследователей\n",
    "\n",
    "# Генерируем выборку из нормального распределения\n",
    "data = np.random.normal(loc=mu_true, scale=sigma, size=n)\n",
    "\n",
    "# Оценка параметра при H1 (альтернативная гипотеза)\n",
    "# MLE для параметра `mu` при нормальном распределении с известной дисперсией – выборочное среднее\n",
    "mu_hat = np.mean(data)\n",
    "print(\"Оцененное среднее:\", mu_hat)\n",
    "\n",
    "# Вычисление логарифмов правдоподобия\n",
    "logL_R = np.sum(\n",
    "    stats.norm.logpdf(data, loc=hypo_mu, scale=sigma)\n",
    ")  # при mu = hypo_mu (H0)\n",
    "logL_UR = np.sum(\n",
    "    stats.norm.logpdf(data, loc=mu_hat, scale=sigma)\n",
    ")  # при mu = mu_hat (H1)\n",
    "\n",
    "# Вычисление статистики теста: -2 * (logL_R - logL_UR)\n",
    "test_statistic = -2 * (logL_R - logL_UR)\n",
    "print(\"Статистика теста: {:.4f}\".format(test_statistic))\n",
    "\n",
    "# Вычисление критического значения для уровня значимости alpha = 0.05\n",
    "critical_value = stats.chi2.ppf(1 - alpha, df=1)\n",
    "print(\"Критическое значение: {:.4f}\".format(critical_value))\n",
    "\n",
    "# Вычисление p-value c 1 степенью свободы, ибо мы ограничили один параметр\n",
    "p_value = 1 - stats.chi2.cdf(test_statistic, df=1)\n",
    "print(\"p-value: {:.4f}\".format(p_value))\n",
    "\n",
    "# Принятие решения\n",
    "if p_value < alpha:\n",
    "    print(f\"Отвергаем H0: данные не согласуются с предположением mu = {hypo_mu}\")\n",
    "else:\n",
    "    print(\n",
    "        f\"Нет оснований отвергать H0: данные согласуются с предположением mu = {hypo_mu}\"\n",
    "    )"
   ]
  },
  {
   "cell_type": "markdown",
   "id": "58ba4c31",
   "metadata": {},
   "source": [
    "5. Попробуйте провести тест отношения правдоподобий в предыдущей задаче с гипотезой о том, что среднее равняется единице"
   ]
  },
  {
   "cell_type": "code",
   "execution_count": null,
   "id": "9e9b86ca",
   "metadata": {},
   "outputs": [
    {
     "name": "stdout",
     "output_type": "stream",
     "text": [
      "Оцененное среднее: -0.10384651739409384\n",
      "Статистика теста: 121.8477\n",
      "Критическое значение: 3.8415\n",
      "p-value: 0.0000\n"
     ]
    },
    {
     "data": {
      "application/vnd.plotly.v1+json": {
       "config": {
        "plotlyServerURL": "https://plot.ly"
       },
       "data": [
        {
         "histnorm": "probability density",
         "name": "Данные",
         "nbinsx": 20,
         "opacity": 0.7,
         "type": "histogram",
         "x": {
          "bdata": "fDCpKCrK3z8qBd4FpbLBv2heJFDdueQ/K6oBjlRe+D9AplffvPjNvzvbcCYz+M2/CHRAqHRE+T/z1/BG047oP4ueeUveC96/fS1q4aZc4T9wG8Guoqjdv+fvFiuEzt2/cPmepZ74zj++Ne6+y5z+vxLk7nBDmfu/YzyhakL+4b95UaNnjjTwvx+GFtigHNQ/+wOLgYgO7b/IExTEy5j2v0ENnx9Mc/c/2Zhm4TzmzL/GNbFGh0mxP2InDcHEy/a/KPrKUZVr4b81BjE/bGW8PxX1zj14avK/6N19s28L2D/SOz2hbjjjv6DS80Icq9K/p/2pOS5B479X9hhz7qL9P4KDsNZupIu/RMyHS2Ls8L83Lh+1SVLqPxx64lmTiPO/tWnv0gq8yj/DMFAPz1r/v/9asANAQPW/QDr0vL8yyT++nUiqhKHnPwwupFVl78U/XzGyNiCbvb/hr1BvSEXTvwa4sKwGqPe/J6aouPYI57/ZriIKG3vdv2LC1/746fA/iEEAkdf91T9OFQ2YaTX8vzhYbbDKvdQ/QA8qJjCl2L9NOahTWKnlv/nsCSfakuM/1Pz0Wvl+8D8enOD2C83tP1MVD7Xe2uq/zylztCLK07+KTA+JazPVPwBoGGqqN+8/VWYobMqq3r8Tbn1grMPHvzBuPE2Ms/G/9PWajqkj87+w1UonNgDqP/3Ng74os/U/+iMrXUFvsr9qgA6DeA7wP0KkKG0LJdc/rwoBL9Kk5L+P6aQIGyHXPyBgEDvMm/g/URmlZMpXor8w1znJxwj5P19fz+s89QTAv1gZewZN6j8prkt3t0i2P8ft4LnvItO/OIpGXqJ9tz/iHOwPFc3/v8FsDls1Hsy/04nor+7a1j8349E5dKX3PzA8v2yrleC/S3Lu+S3f6b+hdpfJZA7gv5AGx2H5Su0/gMUgGEIK1T/02ryry/PgvwNc6tKvbOA/OiugAxPauD9TvHjHI//uP3hIyAw4d+a/l5Lxpmr41L8apYzLTBjZvxD0dqaOave/IzBrdqLz0j8UgR0sIbXQPxk6yBDZ8XQ/lk70gPMGzr8=",
          "dtype": "f8"
         }
        },
        {
         "line": {
          "color": "red",
          "dash": "dash",
          "width": 2
         },
         "mode": "lines",
         "name": "Нулевая гипотеза N(1, 1^2)",
         "type": "scatter",
         "x": {
          "bdata": "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",
          "dtype": "f8"
         },
         "y": {
          "bdata": "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",
          "dtype": "f8"
         }
        },
        {
         "line": {
          "color": "blue",
          "dash": "dot",
          "width": 2
         },
         "mode": "lines",
         "name": "Альтернативная гипотеза N(-0.104, 1^2)",
         "type": "scatter",
         "x": {
          "bdata": "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",
          "dtype": "f8"
         },
         "y": {
          "bdata": "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",
          "dtype": "f8"
         }
        }
       ],
       "layout": {
        "template": {
         "data": {
          "bar": [
           {
            "error_x": {
             "color": "#2a3f5f"
            },
            "error_y": {
             "color": "#2a3f5f"
            },
            "marker": {
             "line": {
              "color": "#E5ECF6",
              "width": 0.5
             },
             "pattern": {
              "fillmode": "overlay",
              "size": 10,
              "solidity": 0.2
             }
            },
            "type": "bar"
           }
          ],
          "barpolar": [
           {
            "marker": {
             "line": {
              "color": "#E5ECF6",
              "width": 0.5
             },
             "pattern": {
              "fillmode": "overlay",
              "size": 10,
              "solidity": 0.2
             }
            },
            "type": "barpolar"
           }
          ],
          "carpet": [
           {
            "aaxis": {
             "endlinecolor": "#2a3f5f",
             "gridcolor": "white",
             "linecolor": "white",
             "minorgridcolor": "white",
             "startlinecolor": "#2a3f5f"
            },
            "baxis": {
             "endlinecolor": "#2a3f5f",
             "gridcolor": "white",
             "linecolor": "white",
             "minorgridcolor": "white",
             "startlinecolor": "#2a3f5f"
            },
            "type": "carpet"
           }
          ],
          "choropleth": [
           {
            "colorbar": {
             "outlinewidth": 0,
             "ticks": ""
            },
            "type": "choropleth"
           }
          ],
          "contour": [
           {
            "colorbar": {
             "outlinewidth": 0,
             "ticks": ""
            },
            "colorscale": [
             [
              0,
              "#0d0887"
             ],
             [
              0.1111111111111111,
              "#46039f"
             ],
             [
              0.2222222222222222,
              "#7201a8"
             ],
             [
              0.3333333333333333,
              "#9c179e"
             ],
             [
              0.4444444444444444,
              "#bd3786"
             ],
             [
              0.5555555555555556,
              "#d8576b"
             ],
             [
              0.6666666666666666,
              "#ed7953"
             ],
             [
              0.7777777777777778,
              "#fb9f3a"
             ],
             [
              0.8888888888888888,
              "#fdca26"
             ],
             [
              1,
              "#f0f921"
             ]
            ],
            "type": "contour"
           }
          ],
          "contourcarpet": [
           {
            "colorbar": {
             "outlinewidth": 0,
             "ticks": ""
            },
            "type": "contourcarpet"
           }
          ],
          "heatmap": [
           {
            "colorbar": {
             "outlinewidth": 0,
             "ticks": ""
            },
            "colorscale": [
             [
              0,
              "#0d0887"
             ],
             [
              0.1111111111111111,
              "#46039f"
             ],
             [
              0.2222222222222222,
              "#7201a8"
             ],
             [
              0.3333333333333333,
              "#9c179e"
             ],
             [
              0.4444444444444444,
              "#bd3786"
             ],
             [
              0.5555555555555556,
              "#d8576b"
             ],
             [
              0.6666666666666666,
              "#ed7953"
             ],
             [
              0.7777777777777778,
              "#fb9f3a"
             ],
             [
              0.8888888888888888,
              "#fdca26"
             ],
             [
              1,
              "#f0f921"
             ]
            ],
            "type": "heatmap"
           }
          ],
          "histogram": [
           {
            "marker": {
             "pattern": {
              "fillmode": "overlay",
              "size": 10,
              "solidity": 0.2
             }
            },
            "type": "histogram"
           }
          ],
          "histogram2d": [
           {
            "colorbar": {
             "outlinewidth": 0,
             "ticks": ""
            },
            "colorscale": [
             [
              0,
              "#0d0887"
             ],
             [
              0.1111111111111111,
              "#46039f"
             ],
             [
              0.2222222222222222,
              "#7201a8"
             ],
             [
              0.3333333333333333,
              "#9c179e"
             ],
             [
              0.4444444444444444,
              "#bd3786"
             ],
             [
              0.5555555555555556,
              "#d8576b"
             ],
             [
              0.6666666666666666,
              "#ed7953"
             ],
             [
              0.7777777777777778,
              "#fb9f3a"
             ],
             [
              0.8888888888888888,
              "#fdca26"
             ],
             [
              1,
              "#f0f921"
             ]
            ],
            "type": "histogram2d"
           }
          ],
          "histogram2dcontour": [
           {
            "colorbar": {
             "outlinewidth": 0,
             "ticks": ""
            },
            "colorscale": [
             [
              0,
              "#0d0887"
             ],
             [
              0.1111111111111111,
              "#46039f"
             ],
             [
              0.2222222222222222,
              "#7201a8"
             ],
             [
              0.3333333333333333,
              "#9c179e"
             ],
             [
              0.4444444444444444,
              "#bd3786"
             ],
             [
              0.5555555555555556,
              "#d8576b"
             ],
             [
              0.6666666666666666,
              "#ed7953"
             ],
             [
              0.7777777777777778,
              "#fb9f3a"
             ],
             [
              0.8888888888888888,
              "#fdca26"
             ],
             [
              1,
              "#f0f921"
             ]
            ],
            "type": "histogram2dcontour"
           }
          ],
          "mesh3d": [
           {
            "colorbar": {
             "outlinewidth": 0,
             "ticks": ""
            },
            "type": "mesh3d"
           }
          ],
          "parcoords": [
           {
            "line": {
             "colorbar": {
              "outlinewidth": 0,
              "ticks": ""
             }
            },
            "type": "parcoords"
           }
          ],
          "pie": [
           {
            "automargin": true,
            "type": "pie"
           }
          ],
          "scatter": [
           {
            "fillpattern": {
             "fillmode": "overlay",
             "size": 10,
             "solidity": 0.2
            },
            "type": "scatter"
           }
          ],
          "scatter3d": [
           {
            "line": {
             "colorbar": {
              "outlinewidth": 0,
              "ticks": ""
             }
            },
            "marker": {
             "colorbar": {
              "outlinewidth": 0,
              "ticks": ""
             }
            },
            "type": "scatter3d"
           }
          ],
          "scattercarpet": [
           {
            "marker": {
             "colorbar": {
              "outlinewidth": 0,
              "ticks": ""
             }
            },
            "type": "scattercarpet"
           }
          ],
          "scattergeo": [
           {
            "marker": {
             "colorbar": {
              "outlinewidth": 0,
              "ticks": ""
             }
            },
            "type": "scattergeo"
           }
          ],
          "scattergl": [
           {
            "marker": {
             "colorbar": {
              "outlinewidth": 0,
              "ticks": ""
             }
            },
            "type": "scattergl"
           }
          ],
          "scattermap": [
           {
            "marker": {
             "colorbar": {
              "outlinewidth": 0,
              "ticks": ""
             }
            },
            "type": "scattermap"
           }
          ],
          "scattermapbox": [
           {
            "marker": {
             "colorbar": {
              "outlinewidth": 0,
              "ticks": ""
             }
            },
            "type": "scattermapbox"
           }
          ],
          "scatterpolar": [
           {
            "marker": {
             "colorbar": {
              "outlinewidth": 0,
              "ticks": ""
             }
            },
            "type": "scatterpolar"
           }
          ],
          "scatterpolargl": [
           {
            "marker": {
             "colorbar": {
              "outlinewidth": 0,
              "ticks": ""
             }
            },
            "type": "scatterpolargl"
           }
          ],
          "scatterternary": [
           {
            "marker": {
             "colorbar": {
              "outlinewidth": 0,
              "ticks": ""
             }
            },
            "type": "scatterternary"
           }
          ],
          "surface": [
           {
            "colorbar": {
             "outlinewidth": 0,
             "ticks": ""
            },
            "colorscale": [
             [
              0,
              "#0d0887"
             ],
             [
              0.1111111111111111,
              "#46039f"
             ],
             [
              0.2222222222222222,
              "#7201a8"
             ],
             [
              0.3333333333333333,
              "#9c179e"
             ],
             [
              0.4444444444444444,
              "#bd3786"
             ],
             [
              0.5555555555555556,
              "#d8576b"
             ],
             [
              0.6666666666666666,
              "#ed7953"
             ],
             [
              0.7777777777777778,
              "#fb9f3a"
             ],
             [
              0.8888888888888888,
              "#fdca26"
             ],
             [
              1,
              "#f0f921"
             ]
            ],
            "type": "surface"
           }
          ],
          "table": [
           {
            "cells": {
             "fill": {
              "color": "#EBF0F8"
             },
             "line": {
              "color": "white"
             }
            },
            "header": {
             "fill": {
              "color": "#C8D4E3"
             },
             "line": {
              "color": "white"
             }
            },
            "type": "table"
           }
          ]
         },
         "layout": {
          "annotationdefaults": {
           "arrowcolor": "#2a3f5f",
           "arrowhead": 0,
           "arrowwidth": 1
          },
          "autotypenumbers": "strict",
          "coloraxis": {
           "colorbar": {
            "outlinewidth": 0,
            "ticks": ""
           }
          },
          "colorscale": {
           "diverging": [
            [
             0,
             "#8e0152"
            ],
            [
             0.1,
             "#c51b7d"
            ],
            [
             0.2,
             "#de77ae"
            ],
            [
             0.3,
             "#f1b6da"
            ],
            [
             0.4,
             "#fde0ef"
            ],
            [
             0.5,
             "#f7f7f7"
            ],
            [
             0.6,
             "#e6f5d0"
            ],
            [
             0.7,
             "#b8e186"
            ],
            [
             0.8,
             "#7fbc41"
            ],
            [
             0.9,
             "#4d9221"
            ],
            [
             1,
             "#276419"
            ]
           ],
           "sequential": [
            [
             0,
             "#0d0887"
            ],
            [
             0.1111111111111111,
             "#46039f"
            ],
            [
             0.2222222222222222,
             "#7201a8"
            ],
            [
             0.3333333333333333,
             "#9c179e"
            ],
            [
             0.4444444444444444,
             "#bd3786"
            ],
            [
             0.5555555555555556,
             "#d8576b"
            ],
            [
             0.6666666666666666,
             "#ed7953"
            ],
            [
             0.7777777777777778,
             "#fb9f3a"
            ],
            [
             0.8888888888888888,
             "#fdca26"
            ],
            [
             1,
             "#f0f921"
            ]
           ],
           "sequentialminus": [
            [
             0,
             "#0d0887"
            ],
            [
             0.1111111111111111,
             "#46039f"
            ],
            [
             0.2222222222222222,
             "#7201a8"
            ],
            [
             0.3333333333333333,
             "#9c179e"
            ],
            [
             0.4444444444444444,
             "#bd3786"
            ],
            [
             0.5555555555555556,
             "#d8576b"
            ],
            [
             0.6666666666666666,
             "#ed7953"
            ],
            [
             0.7777777777777778,
             "#fb9f3a"
            ],
            [
             0.8888888888888888,
             "#fdca26"
            ],
            [
             1,
             "#f0f921"
            ]
           ]
          },
          "colorway": [
           "#636efa",
           "#EF553B",
           "#00cc96",
           "#ab63fa",
           "#FFA15A",
           "#19d3f3",
           "#FF6692",
           "#B6E880",
           "#FF97FF",
           "#FECB52"
          ],
          "font": {
           "color": "#2a3f5f"
          },
          "geo": {
           "bgcolor": "white",
           "lakecolor": "white",
           "landcolor": "#E5ECF6",
           "showlakes": true,
           "showland": true,
           "subunitcolor": "white"
          },
          "hoverlabel": {
           "align": "left"
          },
          "hovermode": "closest",
          "mapbox": {
           "style": "light"
          },
          "paper_bgcolor": "white",
          "plot_bgcolor": "#E5ECF6",
          "polar": {
           "angularaxis": {
            "gridcolor": "white",
            "linecolor": "white",
            "ticks": ""
           },
           "bgcolor": "#E5ECF6",
           "radialaxis": {
            "gridcolor": "white",
            "linecolor": "white",
            "ticks": ""
           }
          },
          "scene": {
           "xaxis": {
            "backgroundcolor": "#E5ECF6",
            "gridcolor": "white",
            "gridwidth": 2,
            "linecolor": "white",
            "showbackground": true,
            "ticks": "",
            "zerolinecolor": "white"
           },
           "yaxis": {
            "backgroundcolor": "#E5ECF6",
            "gridcolor": "white",
            "gridwidth": 2,
            "linecolor": "white",
            "showbackground": true,
            "ticks": "",
            "zerolinecolor": "white"
           },
           "zaxis": {
            "backgroundcolor": "#E5ECF6",
            "gridcolor": "white",
            "gridwidth": 2,
            "linecolor": "white",
            "showbackground": true,
            "ticks": "",
            "zerolinecolor": "white"
           }
          },
          "shapedefaults": {
           "line": {
            "color": "#2a3f5f"
           }
          },
          "ternary": {
           "aaxis": {
            "gridcolor": "white",
            "linecolor": "white",
            "ticks": ""
           },
           "baxis": {
            "gridcolor": "white",
            "linecolor": "white",
            "ticks": ""
           },
           "bgcolor": "#E5ECF6",
           "caxis": {
            "gridcolor": "white",
            "linecolor": "white",
            "ticks": ""
           }
          },
          "title": {
           "x": 0.05
          },
          "xaxis": {
           "automargin": true,
           "gridcolor": "white",
           "linecolor": "white",
           "ticks": "",
           "title": {
            "standoff": 15
           },
           "zerolinecolor": "white",
           "zerolinewidth": 2
          },
          "yaxis": {
           "automargin": true,
           "gridcolor": "white",
           "linecolor": "white",
           "ticks": "",
           "title": {
            "standoff": 15
           },
           "zerolinecolor": "white",
           "zerolinewidth": 2
          }
         }
        },
        "title": {
         "text": "Распределение данных и проверяемые гипотезы"
        },
        "xaxis": {
         "title": {
          "text": "Значение"
         }
        },
        "yaxis": {
         "title": {
          "text": "Плотность вероятности"
         }
        }
       }
      }
     },
     "metadata": {},
     "output_type": "display_data"
    },
    {
     "data": {
      "application/vnd.plotly.v1+json": {
       "config": {
        "plotlyServerURL": "https://plot.ly"
       },
       "data": [
        {
         "fill": "tozeroy",
         "fillcolor": "rgba(0,100,80,0.1)",
         "line": {
          "color": "black",
          "width": 2
         },
         "mode": "lines",
         "name": "chi^2 распределение (df=1)",
         "type": "scatter",
         "x": {
          "bdata": "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",
          "dtype": "f8"
         },
         "y": {
          "bdata": "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",
          "dtype": "f8"
         }
        },
        {
         "fill": "tozeroy",
         "fillcolor": "rgba(255,0,0,0.3)",
         "line": {
          "color": "red",
          "width": 2
         },
         "mode": "lines",
         "name": "Критическая область",
         "type": "scatter",
         "x": {
          "bdata": "7X4ew067DkAEp6RmtToPQBzPKgocug9AmnvYVsEcEEClj5uodFwQQLGjXvonnBBAvbchTNvbEEDJy+SdjhsRQNTfp+9BWxFA4PNqQfWaEUDsBy6TqNoRQPgb8eRbGhJAAzC0Ng9aEkAPRHeIwpkSQBtYOtp12RJAJmz9KykZE0AygMB93FgTQD6Ug8+PmBNASqhGIUPYE0BWvAlz9hcUQGHQzMSpVxRAbeSPFl2XFEB5+FJoENcUQIQMFrrDFhVAkCDZC3dWFUCcNJxdKpYVQKhIX6/d1RVAs1wiAZEVFkC/cOVSRFUWQMuEqKT3lBZA1phr9qrUFkDirC5IXhQXQO7A8ZkRVBdA+tS068STF0AG6Xc9eNMXQBH9Oo8rExhAHRH+4N5SGEAoJcEykpIYQDQ5hIRF0hhAQE1H1vgRGUBMYQoorFEZQFh1zXlfkRlAZImQyxLRGUBvnVMdxhAaQHuxFm95UBpAhsXZwCyQGkCS2ZwS4M8aQJ7tX2STDxtAqgEjtkZPG0C2FeYH+o4bQMEpqVmtzhtAzT1sq2AOHEDYUS/9E04cQORl8k7HjRxA8Hm1oHrNHED8jXjyLQ0dQAiiO0ThTB1AFLb+lZSMHUAfysHnR8wdQCvehDn7Cx5ANvJHi65LHkBCBgvdYYseQE4azi4Vyx5AWi6RgMgKH0BmQlTSe0ofQHJWFyQvih9AfGradeLJH0BEv87jygQgQEpJsIykJCBAUNORNX5EIEBWXXPeV2QgQFznVIcxhCBAYnE2MAukIEBo+xfZ5MMgQG2F+YG+4yBAcw/bKpgDIUB5mbzTcSMhQH8jnnxLQyFAha1/JSVjIUCLN2HO/oIhQJHBQnfYoiFAlkskILLCIUCc1QXJi+IhQKJf53FlAiJAqOnIGj8iIkCuc6rDGEIiQLT9i2zyYSJAuodtFcyBIkDAEU++paEiQMWbMGd/wSJAyyUSEFnhIkDRr/O4MgEjQNc51WEMISNA3cO2CuZAI0DjTZizv2AjQOnXeVyZgCNA7mFbBXOgI0D06zyuTMAjQPp1Hlcm4CNAAAAAAAAAJEA=",
          "dtype": "f8"
         },
         "y": {
          "bdata": "yLztKP6Inj+T2Qdb+lydP1o9S0ZlPZw/OzNLxqspmz94y1eVQiGaP7C+TsylI5k/C6MxbFgwmD+CE6Dw40aXP9rfa+rXZpY/8A2SocmPlT8tw/W9U8GUP9thSvYV+5M/LYqoxLQ8kz/7d1Yg2YWSP9eaVzww1pE/wG5hSmstkT83sNxBP4uQPz1NRFXJ3o8/ORBT1i6zjj+HCM8zLZONP3LHO6NIfow/E+vLEAt0iz9BkoTSA3SKP1cEEmDHfYk/T/L3Du+QiD8hxM7SGK2HP6/IRQHn0YY/sOynGQD/hT+O4aWPDjSFP+xoLZnAcIQ/TtcZ/8e0gz/C243w2f+CPwA9ytiuUYI/Zo5YNwKqgT/+6GN6kgiBP0Z9HNsgbYA/HL0KeOKufz9UgRwSlI5+P70LujLoeH0/COtZJXVtfD/WiFac1Wt7P4+KdH2oc3o/XUQMsZCEeT932a7zNJ54P5RFIqo/wHc/z/qRt17qdj8T/dNVQxx2P7p5pO+hVXU/X8e7/DGWdD8wg6Tfrd1zP1YpOcXSK3M/sBCyhWCAcj9DHy6HGdtxP9vioaHCO3E/H/QZBCOicD8Gsz4bBA5wP0f7EPJi/m4/tAQpe/HqbT9afBYCU+FsPzstFX0q4Ws/8p0MgB7qaj+jtyQW2ftpPwWcFp0HFmk/xnAjolo4aD/AJpzAhWJnP5du5oE/lGY/hyTsPkHNZT+bg+MCRw1lPzJoX28PVGQ/etCXoVuhYz+Xo9sY7/RiP0KUHZ6PTmI/NbSOLAWuYT+GAjrbGRNhP8PolMeZfWA/xXbyAabaXz+s0vvpKsReP18mSLllt10/OZWdVP2zXD/ibvjwm7lbPwGxbvLux1o/8wp0zKbeWT/OhW7jdv1YP0K6jG8VJFg/4jvPYDtSVz+dlTdEpIdWPwTdDyoOxFU//4E+jTkHVT+9mZo76VBUP5ZyNT/ioFM/DsiOyOv2Uj+pbqkZz1JSP2zK9nFXtFE/JNYP+1EbUT/Y8DK2jYdQPw8d/NS28U8/QJm6JxveTj8okkyl8NNNPwbosbfi0kw/jNL905/aSz8=",
          "dtype": "f8"
         }
        }
       ],
       "layout": {
        "annotations": [
         {
          "showarrow": false,
          "text": "Статистика теста = 121.848",
          "x": 121.84771339630686,
          "xanchor": "left",
          "xref": "x",
          "y": 1,
          "yanchor": "top",
          "yref": "y domain"
         },
         {
          "showarrow": false,
          "text": "Критическое значение = 3.841",
          "x": 3.8414588206941205,
          "xanchor": "right",
          "xref": "x",
          "y": 1,
          "yanchor": "top",
          "yref": "y domain"
         }
        ],
        "shapes": [
         {
          "line": {
           "color": "blue",
           "dash": "dash"
          },
          "type": "line",
          "x0": 121.84771339630686,
          "x1": 121.84771339630686,
          "xref": "x",
          "y0": 0,
          "y1": 1,
          "yref": "y domain"
         },
         {
          "line": {
           "color": "green",
           "dash": "dash"
          },
          "type": "line",
          "x0": 3.8414588206941205,
          "x1": 3.8414588206941205,
          "xref": "x",
          "y0": 0,
          "y1": 1,
          "yref": "y domain"
         }
        ],
        "showlegend": true,
        "template": {
         "data": {
          "bar": [
           {
            "error_x": {
             "color": "#2a3f5f"
            },
            "error_y": {
             "color": "#2a3f5f"
            },
            "marker": {
             "line": {
              "color": "#E5ECF6",
              "width": 0.5
             },
             "pattern": {
              "fillmode": "overlay",
              "size": 10,
              "solidity": 0.2
             }
            },
            "type": "bar"
           }
          ],
          "barpolar": [
           {
            "marker": {
             "line": {
              "color": "#E5ECF6",
              "width": 0.5
             },
             "pattern": {
              "fillmode": "overlay",
              "size": 10,
              "solidity": 0.2
             }
            },
            "type": "barpolar"
           }
          ],
          "carpet": [
           {
            "aaxis": {
             "endlinecolor": "#2a3f5f",
             "gridcolor": "white",
             "linecolor": "white",
             "minorgridcolor": "white",
             "startlinecolor": "#2a3f5f"
            },
            "baxis": {
             "endlinecolor": "#2a3f5f",
             "gridcolor": "white",
             "linecolor": "white",
             "minorgridcolor": "white",
             "startlinecolor": "#2a3f5f"
            },
            "type": "carpet"
           }
          ],
          "choropleth": [
           {
            "colorbar": {
             "outlinewidth": 0,
             "ticks": ""
            },
            "type": "choropleth"
           }
          ],
          "contour": [
           {
            "colorbar": {
             "outlinewidth": 0,
             "ticks": ""
            },
            "colorscale": [
             [
              0,
              "#0d0887"
             ],
             [
              0.1111111111111111,
              "#46039f"
             ],
             [
              0.2222222222222222,
              "#7201a8"
             ],
             [
              0.3333333333333333,
              "#9c179e"
             ],
             [
              0.4444444444444444,
              "#bd3786"
             ],
             [
              0.5555555555555556,
              "#d8576b"
             ],
             [
              0.6666666666666666,
              "#ed7953"
             ],
             [
              0.7777777777777778,
              "#fb9f3a"
             ],
             [
              0.8888888888888888,
              "#fdca26"
             ],
             [
              1,
              "#f0f921"
             ]
            ],
            "type": "contour"
           }
          ],
          "contourcarpet": [
           {
            "colorbar": {
             "outlinewidth": 0,
             "ticks": ""
            },
            "type": "contourcarpet"
           }
          ],
          "heatmap": [
           {
            "colorbar": {
             "outlinewidth": 0,
             "ticks": ""
            },
            "colorscale": [
             [
              0,
              "#0d0887"
             ],
             [
              0.1111111111111111,
              "#46039f"
             ],
             [
              0.2222222222222222,
              "#7201a8"
             ],
             [
              0.3333333333333333,
              "#9c179e"
             ],
             [
              0.4444444444444444,
              "#bd3786"
             ],
             [
              0.5555555555555556,
              "#d8576b"
             ],
             [
              0.6666666666666666,
              "#ed7953"
             ],
             [
              0.7777777777777778,
              "#fb9f3a"
             ],
             [
              0.8888888888888888,
              "#fdca26"
             ],
             [
              1,
              "#f0f921"
             ]
            ],
            "type": "heatmap"
           }
          ],
          "histogram": [
           {
            "marker": {
             "pattern": {
              "fillmode": "overlay",
              "size": 10,
              "solidity": 0.2
             }
            },
            "type": "histogram"
           }
          ],
          "histogram2d": [
           {
            "colorbar": {
             "outlinewidth": 0,
             "ticks": ""
            },
            "colorscale": [
             [
              0,
              "#0d0887"
             ],
             [
              0.1111111111111111,
              "#46039f"
             ],
             [
              0.2222222222222222,
              "#7201a8"
             ],
             [
              0.3333333333333333,
              "#9c179e"
             ],
             [
              0.4444444444444444,
              "#bd3786"
             ],
             [
              0.5555555555555556,
              "#d8576b"
             ],
             [
              0.6666666666666666,
              "#ed7953"
             ],
             [
              0.7777777777777778,
              "#fb9f3a"
             ],
             [
              0.8888888888888888,
              "#fdca26"
             ],
             [
              1,
              "#f0f921"
             ]
            ],
            "type": "histogram2d"
           }
          ],
          "histogram2dcontour": [
           {
            "colorbar": {
             "outlinewidth": 0,
             "ticks": ""
            },
            "colorscale": [
             [
              0,
              "#0d0887"
             ],
             [
              0.1111111111111111,
              "#46039f"
             ],
             [
              0.2222222222222222,
              "#7201a8"
             ],
             [
              0.3333333333333333,
              "#9c179e"
             ],
             [
              0.4444444444444444,
              "#bd3786"
             ],
             [
              0.5555555555555556,
              "#d8576b"
             ],
             [
              0.6666666666666666,
              "#ed7953"
             ],
             [
              0.7777777777777778,
              "#fb9f3a"
             ],
             [
              0.8888888888888888,
              "#fdca26"
             ],
             [
              1,
              "#f0f921"
             ]
            ],
            "type": "histogram2dcontour"
           }
          ],
          "mesh3d": [
           {
            "colorbar": {
             "outlinewidth": 0,
             "ticks": ""
            },
            "type": "mesh3d"
           }
          ],
          "parcoords": [
           {
            "line": {
             "colorbar": {
              "outlinewidth": 0,
              "ticks": ""
             }
            },
            "type": "parcoords"
           }
          ],
          "pie": [
           {
            "automargin": true,
            "type": "pie"
           }
          ],
          "scatter": [
           {
            "fillpattern": {
             "fillmode": "overlay",
             "size": 10,
             "solidity": 0.2
            },
            "type": "scatter"
           }
          ],
          "scatter3d": [
           {
            "line": {
             "colorbar": {
              "outlinewidth": 0,
              "ticks": ""
             }
            },
            "marker": {
             "colorbar": {
              "outlinewidth": 0,
              "ticks": ""
             }
            },
            "type": "scatter3d"
           }
          ],
          "scattercarpet": [
           {
            "marker": {
             "colorbar": {
              "outlinewidth": 0,
              "ticks": ""
             }
            },
            "type": "scattercarpet"
           }
          ],
          "scattergeo": [
           {
            "marker": {
             "colorbar": {
              "outlinewidth": 0,
              "ticks": ""
             }
            },
            "type": "scattergeo"
           }
          ],
          "scattergl": [
           {
            "marker": {
             "colorbar": {
              "outlinewidth": 0,
              "ticks": ""
             }
            },
            "type": "scattergl"
           }
          ],
          "scattermap": [
           {
            "marker": {
             "colorbar": {
              "outlinewidth": 0,
              "ticks": ""
             }
            },
            "type": "scattermap"
           }
          ],
          "scattermapbox": [
           {
            "marker": {
             "colorbar": {
              "outlinewidth": 0,
              "ticks": ""
             }
            },
            "type": "scattermapbox"
           }
          ],
          "scatterpolar": [
           {
            "marker": {
             "colorbar": {
              "outlinewidth": 0,
              "ticks": ""
             }
            },
            "type": "scatterpolar"
           }
          ],
          "scatterpolargl": [
           {
            "marker": {
             "colorbar": {
              "outlinewidth": 0,
              "ticks": ""
             }
            },
            "type": "scatterpolargl"
           }
          ],
          "scatterternary": [
           {
            "marker": {
             "colorbar": {
              "outlinewidth": 0,
              "ticks": ""
             }
            },
            "type": "scatterternary"
           }
          ],
          "surface": [
           {
            "colorbar": {
             "outlinewidth": 0,
             "ticks": ""
            },
            "colorscale": [
             [
              0,
              "#0d0887"
             ],
             [
              0.1111111111111111,
              "#46039f"
             ],
             [
              0.2222222222222222,
              "#7201a8"
             ],
             [
              0.3333333333333333,
              "#9c179e"
             ],
             [
              0.4444444444444444,
              "#bd3786"
             ],
             [
              0.5555555555555556,
              "#d8576b"
             ],
             [
              0.6666666666666666,
              "#ed7953"
             ],
             [
              0.7777777777777778,
              "#fb9f3a"
             ],
             [
              0.8888888888888888,
              "#fdca26"
             ],
             [
              1,
              "#f0f921"
             ]
            ],
            "type": "surface"
           }
          ],
          "table": [
           {
            "cells": {
             "fill": {
              "color": "#EBF0F8"
             },
             "line": {
              "color": "white"
             }
            },
            "header": {
             "fill": {
              "color": "#C8D4E3"
             },
             "line": {
              "color": "white"
             }
            },
            "type": "table"
           }
          ]
         },
         "layout": {
          "annotationdefaults": {
           "arrowcolor": "#2a3f5f",
           "arrowhead": 0,
           "arrowwidth": 1
          },
          "autotypenumbers": "strict",
          "coloraxis": {
           "colorbar": {
            "outlinewidth": 0,
            "ticks": ""
           }
          },
          "colorscale": {
           "diverging": [
            [
             0,
             "#8e0152"
            ],
            [
             0.1,
             "#c51b7d"
            ],
            [
             0.2,
             "#de77ae"
            ],
            [
             0.3,
             "#f1b6da"
            ],
            [
             0.4,
             "#fde0ef"
            ],
            [
             0.5,
             "#f7f7f7"
            ],
            [
             0.6,
             "#e6f5d0"
            ],
            [
             0.7,
             "#b8e186"
            ],
            [
             0.8,
             "#7fbc41"
            ],
            [
             0.9,
             "#4d9221"
            ],
            [
             1,
             "#276419"
            ]
           ],
           "sequential": [
            [
             0,
             "#0d0887"
            ],
            [
             0.1111111111111111,
             "#46039f"
            ],
            [
             0.2222222222222222,
             "#7201a8"
            ],
            [
             0.3333333333333333,
             "#9c179e"
            ],
            [
             0.4444444444444444,
             "#bd3786"
            ],
            [
             0.5555555555555556,
             "#d8576b"
            ],
            [
             0.6666666666666666,
             "#ed7953"
            ],
            [
             0.7777777777777778,
             "#fb9f3a"
            ],
            [
             0.8888888888888888,
             "#fdca26"
            ],
            [
             1,
             "#f0f921"
            ]
           ],
           "sequentialminus": [
            [
             0,
             "#0d0887"
            ],
            [
             0.1111111111111111,
             "#46039f"
            ],
            [
             0.2222222222222222,
             "#7201a8"
            ],
            [
             0.3333333333333333,
             "#9c179e"
            ],
            [
             0.4444444444444444,
             "#bd3786"
            ],
            [
             0.5555555555555556,
             "#d8576b"
            ],
            [
             0.6666666666666666,
             "#ed7953"
            ],
            [
             0.7777777777777778,
             "#fb9f3a"
            ],
            [
             0.8888888888888888,
             "#fdca26"
            ],
            [
             1,
             "#f0f921"
            ]
           ]
          },
          "colorway": [
           "#636efa",
           "#EF553B",
           "#00cc96",
           "#ab63fa",
           "#FFA15A",
           "#19d3f3",
           "#FF6692",
           "#B6E880",
           "#FF97FF",
           "#FECB52"
          ],
          "font": {
           "color": "#2a3f5f"
          },
          "geo": {
           "bgcolor": "white",
           "lakecolor": "white",
           "landcolor": "#E5ECF6",
           "showlakes": true,
           "showland": true,
           "subunitcolor": "white"
          },
          "hoverlabel": {
           "align": "left"
          },
          "hovermode": "closest",
          "mapbox": {
           "style": "light"
          },
          "paper_bgcolor": "white",
          "plot_bgcolor": "#E5ECF6",
          "polar": {
           "angularaxis": {
            "gridcolor": "white",
            "linecolor": "white",
            "ticks": ""
           },
           "bgcolor": "#E5ECF6",
           "radialaxis": {
            "gridcolor": "white",
            "linecolor": "white",
            "ticks": ""
           }
          },
          "scene": {
           "xaxis": {
            "backgroundcolor": "#E5ECF6",
            "gridcolor": "white",
            "gridwidth": 2,
            "linecolor": "white",
            "showbackground": true,
            "ticks": "",
            "zerolinecolor": "white"
           },
           "yaxis": {
            "backgroundcolor": "#E5ECF6",
            "gridcolor": "white",
            "gridwidth": 2,
            "linecolor": "white",
            "showbackground": true,
            "ticks": "",
            "zerolinecolor": "white"
           },
           "zaxis": {
            "backgroundcolor": "#E5ECF6",
            "gridcolor": "white",
            "gridwidth": 2,
            "linecolor": "white",
            "showbackground": true,
            "ticks": "",
            "zerolinecolor": "white"
           }
          },
          "shapedefaults": {
           "line": {
            "color": "#2a3f5f"
           }
          },
          "ternary": {
           "aaxis": {
            "gridcolor": "white",
            "linecolor": "white",
            "ticks": ""
           },
           "baxis": {
            "gridcolor": "white",
            "linecolor": "white",
            "ticks": ""
           },
           "bgcolor": "#E5ECF6",
           "caxis": {
            "gridcolor": "white",
            "linecolor": "white",
            "ticks": ""
           }
          },
          "title": {
           "x": 0.05
          },
          "xaxis": {
           "automargin": true,
           "gridcolor": "white",
           "linecolor": "white",
           "ticks": "",
           "title": {
            "standoff": 15
           },
           "zerolinecolor": "white",
           "zerolinewidth": 2
          },
          "yaxis": {
           "automargin": true,
           "gridcolor": "white",
           "linecolor": "white",
           "ticks": "",
           "title": {
            "standoff": 15
           },
           "zerolinecolor": "white",
           "zerolinewidth": 2
          }
         }
        },
        "title": {
         "text": "Распределение хи-квадрат и результат теста"
        },
        "xaxis": {
         "range": [
          0,
          10
         ],
         "title": {
          "text": "Значение статистики"
         }
        },
        "yaxis": {
         "title": {
          "text": "Плотность вероятности"
         }
        }
       }
      }
     },
     "metadata": {},
     "output_type": "display_data"
    },
    {
     "name": "stdout",
     "output_type": "stream",
     "text": [
      "Отвергаем H0: данные не согласуются с предположением mu = 1\n"
     ]
    }
   ],
   "source": [
    "np.random.seed(42)\n",
    "n = 100\n",
    "mu_true = 0\n",
    "sigma = 1\n",
    "alpha = 0.05\n",
    "hypo_mu = 1\n",
    "\n",
    "data = np.random.normal(loc=mu_true, scale=sigma, size=n)\n",
    "mu_hat = np.mean(data)\n",
    "\n",
    "print(\"Оцененное среднее:\", mu_hat)\n",
    "\n",
    "# Вычисление логарифмов правдоподобия\n",
    "logL_R = np.sum(stats.norm.logpdf(data, loc=hypo_mu, scale=sigma))\n",
    "logL_UR = np.sum(stats.norm.logpdf(data, loc=mu_hat, scale=sigma))\n",
    "\n",
    "# Вычисление статистики теста\n",
    "test_statistic = -2 * (logL_R - logL_UR)\n",
    "critical_value = stats.chi2.ppf(1 - alpha, df=1)\n",
    "p_value = 1 - stats.chi2.cdf(test_statistic, df=1)\n",
    "\n",
    "print(\"Статистика теста: {:.4f}\".format(test_statistic))\n",
    "print(\"Критическое значение: {:.4f}\".format(critical_value))\n",
    "print(\"p-value: {:.4f}\".format(p_value))\n",
    "\n",
    "fig1 = go.Figure()\n",
    "\n",
    "fig1.add_trace(\n",
    "    go.Histogram(\n",
    "        x=data, name=\"Данные\", nbinsx=20, opacity=0.7, histnorm=\"probability density\"\n",
    "    )\n",
    ")\n",
    "\n",
    "x_range = np.linspace(-4, 4, 200)\n",
    "\n",
    "fig1.add_trace(\n",
    "    go.Scatter(\n",
    "        x=x_range,\n",
    "        y=stats.norm.pdf(x_range, hypo_mu, sigma),\n",
    "        mode=\"lines\",\n",
    "        name=f\"Нулевая гипотеза N({hypo_mu}, {sigma}^2)\",\n",
    "        line=dict(color=\"red\", width=2, dash=\"dash\"),\n",
    "    )\n",
    ")\n",
    "\n",
    "fig1.add_trace(\n",
    "    go.Scatter(\n",
    "        x=x_range,\n",
    "        y=stats.norm.pdf(x_range, mu_hat, sigma),\n",
    "        mode=\"lines\",\n",
    "        name=f\"Альтернативная гипотеза N({mu_hat:.3f}, {sigma}^2)\",\n",
    "        line=dict(color=\"blue\", width=2, dash=\"dot\"),\n",
    "    )\n",
    ")\n",
    "\n",
    "fig1.update_layout(\n",
    "    title=\"Распределение данных и проверяемые гипотезы\",\n",
    "    xaxis_title=\"Значение\",\n",
    "    yaxis_title=\"Плотность вероятности\",\n",
    ")\n",
    "fig1.show()\n",
    "\n",
    "x_chi2 = np.linspace(0, 10, 300)\n",
    "y_chi2 = stats.chi2.pdf(x_chi2, df=1)\n",
    "\n",
    "fig2 = go.Figure()\n",
    "\n",
    "fig2.add_trace(\n",
    "    go.Scatter(\n",
    "        x=x_chi2,\n",
    "        y=y_chi2,\n",
    "        mode=\"lines\",\n",
    "        name=\"chi^2 распределение (df=1)\",\n",
    "        line=dict(color=\"black\", width=2),\n",
    "        fill=\"tozeroy\",\n",
    "        fillcolor=\"rgba(0,100,80,0.1)\",\n",
    "    )\n",
    ")\n",
    "\n",
    "x_critical = np.linspace(critical_value, 10, 100)\n",
    "y_critical = stats.chi2.pdf(x_critical, df=1)\n",
    "\n",
    "fig2.add_trace(\n",
    "    go.Scatter(\n",
    "        x=x_critical,\n",
    "        y=y_critical,\n",
    "        mode=\"lines\",\n",
    "        name=\"Критическая область\",\n",
    "        line=dict(color=\"red\", width=2),\n",
    "        fill=\"tozeroy\",\n",
    "        fillcolor=\"rgba(255,0,0,0.3)\",\n",
    "    )\n",
    ")\n",
    "\n",
    "fig2.add_vline(\n",
    "    x=test_statistic,\n",
    "    line_dash=\"dash\",\n",
    "    line_color=\"blue\",\n",
    "    annotation_text=f\"Статистика теста = {test_statistic:.3f}\",\n",
    "    annotation_position=\"top right\",\n",
    ")\n",
    "\n",
    "fig2.add_vline(\n",
    "    x=critical_value,\n",
    "    line_dash=\"dash\",\n",
    "    line_color=\"green\",\n",
    "    annotation_text=f\"Критическое значение = {critical_value:.3f}\",\n",
    "    annotation_position=\"top left\",\n",
    ")\n",
    "\n",
    "fig2.update_layout(\n",
    "    title=\"Распределение хи-квадрат и результат теста\",\n",
    "    xaxis_title=\"Значение статистики\",\n",
    "    yaxis_title=\"Плотность вероятности\",\n",
    "    showlegend=True,\n",
    "    xaxis=dict(range=[0, 10]),\n",
    ")\n",
    "fig2.show()\n",
    "\n",
    "\n",
    "if p_value < alpha:\n",
    "    print(f\"Отвергаем H0: данные не согласуются с предположением mu = {hypo_mu}\")\n",
    "else:\n",
    "    print(\n",
    "        f\"Нет оснований отвергать H0: данные согласуются с предположением mu = {hypo_mu}\"\n",
    "    )"
   ]
  },
  {
   "cell_type": "markdown",
   "id": "77a72e4d",
   "metadata": {},
   "source": [
    "6. А теперь тест отношения правдоподобий с гипотезой о том, что среднее равно единице, а дисперсия двойке"
   ]
  },
  {
   "cell_type": "code",
   "execution_count": 33,
   "id": "38db8517",
   "metadata": {},
   "outputs": [
    {
     "name": "stdout",
     "output_type": "stream",
     "text": [
      "Оцененное среднее: -0.10384651739409384\n",
      "Оцененное стандартное отклонение: 0.9036161766446296\n",
      "Оцененная дисперсия: 0.8165221946938583\n",
      "\n",
      "Результаты теста:\n",
      "Статистика теста: 91.3348\n",
      "Критическое значение (alpha=0.05, df=2): 5.9915\n",
      "p-value: 0.0000\n"
     ]
    },
    {
     "data": {
      "application/vnd.plotly.v1+json": {
       "config": {
        "plotlyServerURL": "https://plot.ly"
       },
       "data": [
        {
         "histnorm": "probability density",
         "name": "Данные",
         "nbinsx": 20,
         "opacity": 0.7,
         "type": "histogram",
         "x": {
          "bdata": "fDCpKCrK3z8qBd4FpbLBv2heJFDdueQ/K6oBjlRe+D9AplffvPjNvzvbcCYz+M2/CHRAqHRE+T/z1/BG047oP4ueeUveC96/fS1q4aZc4T9wG8Guoqjdv+fvFiuEzt2/cPmepZ74zj++Ne6+y5z+vxLk7nBDmfu/YzyhakL+4b95UaNnjjTwvx+GFtigHNQ/+wOLgYgO7b/IExTEy5j2v0ENnx9Mc/c/2Zhm4TzmzL/GNbFGh0mxP2InDcHEy/a/KPrKUZVr4b81BjE/bGW8PxX1zj14avK/6N19s28L2D/SOz2hbjjjv6DS80Icq9K/p/2pOS5B479X9hhz7qL9P4KDsNZupIu/RMyHS2Ls8L83Lh+1SVLqPxx64lmTiPO/tWnv0gq8yj/DMFAPz1r/v/9asANAQPW/QDr0vL8yyT++nUiqhKHnPwwupFVl78U/XzGyNiCbvb/hr1BvSEXTvwa4sKwGqPe/J6aouPYI57/ZriIKG3vdv2LC1/746fA/iEEAkdf91T9OFQ2YaTX8vzhYbbDKvdQ/QA8qJjCl2L9NOahTWKnlv/nsCSfakuM/1Pz0Wvl+8D8enOD2C83tP1MVD7Xe2uq/zylztCLK07+KTA+JazPVPwBoGGqqN+8/VWYobMqq3r8Tbn1grMPHvzBuPE2Ms/G/9PWajqkj87+w1UonNgDqP/3Ng74os/U/+iMrXUFvsr9qgA6DeA7wP0KkKG0LJdc/rwoBL9Kk5L+P6aQIGyHXPyBgEDvMm/g/URmlZMpXor8w1znJxwj5P19fz+s89QTAv1gZewZN6j8prkt3t0i2P8ft4LnvItO/OIpGXqJ9tz/iHOwPFc3/v8FsDls1Hsy/04nor+7a1j8349E5dKX3PzA8v2yrleC/S3Lu+S3f6b+hdpfJZA7gv5AGx2H5Su0/gMUgGEIK1T/02ryry/PgvwNc6tKvbOA/OiugAxPauD9TvHjHI//uP3hIyAw4d+a/l5Lxpmr41L8apYzLTBjZvxD0dqaOave/IzBrdqLz0j8UgR0sIbXQPxk6yBDZ8XQ/lk70gPMGzr8=",
          "dtype": "f8"
         }
        },
        {
         "line": {
          "color": "red",
          "dash": "dash",
          "width": 3
         },
         "mode": "lines",
         "name": "Нулевая гипотеза N(1.0, 2.0)",
         "type": "scatter",
         "x": {
          "bdata": "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",
          "dtype": "f8"
         },
         "y": {
          "bdata": "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",
          "dtype": "f8"
         }
        },
        {
         "line": {
          "color": "blue",
          "dash": "dot",
          "width": 3
         },
         "mode": "lines",
         "name": "Альтернативная гипотеза N(-0.104, 0.817)",
         "type": "scatter",
         "x": {
          "bdata": "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",
          "dtype": "f8"
         },
         "y": {
          "bdata": "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",
          "dtype": "f8"
         }
        }
       ],
       "layout": {
        "height": 500,
        "template": {
         "data": {
          "bar": [
           {
            "error_x": {
             "color": "#2a3f5f"
            },
            "error_y": {
             "color": "#2a3f5f"
            },
            "marker": {
             "line": {
              "color": "#E5ECF6",
              "width": 0.5
             },
             "pattern": {
              "fillmode": "overlay",
              "size": 10,
              "solidity": 0.2
             }
            },
            "type": "bar"
           }
          ],
          "barpolar": [
           {
            "marker": {
             "line": {
              "color": "#E5ECF6",
              "width": 0.5
             },
             "pattern": {
              "fillmode": "overlay",
              "size": 10,
              "solidity": 0.2
             }
            },
            "type": "barpolar"
           }
          ],
          "carpet": [
           {
            "aaxis": {
             "endlinecolor": "#2a3f5f",
             "gridcolor": "white",
             "linecolor": "white",
             "minorgridcolor": "white",
             "startlinecolor": "#2a3f5f"
            },
            "baxis": {
             "endlinecolor": "#2a3f5f",
             "gridcolor": "white",
             "linecolor": "white",
             "minorgridcolor": "white",
             "startlinecolor": "#2a3f5f"
            },
            "type": "carpet"
           }
          ],
          "choropleth": [
           {
            "colorbar": {
             "outlinewidth": 0,
             "ticks": ""
            },
            "type": "choropleth"
           }
          ],
          "contour": [
           {
            "colorbar": {
             "outlinewidth": 0,
             "ticks": ""
            },
            "colorscale": [
             [
              0,
              "#0d0887"
             ],
             [
              0.1111111111111111,
              "#46039f"
             ],
             [
              0.2222222222222222,
              "#7201a8"
             ],
             [
              0.3333333333333333,
              "#9c179e"
             ],
             [
              0.4444444444444444,
              "#bd3786"
             ],
             [
              0.5555555555555556,
              "#d8576b"
             ],
             [
              0.6666666666666666,
              "#ed7953"
             ],
             [
              0.7777777777777778,
              "#fb9f3a"
             ],
             [
              0.8888888888888888,
              "#fdca26"
             ],
             [
              1,
              "#f0f921"
             ]
            ],
            "type": "contour"
           }
          ],
          "contourcarpet": [
           {
            "colorbar": {
             "outlinewidth": 0,
             "ticks": ""
            },
            "type": "contourcarpet"
           }
          ],
          "heatmap": [
           {
            "colorbar": {
             "outlinewidth": 0,
             "ticks": ""
            },
            "colorscale": [
             [
              0,
              "#0d0887"
             ],
             [
              0.1111111111111111,
              "#46039f"
             ],
             [
              0.2222222222222222,
              "#7201a8"
             ],
             [
              0.3333333333333333,
              "#9c179e"
             ],
             [
              0.4444444444444444,
              "#bd3786"
             ],
             [
              0.5555555555555556,
              "#d8576b"
             ],
             [
              0.6666666666666666,
              "#ed7953"
             ],
             [
              0.7777777777777778,
              "#fb9f3a"
             ],
             [
              0.8888888888888888,
              "#fdca26"
             ],
             [
              1,
              "#f0f921"
             ]
            ],
            "type": "heatmap"
           }
          ],
          "histogram": [
           {
            "marker": {
             "pattern": {
              "fillmode": "overlay",
              "size": 10,
              "solidity": 0.2
             }
            },
            "type": "histogram"
           }
          ],
          "histogram2d": [
           {
            "colorbar": {
             "outlinewidth": 0,
             "ticks": ""
            },
            "colorscale": [
             [
              0,
              "#0d0887"
             ],
             [
              0.1111111111111111,
              "#46039f"
             ],
             [
              0.2222222222222222,
              "#7201a8"
             ],
             [
              0.3333333333333333,
              "#9c179e"
             ],
             [
              0.4444444444444444,
              "#bd3786"
             ],
             [
              0.5555555555555556,
              "#d8576b"
             ],
             [
              0.6666666666666666,
              "#ed7953"
             ],
             [
              0.7777777777777778,
              "#fb9f3a"
             ],
             [
              0.8888888888888888,
              "#fdca26"
             ],
             [
              1,
              "#f0f921"
             ]
            ],
            "type": "histogram2d"
           }
          ],
          "histogram2dcontour": [
           {
            "colorbar": {
             "outlinewidth": 0,
             "ticks": ""
            },
            "colorscale": [
             [
              0,
              "#0d0887"
             ],
             [
              0.1111111111111111,
              "#46039f"
             ],
             [
              0.2222222222222222,
              "#7201a8"
             ],
             [
              0.3333333333333333,
              "#9c179e"
             ],
             [
              0.4444444444444444,
              "#bd3786"
             ],
             [
              0.5555555555555556,
              "#d8576b"
             ],
             [
              0.6666666666666666,
              "#ed7953"
             ],
             [
              0.7777777777777778,
              "#fb9f3a"
             ],
             [
              0.8888888888888888,
              "#fdca26"
             ],
             [
              1,
              "#f0f921"
             ]
            ],
            "type": "histogram2dcontour"
           }
          ],
          "mesh3d": [
           {
            "colorbar": {
             "outlinewidth": 0,
             "ticks": ""
            },
            "type": "mesh3d"
           }
          ],
          "parcoords": [
           {
            "line": {
             "colorbar": {
              "outlinewidth": 0,
              "ticks": ""
             }
            },
            "type": "parcoords"
           }
          ],
          "pie": [
           {
            "automargin": true,
            "type": "pie"
           }
          ],
          "scatter": [
           {
            "fillpattern": {
             "fillmode": "overlay",
             "size": 10,
             "solidity": 0.2
            },
            "type": "scatter"
           }
          ],
          "scatter3d": [
           {
            "line": {
             "colorbar": {
              "outlinewidth": 0,
              "ticks": ""
             }
            },
            "marker": {
             "colorbar": {
              "outlinewidth": 0,
              "ticks": ""
             }
            },
            "type": "scatter3d"
           }
          ],
          "scattercarpet": [
           {
            "marker": {
             "colorbar": {
              "outlinewidth": 0,
              "ticks": ""
             }
            },
            "type": "scattercarpet"
           }
          ],
          "scattergeo": [
           {
            "marker": {
             "colorbar": {
              "outlinewidth": 0,
              "ticks": ""
             }
            },
            "type": "scattergeo"
           }
          ],
          "scattergl": [
           {
            "marker": {
             "colorbar": {
              "outlinewidth": 0,
              "ticks": ""
             }
            },
            "type": "scattergl"
           }
          ],
          "scattermap": [
           {
            "marker": {
             "colorbar": {
              "outlinewidth": 0,
              "ticks": ""
             }
            },
            "type": "scattermap"
           }
          ],
          "scattermapbox": [
           {
            "marker": {
             "colorbar": {
              "outlinewidth": 0,
              "ticks": ""
             }
            },
            "type": "scattermapbox"
           }
          ],
          "scatterpolar": [
           {
            "marker": {
             "colorbar": {
              "outlinewidth": 0,
              "ticks": ""
             }
            },
            "type": "scatterpolar"
           }
          ],
          "scatterpolargl": [
           {
            "marker": {
             "colorbar": {
              "outlinewidth": 0,
              "ticks": ""
             }
            },
            "type": "scatterpolargl"
           }
          ],
          "scatterternary": [
           {
            "marker": {
             "colorbar": {
              "outlinewidth": 0,
              "ticks": ""
             }
            },
            "type": "scatterternary"
           }
          ],
          "surface": [
           {
            "colorbar": {
             "outlinewidth": 0,
             "ticks": ""
            },
            "colorscale": [
             [
              0,
              "#0d0887"
             ],
             [
              0.1111111111111111,
              "#46039f"
             ],
             [
              0.2222222222222222,
              "#7201a8"
             ],
             [
              0.3333333333333333,
              "#9c179e"
             ],
             [
              0.4444444444444444,
              "#bd3786"
             ],
             [
              0.5555555555555556,
              "#d8576b"
             ],
             [
              0.6666666666666666,
              "#ed7953"
             ],
             [
              0.7777777777777778,
              "#fb9f3a"
             ],
             [
              0.8888888888888888,
              "#fdca26"
             ],
             [
              1,
              "#f0f921"
             ]
            ],
            "type": "surface"
           }
          ],
          "table": [
           {
            "cells": {
             "fill": {
              "color": "#EBF0F8"
             },
             "line": {
              "color": "white"
             }
            },
            "header": {
             "fill": {
              "color": "#C8D4E3"
             },
             "line": {
              "color": "white"
             }
            },
            "type": "table"
           }
          ]
         },
         "layout": {
          "annotationdefaults": {
           "arrowcolor": "#2a3f5f",
           "arrowhead": 0,
           "arrowwidth": 1
          },
          "autotypenumbers": "strict",
          "coloraxis": {
           "colorbar": {
            "outlinewidth": 0,
            "ticks": ""
           }
          },
          "colorscale": {
           "diverging": [
            [
             0,
             "#8e0152"
            ],
            [
             0.1,
             "#c51b7d"
            ],
            [
             0.2,
             "#de77ae"
            ],
            [
             0.3,
             "#f1b6da"
            ],
            [
             0.4,
             "#fde0ef"
            ],
            [
             0.5,
             "#f7f7f7"
            ],
            [
             0.6,
             "#e6f5d0"
            ],
            [
             0.7,
             "#b8e186"
            ],
            [
             0.8,
             "#7fbc41"
            ],
            [
             0.9,
             "#4d9221"
            ],
            [
             1,
             "#276419"
            ]
           ],
           "sequential": [
            [
             0,
             "#0d0887"
            ],
            [
             0.1111111111111111,
             "#46039f"
            ],
            [
             0.2222222222222222,
             "#7201a8"
            ],
            [
             0.3333333333333333,
             "#9c179e"
            ],
            [
             0.4444444444444444,
             "#bd3786"
            ],
            [
             0.5555555555555556,
             "#d8576b"
            ],
            [
             0.6666666666666666,
             "#ed7953"
            ],
            [
             0.7777777777777778,
             "#fb9f3a"
            ],
            [
             0.8888888888888888,
             "#fdca26"
            ],
            [
             1,
             "#f0f921"
            ]
           ],
           "sequentialminus": [
            [
             0,
             "#0d0887"
            ],
            [
             0.1111111111111111,
             "#46039f"
            ],
            [
             0.2222222222222222,
             "#7201a8"
            ],
            [
             0.3333333333333333,
             "#9c179e"
            ],
            [
             0.4444444444444444,
             "#bd3786"
            ],
            [
             0.5555555555555556,
             "#d8576b"
            ],
            [
             0.6666666666666666,
             "#ed7953"
            ],
            [
             0.7777777777777778,
             "#fb9f3a"
            ],
            [
             0.8888888888888888,
             "#fdca26"
            ],
            [
             1,
             "#f0f921"
            ]
           ]
          },
          "colorway": [
           "#636efa",
           "#EF553B",
           "#00cc96",
           "#ab63fa",
           "#FFA15A",
           "#19d3f3",
           "#FF6692",
           "#B6E880",
           "#FF97FF",
           "#FECB52"
          ],
          "font": {
           "color": "#2a3f5f"
          },
          "geo": {
           "bgcolor": "white",
           "lakecolor": "white",
           "landcolor": "#E5ECF6",
           "showlakes": true,
           "showland": true,
           "subunitcolor": "white"
          },
          "hoverlabel": {
           "align": "left"
          },
          "hovermode": "closest",
          "mapbox": {
           "style": "light"
          },
          "paper_bgcolor": "white",
          "plot_bgcolor": "#E5ECF6",
          "polar": {
           "angularaxis": {
            "gridcolor": "white",
            "linecolor": "white",
            "ticks": ""
           },
           "bgcolor": "#E5ECF6",
           "radialaxis": {
            "gridcolor": "white",
            "linecolor": "white",
            "ticks": ""
           }
          },
          "scene": {
           "xaxis": {
            "backgroundcolor": "#E5ECF6",
            "gridcolor": "white",
            "gridwidth": 2,
            "linecolor": "white",
            "showbackground": true,
            "ticks": "",
            "zerolinecolor": "white"
           },
           "yaxis": {
            "backgroundcolor": "#E5ECF6",
            "gridcolor": "white",
            "gridwidth": 2,
            "linecolor": "white",
            "showbackground": true,
            "ticks": "",
            "zerolinecolor": "white"
           },
           "zaxis": {
            "backgroundcolor": "#E5ECF6",
            "gridcolor": "white",
            "gridwidth": 2,
            "linecolor": "white",
            "showbackground": true,
            "ticks": "",
            "zerolinecolor": "white"
           }
          },
          "shapedefaults": {
           "line": {
            "color": "#2a3f5f"
           }
          },
          "ternary": {
           "aaxis": {
            "gridcolor": "white",
            "linecolor": "white",
            "ticks": ""
           },
           "baxis": {
            "gridcolor": "white",
            "linecolor": "white",
            "ticks": ""
           },
           "bgcolor": "#E5ECF6",
           "caxis": {
            "gridcolor": "white",
            "linecolor": "white",
            "ticks": ""
           }
          },
          "title": {
           "x": 0.05
          },
          "xaxis": {
           "automargin": true,
           "gridcolor": "white",
           "linecolor": "white",
           "ticks": "",
           "title": {
            "standoff": 15
           },
           "zerolinecolor": "white",
           "zerolinewidth": 2
          },
          "yaxis": {
           "automargin": true,
           "gridcolor": "white",
           "linecolor": "white",
           "ticks": "",
           "title": {
            "standoff": 15
           },
           "zerolinecolor": "white",
           "zerolinewidth": 2
          }
         }
        },
        "title": {
         "text": "Распределение данных и проверяемые гипотезы"
        },
        "width": 800,
        "xaxis": {
         "title": {
          "text": "Значение"
         }
        },
        "yaxis": {
         "title": {
          "text": "Плотность вероятности"
         }
        }
       }
      }
     },
     "metadata": {},
     "output_type": "display_data"
    },
    {
     "data": {
      "application/vnd.plotly.v1+json": {
       "config": {
        "plotlyServerURL": "https://plot.ly"
       },
       "data": [
        {
         "fill": "tozeroy",
         "fillcolor": "rgba(0,100,80,0.1)",
         "line": {
          "color": "black",
          "width": 2
         },
         "mode": "lines",
         "name": "chi^2 распределение (df=2)",
         "type": "scatter",
         "x": {
          "bdata": "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",
          "dtype": "f8"
         },
         "y": {
          "bdata": "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",
          "dtype": "f8"
         }
        },
        {
         "fill": "tozeroy",
         "fillcolor": "rgba(255,0,0,0.3)",
         "line": {
          "color": "red",
          "width": 2
         },
         "mode": "lines",
         "name": "Критическая область",
         "type": "scatter",
         "x": {
          "bdata": "j+Nze0L3F0Bv5ixbcFQYQE7p5TqesRhALuyeGswOGUAN71f6+WsZQO3xENonyRlAzPTJuVUmGkCs94KZg4MaQIv6O3mx4BpAa/30WN89G0BKAK44DZsbQCoDZxg7+BtACQYg+GhVHEDpCNnXlrIcQMgLkrfEDx1AqA5Ll/JsHUCHEQR3IModQGcUvVZOJx5ARhd2NnyEHkAmGi8WquEeQAUd6PXXPh9A5R+h1QWcH0DEIlq1M/kfQNKSicowKyBAQhRmusdZIECylUKqXoggQCEXH5r1tiBAkZj7iYzlIEABGth5IxQhQHCbtGm6QiFA4ByRWVFxIUBQnm1J6J8hQMAfSjl/ziFAMKEmKRb9IUCfIgMZrSsiQA+k3whEWiJAfyW8+NqIIkDuppjocbciQF4oddgI5iJAzqlRyJ8UI0A+Ky64NkMjQK6sCqjNcSNAHS7nl2SgI0CNr8OH+84jQP0woHeS/SNAbLJ8ZyksJEDcM1lXwFokQEy1NUdXiSRAvDYSN+63JEAsuO4mheYkQJw5yxYcFSVAC7unBrNDJUB7PIT2SXIlQOq9YObgoCVAWj891nfPJUDKwBnGDv4lQDpC9rWlLCZAqsPSpTxbJkAaRa+V04kmQInGi4VquCZA+UdodQHnJkBoyURlmBUnQNhKIVUvRCdASMz9RMZyJ0C4Tdo0XaEnQCjPtiT0zydAmFCTFIv+J0AI0m8EIi0oQHdTTPS4WyhA59Qo5E+KKEBWVgXU5rgoQMbX4cN95yhANlm+sxQWKUCm2pqjq0QpQBZcd5NCcylAht1Tg9mhKUD1XjBzcNApQGXgDGMH/ylA1GHpUp4tKkBE48VCNVwqQLRkojLMiipAJOZ+ImO5KkCUZ1sS+ucqQATpNwKRFitAc2oU8idFK0Dj6/DhvnMrQFJtzdFVoitAwu6pwezQK0AycIaxg/8rQKLxYqEaLixAEnM/kbFcLECC9BuBSIssQPJ1+HDfuSxAYPfUYHboLEDQeLFQDRctQED6jUCkRS1AsHtqMDt0LUAg/UYg0qItQJB+IxBp0S1AAAAAAAAALkA=",
          "dtype": "f8"
         },
         "y": {
          "bdata": "oJmZmZmZmT+VhzyjG3aYP5sq+LiUX5c/pvPFOnFVlj9TvooZJFeVP/stU4wmZJQ/q1bjyPd7kz9u1HO/HJ6SPzIjeNkfypE/16RLu5D/kD9FTaQIBD6QP9jHVlcmCo8/x2M8PbiojT8PlrNvAleMP8fRbPBRFIs/kQ4wt/vfiT8YPTZXXLmIP5LqiqjXn4c/2ipIddiShj9y6oAq0JGFP0O+r4w2nIQ/ZyOCb4mxgz8d6tlwTNGCP9o54LYI+4E/tz0HsUwugT++Fdnbq2qAPzBM6A59X38/GJAsQUP6fT+/eDP47KR8P04TkEnFXns//1zQVh8nej/kfN3xVf14P2dCb0XL4Hc/44FkgejQdj9j+NOKHc11P55Yq6/g1HQ/Awa0Xa7ncz/nztbcCAVzP/aveQx4LHI/20/UI4ldcT+ncxl1zpdwP+laqma+tW8/9urBda5Mbj9MeaC4rfNsP6uuclMFqms/Sb1/jAZvaj9Tso1vCkJpP/FAZHVxImg/vB8/L6MPZz9WKAP2DQlmP6FmC50mDmU/8CxlKGgeZD8UFFSGUzljPwmM+EtvXmI/TUr1dEeNYT+xevElbcVgP5oa13F2BmA/U7VcQ/yfXj+0ifD9RkNdP1Vw2EAU9ls/Hh36cbO3Wj/87hfSe4dZPxBxYCPMZFg/C0H4UwpPVz9GDlEso0VWP9dpIgEKSFU/RgzbaLhVVD+HDGP0LW5TP8pFCevvkFI/rNd3CYm9UT9MR41DifNQP9NP+YiFMlA/ydH7GC/0Tj/Z3Wwbu5NNP+xgkEr0Qkw/BtXBJigBSz9q7dEgrM1JP3oxoD/dp0g/n+y5yR+PRz8vqtDy3oJGP/F+3IyMgkU/tFLAvKCNRD9ROUiymaNDP7iwW2P7w0I/dEw/Sk/uQT8X9sImJCJBPy93O8INX0A/h/dObElJPz81T8NqDOU9P05jha+nkDw/CIkv0GZLOz8IPaVonRQ6P+YztL+m6zg/gM3Fb+XPNz+ApHITw8A2P4QDzPWvvTU//P4wxiLGND+31YZPmNkzP6AErjKT9zI/1DEPpJsfMj8=",
          "dtype": "f8"
         }
        }
       ],
       "layout": {
        "annotations": [
         {
          "showarrow": false,
          "text": "Статистика теста = 91.335",
          "x": 91.33480291058231,
          "xanchor": "left",
          "xref": "x",
          "y": 1,
          "yanchor": "top",
          "yref": "y domain"
         },
         {
          "showarrow": false,
          "text": "Критическое значение = 5.991",
          "x": 5.99146454710798,
          "xanchor": "right",
          "xref": "x",
          "y": 1,
          "yanchor": "top",
          "yref": "y domain"
         }
        ],
        "height": 500,
        "shapes": [
         {
          "line": {
           "color": "blue",
           "dash": "dash"
          },
          "type": "line",
          "x0": 91.33480291058231,
          "x1": 91.33480291058231,
          "xref": "x",
          "y0": 0,
          "y1": 1,
          "yref": "y domain"
         },
         {
          "line": {
           "color": "green",
           "dash": "dash"
          },
          "type": "line",
          "x0": 5.99146454710798,
          "x1": 5.99146454710798,
          "xref": "x",
          "y0": 0,
          "y1": 1,
          "yref": "y domain"
         }
        ],
        "showlegend": true,
        "template": {
         "data": {
          "bar": [
           {
            "error_x": {
             "color": "#2a3f5f"
            },
            "error_y": {
             "color": "#2a3f5f"
            },
            "marker": {
             "line": {
              "color": "#E5ECF6",
              "width": 0.5
             },
             "pattern": {
              "fillmode": "overlay",
              "size": 10,
              "solidity": 0.2
             }
            },
            "type": "bar"
           }
          ],
          "barpolar": [
           {
            "marker": {
             "line": {
              "color": "#E5ECF6",
              "width": 0.5
             },
             "pattern": {
              "fillmode": "overlay",
              "size": 10,
              "solidity": 0.2
             }
            },
            "type": "barpolar"
           }
          ],
          "carpet": [
           {
            "aaxis": {
             "endlinecolor": "#2a3f5f",
             "gridcolor": "white",
             "linecolor": "white",
             "minorgridcolor": "white",
             "startlinecolor": "#2a3f5f"
            },
            "baxis": {
             "endlinecolor": "#2a3f5f",
             "gridcolor": "white",
             "linecolor": "white",
             "minorgridcolor": "white",
             "startlinecolor": "#2a3f5f"
            },
            "type": "carpet"
           }
          ],
          "choropleth": [
           {
            "colorbar": {
             "outlinewidth": 0,
             "ticks": ""
            },
            "type": "choropleth"
           }
          ],
          "contour": [
           {
            "colorbar": {
             "outlinewidth": 0,
             "ticks": ""
            },
            "colorscale": [
             [
              0,
              "#0d0887"
             ],
             [
              0.1111111111111111,
              "#46039f"
             ],
             [
              0.2222222222222222,
              "#7201a8"
             ],
             [
              0.3333333333333333,
              "#9c179e"
             ],
             [
              0.4444444444444444,
              "#bd3786"
             ],
             [
              0.5555555555555556,
              "#d8576b"
             ],
             [
              0.6666666666666666,
              "#ed7953"
             ],
             [
              0.7777777777777778,
              "#fb9f3a"
             ],
             [
              0.8888888888888888,
              "#fdca26"
             ],
             [
              1,
              "#f0f921"
             ]
            ],
            "type": "contour"
           }
          ],
          "contourcarpet": [
           {
            "colorbar": {
             "outlinewidth": 0,
             "ticks": ""
            },
            "type": "contourcarpet"
           }
          ],
          "heatmap": [
           {
            "colorbar": {
             "outlinewidth": 0,
             "ticks": ""
            },
            "colorscale": [
             [
              0,
              "#0d0887"
             ],
             [
              0.1111111111111111,
              "#46039f"
             ],
             [
              0.2222222222222222,
              "#7201a8"
             ],
             [
              0.3333333333333333,
              "#9c179e"
             ],
             [
              0.4444444444444444,
              "#bd3786"
             ],
             [
              0.5555555555555556,
              "#d8576b"
             ],
             [
              0.6666666666666666,
              "#ed7953"
             ],
             [
              0.7777777777777778,
              "#fb9f3a"
             ],
             [
              0.8888888888888888,
              "#fdca26"
             ],
             [
              1,
              "#f0f921"
             ]
            ],
            "type": "heatmap"
           }
          ],
          "histogram": [
           {
            "marker": {
             "pattern": {
              "fillmode": "overlay",
              "size": 10,
              "solidity": 0.2
             }
            },
            "type": "histogram"
           }
          ],
          "histogram2d": [
           {
            "colorbar": {
             "outlinewidth": 0,
             "ticks": ""
            },
            "colorscale": [
             [
              0,
              "#0d0887"
             ],
             [
              0.1111111111111111,
              "#46039f"
             ],
             [
              0.2222222222222222,
              "#7201a8"
             ],
             [
              0.3333333333333333,
              "#9c179e"
             ],
             [
              0.4444444444444444,
              "#bd3786"
             ],
             [
              0.5555555555555556,
              "#d8576b"
             ],
             [
              0.6666666666666666,
              "#ed7953"
             ],
             [
              0.7777777777777778,
              "#fb9f3a"
             ],
             [
              0.8888888888888888,
              "#fdca26"
             ],
             [
              1,
              "#f0f921"
             ]
            ],
            "type": "histogram2d"
           }
          ],
          "histogram2dcontour": [
           {
            "colorbar": {
             "outlinewidth": 0,
             "ticks": ""
            },
            "colorscale": [
             [
              0,
              "#0d0887"
             ],
             [
              0.1111111111111111,
              "#46039f"
             ],
             [
              0.2222222222222222,
              "#7201a8"
             ],
             [
              0.3333333333333333,
              "#9c179e"
             ],
             [
              0.4444444444444444,
              "#bd3786"
             ],
             [
              0.5555555555555556,
              "#d8576b"
             ],
             [
              0.6666666666666666,
              "#ed7953"
             ],
             [
              0.7777777777777778,
              "#fb9f3a"
             ],
             [
              0.8888888888888888,
              "#fdca26"
             ],
             [
              1,
              "#f0f921"
             ]
            ],
            "type": "histogram2dcontour"
           }
          ],
          "mesh3d": [
           {
            "colorbar": {
             "outlinewidth": 0,
             "ticks": ""
            },
            "type": "mesh3d"
           }
          ],
          "parcoords": [
           {
            "line": {
             "colorbar": {
              "outlinewidth": 0,
              "ticks": ""
             }
            },
            "type": "parcoords"
           }
          ],
          "pie": [
           {
            "automargin": true,
            "type": "pie"
           }
          ],
          "scatter": [
           {
            "fillpattern": {
             "fillmode": "overlay",
             "size": 10,
             "solidity": 0.2
            },
            "type": "scatter"
           }
          ],
          "scatter3d": [
           {
            "line": {
             "colorbar": {
              "outlinewidth": 0,
              "ticks": ""
             }
            },
            "marker": {
             "colorbar": {
              "outlinewidth": 0,
              "ticks": ""
             }
            },
            "type": "scatter3d"
           }
          ],
          "scattercarpet": [
           {
            "marker": {
             "colorbar": {
              "outlinewidth": 0,
              "ticks": ""
             }
            },
            "type": "scattercarpet"
           }
          ],
          "scattergeo": [
           {
            "marker": {
             "colorbar": {
              "outlinewidth": 0,
              "ticks": ""
             }
            },
            "type": "scattergeo"
           }
          ],
          "scattergl": [
           {
            "marker": {
             "colorbar": {
              "outlinewidth": 0,
              "ticks": ""
             }
            },
            "type": "scattergl"
           }
          ],
          "scattermap": [
           {
            "marker": {
             "colorbar": {
              "outlinewidth": 0,
              "ticks": ""
             }
            },
            "type": "scattermap"
           }
          ],
          "scattermapbox": [
           {
            "marker": {
             "colorbar": {
              "outlinewidth": 0,
              "ticks": ""
             }
            },
            "type": "scattermapbox"
           }
          ],
          "scatterpolar": [
           {
            "marker": {
             "colorbar": {
              "outlinewidth": 0,
              "ticks": ""
             }
            },
            "type": "scatterpolar"
           }
          ],
          "scatterpolargl": [
           {
            "marker": {
             "colorbar": {
              "outlinewidth": 0,
              "ticks": ""
             }
            },
            "type": "scatterpolargl"
           }
          ],
          "scatterternary": [
           {
            "marker": {
             "colorbar": {
              "outlinewidth": 0,
              "ticks": ""
             }
            },
            "type": "scatterternary"
           }
          ],
          "surface": [
           {
            "colorbar": {
             "outlinewidth": 0,
             "ticks": ""
            },
            "colorscale": [
             [
              0,
              "#0d0887"
             ],
             [
              0.1111111111111111,
              "#46039f"
             ],
             [
              0.2222222222222222,
              "#7201a8"
             ],
             [
              0.3333333333333333,
              "#9c179e"
             ],
             [
              0.4444444444444444,
              "#bd3786"
             ],
             [
              0.5555555555555556,
              "#d8576b"
             ],
             [
              0.6666666666666666,
              "#ed7953"
             ],
             [
              0.7777777777777778,
              "#fb9f3a"
             ],
             [
              0.8888888888888888,
              "#fdca26"
             ],
             [
              1,
              "#f0f921"
             ]
            ],
            "type": "surface"
           }
          ],
          "table": [
           {
            "cells": {
             "fill": {
              "color": "#EBF0F8"
             },
             "line": {
              "color": "white"
             }
            },
            "header": {
             "fill": {
              "color": "#C8D4E3"
             },
             "line": {
              "color": "white"
             }
            },
            "type": "table"
           }
          ]
         },
         "layout": {
          "annotationdefaults": {
           "arrowcolor": "#2a3f5f",
           "arrowhead": 0,
           "arrowwidth": 1
          },
          "autotypenumbers": "strict",
          "coloraxis": {
           "colorbar": {
            "outlinewidth": 0,
            "ticks": ""
           }
          },
          "colorscale": {
           "diverging": [
            [
             0,
             "#8e0152"
            ],
            [
             0.1,
             "#c51b7d"
            ],
            [
             0.2,
             "#de77ae"
            ],
            [
             0.3,
             "#f1b6da"
            ],
            [
             0.4,
             "#fde0ef"
            ],
            [
             0.5,
             "#f7f7f7"
            ],
            [
             0.6,
             "#e6f5d0"
            ],
            [
             0.7,
             "#b8e186"
            ],
            [
             0.8,
             "#7fbc41"
            ],
            [
             0.9,
             "#4d9221"
            ],
            [
             1,
             "#276419"
            ]
           ],
           "sequential": [
            [
             0,
             "#0d0887"
            ],
            [
             0.1111111111111111,
             "#46039f"
            ],
            [
             0.2222222222222222,
             "#7201a8"
            ],
            [
             0.3333333333333333,
             "#9c179e"
            ],
            [
             0.4444444444444444,
             "#bd3786"
            ],
            [
             0.5555555555555556,
             "#d8576b"
            ],
            [
             0.6666666666666666,
             "#ed7953"
            ],
            [
             0.7777777777777778,
             "#fb9f3a"
            ],
            [
             0.8888888888888888,
             "#fdca26"
            ],
            [
             1,
             "#f0f921"
            ]
           ],
           "sequentialminus": [
            [
             0,
             "#0d0887"
            ],
            [
             0.1111111111111111,
             "#46039f"
            ],
            [
             0.2222222222222222,
             "#7201a8"
            ],
            [
             0.3333333333333333,
             "#9c179e"
            ],
            [
             0.4444444444444444,
             "#bd3786"
            ],
            [
             0.5555555555555556,
             "#d8576b"
            ],
            [
             0.6666666666666666,
             "#ed7953"
            ],
            [
             0.7777777777777778,
             "#fb9f3a"
            ],
            [
             0.8888888888888888,
             "#fdca26"
            ],
            [
             1,
             "#f0f921"
            ]
           ]
          },
          "colorway": [
           "#636efa",
           "#EF553B",
           "#00cc96",
           "#ab63fa",
           "#FFA15A",
           "#19d3f3",
           "#FF6692",
           "#B6E880",
           "#FF97FF",
           "#FECB52"
          ],
          "font": {
           "color": "#2a3f5f"
          },
          "geo": {
           "bgcolor": "white",
           "lakecolor": "white",
           "landcolor": "#E5ECF6",
           "showlakes": true,
           "showland": true,
           "subunitcolor": "white"
          },
          "hoverlabel": {
           "align": "left"
          },
          "hovermode": "closest",
          "mapbox": {
           "style": "light"
          },
          "paper_bgcolor": "white",
          "plot_bgcolor": "#E5ECF6",
          "polar": {
           "angularaxis": {
            "gridcolor": "white",
            "linecolor": "white",
            "ticks": ""
           },
           "bgcolor": "#E5ECF6",
           "radialaxis": {
            "gridcolor": "white",
            "linecolor": "white",
            "ticks": ""
           }
          },
          "scene": {
           "xaxis": {
            "backgroundcolor": "#E5ECF6",
            "gridcolor": "white",
            "gridwidth": 2,
            "linecolor": "white",
            "showbackground": true,
            "ticks": "",
            "zerolinecolor": "white"
           },
           "yaxis": {
            "backgroundcolor": "#E5ECF6",
            "gridcolor": "white",
            "gridwidth": 2,
            "linecolor": "white",
            "showbackground": true,
            "ticks": "",
            "zerolinecolor": "white"
           },
           "zaxis": {
            "backgroundcolor": "#E5ECF6",
            "gridcolor": "white",
            "gridwidth": 2,
            "linecolor": "white",
            "showbackground": true,
            "ticks": "",
            "zerolinecolor": "white"
           }
          },
          "shapedefaults": {
           "line": {
            "color": "#2a3f5f"
           }
          },
          "ternary": {
           "aaxis": {
            "gridcolor": "white",
            "linecolor": "white",
            "ticks": ""
           },
           "baxis": {
            "gridcolor": "white",
            "linecolor": "white",
            "ticks": ""
           },
           "bgcolor": "#E5ECF6",
           "caxis": {
            "gridcolor": "white",
            "linecolor": "white",
            "ticks": ""
           }
          },
          "title": {
           "x": 0.05
          },
          "xaxis": {
           "automargin": true,
           "gridcolor": "white",
           "linecolor": "white",
           "ticks": "",
           "title": {
            "standoff": 15
           },
           "zerolinecolor": "white",
           "zerolinewidth": 2
          },
          "yaxis": {
           "automargin": true,
           "gridcolor": "white",
           "linecolor": "white",
           "ticks": "",
           "title": {
            "standoff": 15
           },
           "zerolinecolor": "white",
           "zerolinewidth": 2
          }
         }
        },
        "title": {
         "text": "Распределение хи-квадрат и результат теста (df=2)"
        },
        "width": 800,
        "xaxis": {
         "range": [
          0,
          15
         ],
         "title": {
          "text": "Значение статистики"
         }
        },
        "yaxis": {
         "title": {
          "text": "Плотность вероятности"
         }
        }
       }
      }
     },
     "metadata": {},
     "output_type": "display_data"
    },
    {
     "name": "stdout",
     "output_type": "stream",
     "text": [
      "\n",
      "Отвергаем H0: данные не согласуются с предположением μ = 1.0, sigma^2 = 2.0000000000000004\n"
     ]
    }
   ],
   "source": [
    "np.random.seed(42)\n",
    "n = 100\n",
    "mu_true = 0\n",
    "sigma_true = 1\n",
    "alpha = 0.05\n",
    "hypo_mu = 1.0\n",
    "hypo_sigma = np.sqrt(2.0)\n",
    "\n",
    "data = np.random.normal(loc=mu_true, scale=sigma_true, size=n)\n",
    "\n",
    "mu_hat = np.mean(data)\n",
    "sigma_hat = np.std(data, ddof=0)\n",
    "\n",
    "print(\"Оцененное среднее:\", mu_hat)\n",
    "print(\"Оцененное стандартное отклонение:\", sigma_hat)\n",
    "print(\"Оцененная дисперсия:\", sigma_hat**2)\n",
    "\n",
    "logL_R = np.sum(stats.norm.logpdf(data, loc=hypo_mu, scale=hypo_sigma))  # при H0\n",
    "logL_UR = np.sum(stats.norm.logpdf(data, loc=mu_hat, scale=sigma_hat))  # при H1\n",
    "\n",
    "test_statistic = -2 * (logL_R - logL_UR)\n",
    "critical_value = stats.chi2.ppf(1 - alpha, df=2)\n",
    "p_value = 1 - stats.chi2.cdf(test_statistic, df=2)\n",
    "\n",
    "print(\"\\nРезультаты теста:\")\n",
    "print(\"Статистика теста: {:.4f}\".format(test_statistic))\n",
    "print(\"Критическое значение (alpha=0.05, df=2): {:.4f}\".format(critical_value))\n",
    "print(\"p-value: {:.4f}\".format(p_value))\n",
    "\n",
    "fig1 = go.Figure()\n",
    "\n",
    "fig1.add_trace(\n",
    "    go.Histogram(\n",
    "        x=data, name=\"Данные\", nbinsx=20, opacity=0.7, histnorm=\"probability density\"\n",
    "    )\n",
    ")\n",
    "\n",
    "x_range = np.linspace(-4, 4, 200)\n",
    "\n",
    "fig1.add_trace(\n",
    "    go.Scatter(\n",
    "        x=x_range,\n",
    "        y=stats.norm.pdf(x_range, hypo_mu, hypo_sigma),\n",
    "        mode=\"lines\",\n",
    "        name=f\"Нулевая гипотеза N({hypo_mu}, {hypo_sigma**2:.1f})\",\n",
    "        line=dict(color=\"red\", width=3, dash=\"dash\"),\n",
    "    )\n",
    ")\n",
    "\n",
    "fig1.add_trace(\n",
    "    go.Scatter(\n",
    "        x=x_range,\n",
    "        y=stats.norm.pdf(x_range, mu_hat, sigma_hat),\n",
    "        mode=\"lines\",\n",
    "        name=f\"Альтернативная гипотеза N({mu_hat:.3f}, {sigma_hat**2:.3f})\",\n",
    "        line=dict(color=\"blue\", width=3, dash=\"dot\"),\n",
    "    )\n",
    ")\n",
    "\n",
    "fig1.update_layout(\n",
    "    title=\"Распределение данных и проверяемые гипотезы\",\n",
    "    xaxis_title=\"Значение\",\n",
    "    yaxis_title=\"Плотность вероятности\",\n",
    "    width=800,\n",
    "    height=500,\n",
    ")\n",
    "fig1.show()\n",
    "\n",
    "x_chi2 = np.linspace(0, 15, 300)\n",
    "y_chi2 = stats.chi2.pdf(x_chi2, df=2)\n",
    "\n",
    "fig2 = go.Figure()\n",
    "\n",
    "fig2.add_trace(\n",
    "    go.Scatter(\n",
    "        x=x_chi2,\n",
    "        y=y_chi2,\n",
    "        mode=\"lines\",\n",
    "        name=\"chi^2 распределение (df=2)\",\n",
    "        line=dict(color=\"black\", width=2),\n",
    "        fill=\"tozeroy\",\n",
    "        fillcolor=\"rgba(0,100,80,0.1)\",\n",
    "    )\n",
    ")\n",
    "\n",
    "x_critical = np.linspace(critical_value, 15, 100)\n",
    "y_critical = stats.chi2.pdf(x_critical, df=2)\n",
    "\n",
    "fig2.add_trace(\n",
    "    go.Scatter(\n",
    "        x=x_critical,\n",
    "        y=y_critical,\n",
    "        mode=\"lines\",\n",
    "        name=\"Критическая область\",\n",
    "        line=dict(color=\"red\", width=2),\n",
    "        fill=\"tozeroy\",\n",
    "        fillcolor=\"rgba(255,0,0,0.3)\",\n",
    "    )\n",
    ")\n",
    "\n",
    "# Статистика теста\n",
    "fig2.add_vline(\n",
    "    x=test_statistic,\n",
    "    line_dash=\"dash\",\n",
    "    line_color=\"blue\",\n",
    "    annotation_text=f\"Статистика теста = {test_statistic:.3f}\",\n",
    "    annotation_position=\"top right\",\n",
    ")\n",
    "\n",
    "fig2.add_vline(\n",
    "    x=critical_value,\n",
    "    line_dash=\"dash\",\n",
    "    line_color=\"green\",\n",
    "    annotation_text=f\"Критическое значение = {critical_value:.3f}\",\n",
    "    annotation_position=\"top left\",\n",
    ")\n",
    "\n",
    "fig2.update_layout(\n",
    "    title=\"Распределение хи-квадрат и результат теста (df=2)\",\n",
    "    xaxis_title=\"Значение статистики\",\n",
    "    yaxis_title=\"Плотность вероятности\",\n",
    "    showlegend=True,\n",
    "    xaxis=dict(range=[0, 15]),\n",
    "    width=800,\n",
    "    height=500,\n",
    ")\n",
    "fig2.show()\n",
    "\n",
    "\n",
    "if p_value < alpha:\n",
    "    print(\n",
    "        f\"\\nОтвергаем H0: данные не согласуются с предположением μ = {hypo_mu}, sigma^2 = {hypo_sigma**2}\"\n",
    "    )\n",
    "else:\n",
    "    print(\n",
    "        f\"\\nНет оснований отвергать H0: данные согласуются с предположением μ = {hypo_mu}, sigma^2 = {hypo_sigma**2}\"\n",
    "    )"
   ]
  },
  {
   "cell_type": "markdown",
   "id": "b3c673a5",
   "metadata": {},
   "source": [
    "## Практика\n",
    "\n",
    "* На практике для давно известных распределений никто не оценивает параметры ММП в каждой задаче, а просто используют уже известные оценки, выведенные в общем виде.\n",
    "\n",
    "* Например, для аналитики спорта очень часто используют Пуассоновское распределение.\n",
    "\n",
    "* Им моделируют, например, общее кол-во голов в матче, голы домашней команды, команды соперника, кол-во успешных действий конкретного игрока, кол-во красных и желтых карточек... В общем любой \"подсчет\" в единицу времени\n",
    "\n",
    "* В этой практике попробуем немного погрузиться в экономику спорта"
   ]
  },
  {
   "cell_type": "markdown",
   "id": "061e50be",
   "metadata": {},
   "source": [
    "В данной задачи будем использовать данные с <https://footystats.org/> о матчах в самых известных футбольных премьер лигах за 5 последних сезонов.\n",
    "\n",
    "Данные можно загрузить по ссылке: https://drive.google.com/drive/folders/16WZMzHd74W-O_NdUgsEPjJ9rTXywsN1t?usp=drive_link\n",
    "\n",
    "Описание данных можно найти здесь: https://footystats.org/api/documentations/match-schedule-and-stats"
   ]
  },
  {
   "cell_type": "markdown",
   "id": "73796e77",
   "metadata": {},
   "source": [
    "### TASK 1 (OPTIONAL) \n",
    "\n",
    "Если есть желание попрактиковаться, попробуйте вывести оценки ММП для распределение Пуассона в общем виде"
   ]
  },
  {
   "cell_type": "code",
   "execution_count": null,
   "id": "8cbe03c5",
   "metadata": {},
   "outputs": [],
   "source": [
    "### YOUR CODE OR LATEX HERE"
   ]
  },
  {
   "cell_type": "markdown",
   "id": "e3fd0894",
   "metadata": {},
   "source": [
    "### TASK 2: Спорт как Пуассоновская модель\n",
    "\n",
    "* Объедините все голы, забитые во всех матчах: и домашние, и гостевые, либо возьмите готовый столбец из данных. \n",
    "\n",
    "* Предположив, что общее количество голов в лиге подчиняется распределению Пуассона, найдите оценку максимального правдоподобия для параметра λ (среднее количество голов за матч в лиге)\n",
    "\n",
    "* Насколько она устойчива к изменению выборки (например, если взять только матчи одной команды или одного сезона)?\n",
    "\n",
    "* Графические иллюстрации приветствуются, но не обязательны :)"
   ]
  },
  {
   "cell_type": "code",
   "execution_count": null,
   "id": "dff83fd7",
   "metadata": {},
   "outputs": [],
   "source": [
    "def load_all_leagues_data():\n",
    "    base_path = \"../data/Footystats/\"\n",
    "    all_leagues_data = []\n",
    "\n",
    "    league_folders = [\n",
    "        f for f in os.listdir(base_path) if os.path.isdir(os.path.join(base_path, f))\n",
    "    ]\n",
    "\n",
    "    for league_folder in league_folders:\n",
    "        league_path = os.path.join(base_path, league_folder)\n",
    "        csv_files = glob.glob(os.path.join(league_path, \"*.csv\"))\n",
    "\n",
    "        league_matches = 0\n",
    "        for file in csv_files:\n",
    "            try:\n",
    "                df_league = pd.read_csv(file)\n",
    "\n",
    "                df_league[\"league\"] = league_folder\n",
    "\n",
    "                filename = os.path.basename(file)\n",
    "                season_parts = filename.split(\"-\")\n",
    "                if len(season_parts) >= 5:\n",
    "                    season = f\"{season_parts[-5]}-{season_parts[-4].split('.')[0]}\"\n",
    "                else:\n",
    "                    season = \"Unknown\"\n",
    "                df_league[\"season\"] = season\n",
    "\n",
    "                all_leagues_data.append(df_league)\n",
    "                league_matches += len(df_league)\n",
    "\n",
    "            except Exception as e:\n",
    "                print(f\"Ошибка загрузки {file}: {e}\")\n",
    "\n",
    "    if all_leagues_data:\n",
    "        df_all = pd.concat(all_leagues_data, ignore_index=True)\n",
    "        return df_all\n",
    "\n",
    "\n",
    "df_all = load_all_leagues_data()"
   ]
  },
  {
   "cell_type": "code",
   "execution_count": null,
   "id": "dcff7e01",
   "metadata": {},
   "outputs": [],
   "source": [
    "def convert_footystats_date(date_str):\n",
    "    try:\n",
    "        date_part = date_str.split(\" - \")[0]\n",
    "        return datetime.datetime.strptime(date_part, \"%b %d %Y\")\n",
    "    except:\n",
    "        return pd.NaT"
   ]
  },
  {
   "cell_type": "code",
   "execution_count": null,
   "id": "b59697d1",
   "metadata": {},
   "outputs": [
    {
     "name": "stdout",
     "output_type": "stream",
     "text": [
      "1. ОЦЕНКА ММП ДЛЯ ВСЕХ ДАННЫХ:\n",
      "\tВсего матчей: 24,255\n",
      "\tВсего голов: 67,183.0\n",
      "\tlambda_mle_all = 2.7699\n"
     ]
    },
    {
     "data": {
      "application/vnd.plotly.v1+json": {
       "config": {
        "plotlyServerURL": "https://plot.ly"
       },
       "data": [
        {
         "marker": {
          "color": "lightblue"
         },
         "name": "Наблюдаемые данные",
         "opacity": 0.7,
         "text": {
          "bdata": "AAAAAAD0mUAAAAAAAESvQAAAAAAABbdAAAAAAADotEAAAAAAABCtQAAAAAAAZKBAAAAAAADIjUAAAAAAAMB5QAAAAAAAAF9AAAAAAAAAPkAAAAAAAAAcQAAAAAAAAABAAAAAAAAA8D8=",
          "dtype": "f8"
         },
         "type": "bar",
         "x": {
          "bdata": "AAAAAAAAAAAAAAAAAADwPwAAAAAAAABAAAAAAAAACEAAAAAAAAAQQAAAAAAAABRAAAAAAAAAGEAAAAAAAAAcQAAAAAAAACBAAAAAAAAAIkAAAAAAAAAkQAAAAAAAACZAAAAAAAAAKkA=",
          "dtype": "f8"
         },
         "y": {
          "bdata": "fQaiDwUX6BSIDjIIuQOcAXwAHgAHAAIAAQA=",
          "dtype": "i2"
         }
        },
        {
         "mode": "lines+markers",
         "name": "Пуассон (lambda=2.770)",
         "type": "scatter",
         "x": {
          "bdata": "AAAAAAAAAAAAAAAAAADwPwAAAAAAAABAAAAAAAAACEAAAAAAAAAQQAAAAAAAABRAAAAAAAAAGEAAAAAAAAAcQAAAAAAAACBAAAAAAAAAIkAAAAAAAAAkQAAAAAAAACZAAAAAAAAAKEAAAAAAAAAqQA==",
          "dtype": "f8"
         },
         "y": {
          "bdata": "F4m211DAl0CzPhijaHKwQDFpVxYgx7ZAQVsWz80HtUD5F5VYMiCtQP8SsuiGIqBABsZagFPLjUCsQMjQLpR3QJ4buSTZU2BAqKNU25kZREDDgqKoCkUmQB/YWak3bgZAykyjZbe15D8Cs0fmd6bBPw==",
          "dtype": "f8"
         }
        }
       ],
       "layout": {
        "template": {
         "data": {
          "bar": [
           {
            "error_x": {
             "color": "#2a3f5f"
            },
            "error_y": {
             "color": "#2a3f5f"
            },
            "marker": {
             "line": {
              "color": "#E5ECF6",
              "width": 0.5
             },
             "pattern": {
              "fillmode": "overlay",
              "size": 10,
              "solidity": 0.2
             }
            },
            "type": "bar"
           }
          ],
          "barpolar": [
           {
            "marker": {
             "line": {
              "color": "#E5ECF6",
              "width": 0.5
             },
             "pattern": {
              "fillmode": "overlay",
              "size": 10,
              "solidity": 0.2
             }
            },
            "type": "barpolar"
           }
          ],
          "carpet": [
           {
            "aaxis": {
             "endlinecolor": "#2a3f5f",
             "gridcolor": "white",
             "linecolor": "white",
             "minorgridcolor": "white",
             "startlinecolor": "#2a3f5f"
            },
            "baxis": {
             "endlinecolor": "#2a3f5f",
             "gridcolor": "white",
             "linecolor": "white",
             "minorgridcolor": "white",
             "startlinecolor": "#2a3f5f"
            },
            "type": "carpet"
           }
          ],
          "choropleth": [
           {
            "colorbar": {
             "outlinewidth": 0,
             "ticks": ""
            },
            "type": "choropleth"
           }
          ],
          "contour": [
           {
            "colorbar": {
             "outlinewidth": 0,
             "ticks": ""
            },
            "colorscale": [
             [
              0,
              "#0d0887"
             ],
             [
              0.1111111111111111,
              "#46039f"
             ],
             [
              0.2222222222222222,
              "#7201a8"
             ],
             [
              0.3333333333333333,
              "#9c179e"
             ],
             [
              0.4444444444444444,
              "#bd3786"
             ],
             [
              0.5555555555555556,
              "#d8576b"
             ],
             [
              0.6666666666666666,
              "#ed7953"
             ],
             [
              0.7777777777777778,
              "#fb9f3a"
             ],
             [
              0.8888888888888888,
              "#fdca26"
             ],
             [
              1,
              "#f0f921"
             ]
            ],
            "type": "contour"
           }
          ],
          "contourcarpet": [
           {
            "colorbar": {
             "outlinewidth": 0,
             "ticks": ""
            },
            "type": "contourcarpet"
           }
          ],
          "heatmap": [
           {
            "colorbar": {
             "outlinewidth": 0,
             "ticks": ""
            },
            "colorscale": [
             [
              0,
              "#0d0887"
             ],
             [
              0.1111111111111111,
              "#46039f"
             ],
             [
              0.2222222222222222,
              "#7201a8"
             ],
             [
              0.3333333333333333,
              "#9c179e"
             ],
             [
              0.4444444444444444,
              "#bd3786"
             ],
             [
              0.5555555555555556,
              "#d8576b"
             ],
             [
              0.6666666666666666,
              "#ed7953"
             ],
             [
              0.7777777777777778,
              "#fb9f3a"
             ],
             [
              0.8888888888888888,
              "#fdca26"
             ],
             [
              1,
              "#f0f921"
             ]
            ],
            "type": "heatmap"
           }
          ],
          "histogram": [
           {
            "marker": {
             "pattern": {
              "fillmode": "overlay",
              "size": 10,
              "solidity": 0.2
             }
            },
            "type": "histogram"
           }
          ],
          "histogram2d": [
           {
            "colorbar": {
             "outlinewidth": 0,
             "ticks": ""
            },
            "colorscale": [
             [
              0,
              "#0d0887"
             ],
             [
              0.1111111111111111,
              "#46039f"
             ],
             [
              0.2222222222222222,
              "#7201a8"
             ],
             [
              0.3333333333333333,
              "#9c179e"
             ],
             [
              0.4444444444444444,
              "#bd3786"
             ],
             [
              0.5555555555555556,
              "#d8576b"
             ],
             [
              0.6666666666666666,
              "#ed7953"
             ],
             [
              0.7777777777777778,
              "#fb9f3a"
             ],
             [
              0.8888888888888888,
              "#fdca26"
             ],
             [
              1,
              "#f0f921"
             ]
            ],
            "type": "histogram2d"
           }
          ],
          "histogram2dcontour": [
           {
            "colorbar": {
             "outlinewidth": 0,
             "ticks": ""
            },
            "colorscale": [
             [
              0,
              "#0d0887"
             ],
             [
              0.1111111111111111,
              "#46039f"
             ],
             [
              0.2222222222222222,
              "#7201a8"
             ],
             [
              0.3333333333333333,
              "#9c179e"
             ],
             [
              0.4444444444444444,
              "#bd3786"
             ],
             [
              0.5555555555555556,
              "#d8576b"
             ],
             [
              0.6666666666666666,
              "#ed7953"
             ],
             [
              0.7777777777777778,
              "#fb9f3a"
             ],
             [
              0.8888888888888888,
              "#fdca26"
             ],
             [
              1,
              "#f0f921"
             ]
            ],
            "type": "histogram2dcontour"
           }
          ],
          "mesh3d": [
           {
            "colorbar": {
             "outlinewidth": 0,
             "ticks": ""
            },
            "type": "mesh3d"
           }
          ],
          "parcoords": [
           {
            "line": {
             "colorbar": {
              "outlinewidth": 0,
              "ticks": ""
             }
            },
            "type": "parcoords"
           }
          ],
          "pie": [
           {
            "automargin": true,
            "type": "pie"
           }
          ],
          "scatter": [
           {
            "fillpattern": {
             "fillmode": "overlay",
             "size": 10,
             "solidity": 0.2
            },
            "type": "scatter"
           }
          ],
          "scatter3d": [
           {
            "line": {
             "colorbar": {
              "outlinewidth": 0,
              "ticks": ""
             }
            },
            "marker": {
             "colorbar": {
              "outlinewidth": 0,
              "ticks": ""
             }
            },
            "type": "scatter3d"
           }
          ],
          "scattercarpet": [
           {
            "marker": {
             "colorbar": {
              "outlinewidth": 0,
              "ticks": ""
             }
            },
            "type": "scattercarpet"
           }
          ],
          "scattergeo": [
           {
            "marker": {
             "colorbar": {
              "outlinewidth": 0,
              "ticks": ""
             }
            },
            "type": "scattergeo"
           }
          ],
          "scattergl": [
           {
            "marker": {
             "colorbar": {
              "outlinewidth": 0,
              "ticks": ""
             }
            },
            "type": "scattergl"
           }
          ],
          "scattermap": [
           {
            "marker": {
             "colorbar": {
              "outlinewidth": 0,
              "ticks": ""
             }
            },
            "type": "scattermap"
           }
          ],
          "scattermapbox": [
           {
            "marker": {
             "colorbar": {
              "outlinewidth": 0,
              "ticks": ""
             }
            },
            "type": "scattermapbox"
           }
          ],
          "scatterpolar": [
           {
            "marker": {
             "colorbar": {
              "outlinewidth": 0,
              "ticks": ""
             }
            },
            "type": "scatterpolar"
           }
          ],
          "scatterpolargl": [
           {
            "marker": {
             "colorbar": {
              "outlinewidth": 0,
              "ticks": ""
             }
            },
            "type": "scatterpolargl"
           }
          ],
          "scatterternary": [
           {
            "marker": {
             "colorbar": {
              "outlinewidth": 0,
              "ticks": ""
             }
            },
            "type": "scatterternary"
           }
          ],
          "surface": [
           {
            "colorbar": {
             "outlinewidth": 0,
             "ticks": ""
            },
            "colorscale": [
             [
              0,
              "#0d0887"
             ],
             [
              0.1111111111111111,
              "#46039f"
             ],
             [
              0.2222222222222222,
              "#7201a8"
             ],
             [
              0.3333333333333333,
              "#9c179e"
             ],
             [
              0.4444444444444444,
              "#bd3786"
             ],
             [
              0.5555555555555556,
              "#d8576b"
             ],
             [
              0.6666666666666666,
              "#ed7953"
             ],
             [
              0.7777777777777778,
              "#fb9f3a"
             ],
             [
              0.8888888888888888,
              "#fdca26"
             ],
             [
              1,
              "#f0f921"
             ]
            ],
            "type": "surface"
           }
          ],
          "table": [
           {
            "cells": {
             "fill": {
              "color": "#EBF0F8"
             },
             "line": {
              "color": "white"
             }
            },
            "header": {
             "fill": {
              "color": "#C8D4E3"
             },
             "line": {
              "color": "white"
             }
            },
            "type": "table"
           }
          ]
         },
         "layout": {
          "annotationdefaults": {
           "arrowcolor": "#2a3f5f",
           "arrowhead": 0,
           "arrowwidth": 1
          },
          "autotypenumbers": "strict",
          "coloraxis": {
           "colorbar": {
            "outlinewidth": 0,
            "ticks": ""
           }
          },
          "colorscale": {
           "diverging": [
            [
             0,
             "#8e0152"
            ],
            [
             0.1,
             "#c51b7d"
            ],
            [
             0.2,
             "#de77ae"
            ],
            [
             0.3,
             "#f1b6da"
            ],
            [
             0.4,
             "#fde0ef"
            ],
            [
             0.5,
             "#f7f7f7"
            ],
            [
             0.6,
             "#e6f5d0"
            ],
            [
             0.7,
             "#b8e186"
            ],
            [
             0.8,
             "#7fbc41"
            ],
            [
             0.9,
             "#4d9221"
            ],
            [
             1,
             "#276419"
            ]
           ],
           "sequential": [
            [
             0,
             "#0d0887"
            ],
            [
             0.1111111111111111,
             "#46039f"
            ],
            [
             0.2222222222222222,
             "#7201a8"
            ],
            [
             0.3333333333333333,
             "#9c179e"
            ],
            [
             0.4444444444444444,
             "#bd3786"
            ],
            [
             0.5555555555555556,
             "#d8576b"
            ],
            [
             0.6666666666666666,
             "#ed7953"
            ],
            [
             0.7777777777777778,
             "#fb9f3a"
            ],
            [
             0.8888888888888888,
             "#fdca26"
            ],
            [
             1,
             "#f0f921"
            ]
           ],
           "sequentialminus": [
            [
             0,
             "#0d0887"
            ],
            [
             0.1111111111111111,
             "#46039f"
            ],
            [
             0.2222222222222222,
             "#7201a8"
            ],
            [
             0.3333333333333333,
             "#9c179e"
            ],
            [
             0.4444444444444444,
             "#bd3786"
            ],
            [
             0.5555555555555556,
             "#d8576b"
            ],
            [
             0.6666666666666666,
             "#ed7953"
            ],
            [
             0.7777777777777778,
             "#fb9f3a"
            ],
            [
             0.8888888888888888,
             "#fdca26"
            ],
            [
             1,
             "#f0f921"
            ]
           ]
          },
          "colorway": [
           "#636efa",
           "#EF553B",
           "#00cc96",
           "#ab63fa",
           "#FFA15A",
           "#19d3f3",
           "#FF6692",
           "#B6E880",
           "#FF97FF",
           "#FECB52"
          ],
          "font": {
           "color": "#2a3f5f"
          },
          "geo": {
           "bgcolor": "white",
           "lakecolor": "white",
           "landcolor": "#E5ECF6",
           "showlakes": true,
           "showland": true,
           "subunitcolor": "white"
          },
          "hoverlabel": {
           "align": "left"
          },
          "hovermode": "closest",
          "mapbox": {
           "style": "light"
          },
          "paper_bgcolor": "white",
          "plot_bgcolor": "#E5ECF6",
          "polar": {
           "angularaxis": {
            "gridcolor": "white",
            "linecolor": "white",
            "ticks": ""
           },
           "bgcolor": "#E5ECF6",
           "radialaxis": {
            "gridcolor": "white",
            "linecolor": "white",
            "ticks": ""
           }
          },
          "scene": {
           "xaxis": {
            "backgroundcolor": "#E5ECF6",
            "gridcolor": "white",
            "gridwidth": 2,
            "linecolor": "white",
            "showbackground": true,
            "ticks": "",
            "zerolinecolor": "white"
           },
           "yaxis": {
            "backgroundcolor": "#E5ECF6",
            "gridcolor": "white",
            "gridwidth": 2,
            "linecolor": "white",
            "showbackground": true,
            "ticks": "",
            "zerolinecolor": "white"
           },
           "zaxis": {
            "backgroundcolor": "#E5ECF6",
            "gridcolor": "white",
            "gridwidth": 2,
            "linecolor": "white",
            "showbackground": true,
            "ticks": "",
            "zerolinecolor": "white"
           }
          },
          "shapedefaults": {
           "line": {
            "color": "#2a3f5f"
           }
          },
          "ternary": {
           "aaxis": {
            "gridcolor": "white",
            "linecolor": "white",
            "ticks": ""
           },
           "baxis": {
            "gridcolor": "white",
            "linecolor": "white",
            "ticks": ""
           },
           "bgcolor": "#E5ECF6",
           "caxis": {
            "gridcolor": "white",
            "linecolor": "white",
            "ticks": ""
           }
          },
          "title": {
           "x": 0.05
          },
          "xaxis": {
           "automargin": true,
           "gridcolor": "white",
           "linecolor": "white",
           "ticks": "",
           "title": {
            "standoff": 15
           },
           "zerolinecolor": "white",
           "zerolinewidth": 2
          },
          "yaxis": {
           "automargin": true,
           "gridcolor": "white",
           "linecolor": "white",
           "ticks": "",
           "title": {
            "standoff": 15
           },
           "zerolinecolor": "white",
           "zerolinewidth": 2
          }
         }
        },
        "title": {
         "text": "Распределение голов: Наблюдаемые данные vs Пуассоновская модель lambda = 2.770, p-value = 0.0002"
        },
        "xaxis": {
         "title": {
          "text": "Количество голов в матче"
         }
        },
        "yaxis": {
         "title": {
          "text": "Количество матчей"
         }
        }
       }
      }
     },
     "metadata": {},
     "output_type": "display_data"
    }
   ],
   "source": [
    "home_goals_col = \"home_team_goal_count\"\n",
    "away_goals_col = \"away_team_goal_count\"\n",
    "\n",
    "total_goals_all = df_all[\"total_goal_count\"].sum()\n",
    "total_matches_all = len(df_all)\n",
    "lambda_mle_all = total_goals_all / total_matches_all\n",
    "\n",
    "print(\"1. ОЦЕНКА ММП ДЛЯ ВСЕХ ДАННЫХ:\")\n",
    "print(f\"\\tВсего матчей: {total_matches_all:,}\")\n",
    "print(f\"\\tВсего голов: {total_goals_all:,}\")\n",
    "print(f\"\\tlambda_mle_all = {lambda_mle_all:.4f}\")\n",
    "\n",
    "goal_counts = df_all[\"total_goal_count\"].value_counts().sort_index()\n",
    "x_range = np.arange(0, min(goal_counts.index.max() + 1, 14))\n",
    "poisson_pmf = stats.poisson.pmf(x_range, lambda_mle_all) * total_matches_all\n",
    "\n",
    "observed = goal_counts.reindex(x_range, fill_value=0)\n",
    "poisson_pmf_normalized = poisson_pmf * (observed.sum() / poisson_pmf.sum())\n",
    "chi2_stat, p_value = stats.chisquare(observed, poisson_pmf_normalized)\n",
    "\n",
    "fig1 = go.Figure()\n",
    "\n",
    "fig1.add_trace(\n",
    "    go.Bar(\n",
    "        x=goal_counts.index,\n",
    "        y=goal_counts.values,\n",
    "        name=\"Наблюдаемые данные\",\n",
    "        opacity=0.7,\n",
    "        marker_color=\"lightblue\",\n",
    "        text=goal_counts.values,\n",
    "    )\n",
    ")\n",
    "fig1.add_trace(\n",
    "    go.Scatter(\n",
    "        x=x_range,\n",
    "        y=poisson_pmf_normalized,\n",
    "        mode=\"lines+markers\",\n",
    "        name=f\"Пуассон (lambda={lambda_mle_all:.3f})\",\n",
    "    )\n",
    ")\n",
    "fig1.update_layout(\n",
    "    title=f\"Распределение голов: Наблюдаемые данные vs Пуассоновская модель lambda = {lambda_mle_all:.3f}, p-value = {p_value:.4f}\",\n",
    "    xaxis_title=\"Количество голов в матче\",\n",
    "    yaxis_title=\"Количество матчей\",\n",
    ")\n",
    "fig1.show()"
   ]
  },
  {
   "cell_type": "code",
   "execution_count": 113,
   "id": "7a08bd8e",
   "metadata": {},
   "outputs": [
    {
     "data": {
      "application/vnd.plotly.v1+json": {
       "config": {
        "plotlyServerURL": "https://plot.ly"
       },
       "data": [
        {
         "mode": "lines+markers+text",
         "name": "λ по сезонам",
         "type": "scatter",
         "x": [
          "matches-2020",
          "matches-2021",
          "matches-2022",
          "matches-2023",
          "matches-2024"
         ],
         "y": {
          "bdata": "8dkZ+GXEBUAI4GaYzQ8GQC/BgFrzJAZAKHjRSlrDBkDL/pXOBRYGQA==",
          "dtype": "f8"
         }
        }
       ],
       "layout": {
        "annotations": [
         {
          "showarrow": false,
          "text": "Общее λ = 2.770",
          "x": 1,
          "xanchor": "right",
          "xref": "x domain",
          "y": 2.7698618841475984,
          "yanchor": "bottom",
          "yref": "y"
         }
        ],
        "shapes": [
         {
          "line": {
           "color": "red",
           "dash": "dash"
          },
          "type": "line",
          "x0": 0,
          "x1": 1,
          "xref": "x domain",
          "y0": 2.7698618841475984,
          "y1": 2.7698618841475984,
          "yref": "y"
         }
        ],
        "template": {
         "data": {
          "bar": [
           {
            "error_x": {
             "color": "#2a3f5f"
            },
            "error_y": {
             "color": "#2a3f5f"
            },
            "marker": {
             "line": {
              "color": "#E5ECF6",
              "width": 0.5
             },
             "pattern": {
              "fillmode": "overlay",
              "size": 10,
              "solidity": 0.2
             }
            },
            "type": "bar"
           }
          ],
          "barpolar": [
           {
            "marker": {
             "line": {
              "color": "#E5ECF6",
              "width": 0.5
             },
             "pattern": {
              "fillmode": "overlay",
              "size": 10,
              "solidity": 0.2
             }
            },
            "type": "barpolar"
           }
          ],
          "carpet": [
           {
            "aaxis": {
             "endlinecolor": "#2a3f5f",
             "gridcolor": "white",
             "linecolor": "white",
             "minorgridcolor": "white",
             "startlinecolor": "#2a3f5f"
            },
            "baxis": {
             "endlinecolor": "#2a3f5f",
             "gridcolor": "white",
             "linecolor": "white",
             "minorgridcolor": "white",
             "startlinecolor": "#2a3f5f"
            },
            "type": "carpet"
           }
          ],
          "choropleth": [
           {
            "colorbar": {
             "outlinewidth": 0,
             "ticks": ""
            },
            "type": "choropleth"
           }
          ],
          "contour": [
           {
            "colorbar": {
             "outlinewidth": 0,
             "ticks": ""
            },
            "colorscale": [
             [
              0,
              "#0d0887"
             ],
             [
              0.1111111111111111,
              "#46039f"
             ],
             [
              0.2222222222222222,
              "#7201a8"
             ],
             [
              0.3333333333333333,
              "#9c179e"
             ],
             [
              0.4444444444444444,
              "#bd3786"
             ],
             [
              0.5555555555555556,
              "#d8576b"
             ],
             [
              0.6666666666666666,
              "#ed7953"
             ],
             [
              0.7777777777777778,
              "#fb9f3a"
             ],
             [
              0.8888888888888888,
              "#fdca26"
             ],
             [
              1,
              "#f0f921"
             ]
            ],
            "type": "contour"
           }
          ],
          "contourcarpet": [
           {
            "colorbar": {
             "outlinewidth": 0,
             "ticks": ""
            },
            "type": "contourcarpet"
           }
          ],
          "heatmap": [
           {
            "colorbar": {
             "outlinewidth": 0,
             "ticks": ""
            },
            "colorscale": [
             [
              0,
              "#0d0887"
             ],
             [
              0.1111111111111111,
              "#46039f"
             ],
             [
              0.2222222222222222,
              "#7201a8"
             ],
             [
              0.3333333333333333,
              "#9c179e"
             ],
             [
              0.4444444444444444,
              "#bd3786"
             ],
             [
              0.5555555555555556,
              "#d8576b"
             ],
             [
              0.6666666666666666,
              "#ed7953"
             ],
             [
              0.7777777777777778,
              "#fb9f3a"
             ],
             [
              0.8888888888888888,
              "#fdca26"
             ],
             [
              1,
              "#f0f921"
             ]
            ],
            "type": "heatmap"
           }
          ],
          "histogram": [
           {
            "marker": {
             "pattern": {
              "fillmode": "overlay",
              "size": 10,
              "solidity": 0.2
             }
            },
            "type": "histogram"
           }
          ],
          "histogram2d": [
           {
            "colorbar": {
             "outlinewidth": 0,
             "ticks": ""
            },
            "colorscale": [
             [
              0,
              "#0d0887"
             ],
             [
              0.1111111111111111,
              "#46039f"
             ],
             [
              0.2222222222222222,
              "#7201a8"
             ],
             [
              0.3333333333333333,
              "#9c179e"
             ],
             [
              0.4444444444444444,
              "#bd3786"
             ],
             [
              0.5555555555555556,
              "#d8576b"
             ],
             [
              0.6666666666666666,
              "#ed7953"
             ],
             [
              0.7777777777777778,
              "#fb9f3a"
             ],
             [
              0.8888888888888888,
              "#fdca26"
             ],
             [
              1,
              "#f0f921"
             ]
            ],
            "type": "histogram2d"
           }
          ],
          "histogram2dcontour": [
           {
            "colorbar": {
             "outlinewidth": 0,
             "ticks": ""
            },
            "colorscale": [
             [
              0,
              "#0d0887"
             ],
             [
              0.1111111111111111,
              "#46039f"
             ],
             [
              0.2222222222222222,
              "#7201a8"
             ],
             [
              0.3333333333333333,
              "#9c179e"
             ],
             [
              0.4444444444444444,
              "#bd3786"
             ],
             [
              0.5555555555555556,
              "#d8576b"
             ],
             [
              0.6666666666666666,
              "#ed7953"
             ],
             [
              0.7777777777777778,
              "#fb9f3a"
             ],
             [
              0.8888888888888888,
              "#fdca26"
             ],
             [
              1,
              "#f0f921"
             ]
            ],
            "type": "histogram2dcontour"
           }
          ],
          "mesh3d": [
           {
            "colorbar": {
             "outlinewidth": 0,
             "ticks": ""
            },
            "type": "mesh3d"
           }
          ],
          "parcoords": [
           {
            "line": {
             "colorbar": {
              "outlinewidth": 0,
              "ticks": ""
             }
            },
            "type": "parcoords"
           }
          ],
          "pie": [
           {
            "automargin": true,
            "type": "pie"
           }
          ],
          "scatter": [
           {
            "fillpattern": {
             "fillmode": "overlay",
             "size": 10,
             "solidity": 0.2
            },
            "type": "scatter"
           }
          ],
          "scatter3d": [
           {
            "line": {
             "colorbar": {
              "outlinewidth": 0,
              "ticks": ""
             }
            },
            "marker": {
             "colorbar": {
              "outlinewidth": 0,
              "ticks": ""
             }
            },
            "type": "scatter3d"
           }
          ],
          "scattercarpet": [
           {
            "marker": {
             "colorbar": {
              "outlinewidth": 0,
              "ticks": ""
             }
            },
            "type": "scattercarpet"
           }
          ],
          "scattergeo": [
           {
            "marker": {
             "colorbar": {
              "outlinewidth": 0,
              "ticks": ""
             }
            },
            "type": "scattergeo"
           }
          ],
          "scattergl": [
           {
            "marker": {
             "colorbar": {
              "outlinewidth": 0,
              "ticks": ""
             }
            },
            "type": "scattergl"
           }
          ],
          "scattermap": [
           {
            "marker": {
             "colorbar": {
              "outlinewidth": 0,
              "ticks": ""
             }
            },
            "type": "scattermap"
           }
          ],
          "scattermapbox": [
           {
            "marker": {
             "colorbar": {
              "outlinewidth": 0,
              "ticks": ""
             }
            },
            "type": "scattermapbox"
           }
          ],
          "scatterpolar": [
           {
            "marker": {
             "colorbar": {
              "outlinewidth": 0,
              "ticks": ""
             }
            },
            "type": "scatterpolar"
           }
          ],
          "scatterpolargl": [
           {
            "marker": {
             "colorbar": {
              "outlinewidth": 0,
              "ticks": ""
             }
            },
            "type": "scatterpolargl"
           }
          ],
          "scatterternary": [
           {
            "marker": {
             "colorbar": {
              "outlinewidth": 0,
              "ticks": ""
             }
            },
            "type": "scatterternary"
           }
          ],
          "surface": [
           {
            "colorbar": {
             "outlinewidth": 0,
             "ticks": ""
            },
            "colorscale": [
             [
              0,
              "#0d0887"
             ],
             [
              0.1111111111111111,
              "#46039f"
             ],
             [
              0.2222222222222222,
              "#7201a8"
             ],
             [
              0.3333333333333333,
              "#9c179e"
             ],
             [
              0.4444444444444444,
              "#bd3786"
             ],
             [
              0.5555555555555556,
              "#d8576b"
             ],
             [
              0.6666666666666666,
              "#ed7953"
             ],
             [
              0.7777777777777778,
              "#fb9f3a"
             ],
             [
              0.8888888888888888,
              "#fdca26"
             ],
             [
              1,
              "#f0f921"
             ]
            ],
            "type": "surface"
           }
          ],
          "table": [
           {
            "cells": {
             "fill": {
              "color": "#EBF0F8"
             },
             "line": {
              "color": "white"
             }
            },
            "header": {
             "fill": {
              "color": "#C8D4E3"
             },
             "line": {
              "color": "white"
             }
            },
            "type": "table"
           }
          ]
         },
         "layout": {
          "annotationdefaults": {
           "arrowcolor": "#2a3f5f",
           "arrowhead": 0,
           "arrowwidth": 1
          },
          "autotypenumbers": "strict",
          "coloraxis": {
           "colorbar": {
            "outlinewidth": 0,
            "ticks": ""
           }
          },
          "colorscale": {
           "diverging": [
            [
             0,
             "#8e0152"
            ],
            [
             0.1,
             "#c51b7d"
            ],
            [
             0.2,
             "#de77ae"
            ],
            [
             0.3,
             "#f1b6da"
            ],
            [
             0.4,
             "#fde0ef"
            ],
            [
             0.5,
             "#f7f7f7"
            ],
            [
             0.6,
             "#e6f5d0"
            ],
            [
             0.7,
             "#b8e186"
            ],
            [
             0.8,
             "#7fbc41"
            ],
            [
             0.9,
             "#4d9221"
            ],
            [
             1,
             "#276419"
            ]
           ],
           "sequential": [
            [
             0,
             "#0d0887"
            ],
            [
             0.1111111111111111,
             "#46039f"
            ],
            [
             0.2222222222222222,
             "#7201a8"
            ],
            [
             0.3333333333333333,
             "#9c179e"
            ],
            [
             0.4444444444444444,
             "#bd3786"
            ],
            [
             0.5555555555555556,
             "#d8576b"
            ],
            [
             0.6666666666666666,
             "#ed7953"
            ],
            [
             0.7777777777777778,
             "#fb9f3a"
            ],
            [
             0.8888888888888888,
             "#fdca26"
            ],
            [
             1,
             "#f0f921"
            ]
           ],
           "sequentialminus": [
            [
             0,
             "#0d0887"
            ],
            [
             0.1111111111111111,
             "#46039f"
            ],
            [
             0.2222222222222222,
             "#7201a8"
            ],
            [
             0.3333333333333333,
             "#9c179e"
            ],
            [
             0.4444444444444444,
             "#bd3786"
            ],
            [
             0.5555555555555556,
             "#d8576b"
            ],
            [
             0.6666666666666666,
             "#ed7953"
            ],
            [
             0.7777777777777778,
             "#fb9f3a"
            ],
            [
             0.8888888888888888,
             "#fdca26"
            ],
            [
             1,
             "#f0f921"
            ]
           ]
          },
          "colorway": [
           "#636efa",
           "#EF553B",
           "#00cc96",
           "#ab63fa",
           "#FFA15A",
           "#19d3f3",
           "#FF6692",
           "#B6E880",
           "#FF97FF",
           "#FECB52"
          ],
          "font": {
           "color": "#2a3f5f"
          },
          "geo": {
           "bgcolor": "white",
           "lakecolor": "white",
           "landcolor": "#E5ECF6",
           "showlakes": true,
           "showland": true,
           "subunitcolor": "white"
          },
          "hoverlabel": {
           "align": "left"
          },
          "hovermode": "closest",
          "mapbox": {
           "style": "light"
          },
          "paper_bgcolor": "white",
          "plot_bgcolor": "#E5ECF6",
          "polar": {
           "angularaxis": {
            "gridcolor": "white",
            "linecolor": "white",
            "ticks": ""
           },
           "bgcolor": "#E5ECF6",
           "radialaxis": {
            "gridcolor": "white",
            "linecolor": "white",
            "ticks": ""
           }
          },
          "scene": {
           "xaxis": {
            "backgroundcolor": "#E5ECF6",
            "gridcolor": "white",
            "gridwidth": 2,
            "linecolor": "white",
            "showbackground": true,
            "ticks": "",
            "zerolinecolor": "white"
           },
           "yaxis": {
            "backgroundcolor": "#E5ECF6",
            "gridcolor": "white",
            "gridwidth": 2,
            "linecolor": "white",
            "showbackground": true,
            "ticks": "",
            "zerolinecolor": "white"
           },
           "zaxis": {
            "backgroundcolor": "#E5ECF6",
            "gridcolor": "white",
            "gridwidth": 2,
            "linecolor": "white",
            "showbackground": true,
            "ticks": "",
            "zerolinecolor": "white"
           }
          },
          "shapedefaults": {
           "line": {
            "color": "#2a3f5f"
           }
          },
          "ternary": {
           "aaxis": {
            "gridcolor": "white",
            "linecolor": "white",
            "ticks": ""
           },
           "baxis": {
            "gridcolor": "white",
            "linecolor": "white",
            "ticks": ""
           },
           "bgcolor": "#E5ECF6",
           "caxis": {
            "gridcolor": "white",
            "linecolor": "white",
            "ticks": ""
           }
          },
          "title": {
           "x": 0.05
          },
          "xaxis": {
           "automargin": true,
           "gridcolor": "white",
           "linecolor": "white",
           "ticks": "",
           "title": {
            "standoff": 15
           },
           "zerolinecolor": "white",
           "zerolinewidth": 2
          },
          "yaxis": {
           "automargin": true,
           "gridcolor": "white",
           "linecolor": "white",
           "ticks": "",
           "title": {
            "standoff": 15
           },
           "zerolinecolor": "white",
           "zerolinewidth": 2
          }
         }
        },
        "title": {
         "text": "Устойчивость оценки λ по сезонам"
        },
        "xaxis": {
         "title": {
          "text": "Сезон"
         }
        },
        "yaxis": {
         "title": {
          "text": "λ (средние голы за матч)"
         }
        }
       }
      }
     },
     "metadata": {},
     "output_type": "display_data"
    }
   ],
   "source": [
    "season_lambdas = []\n",
    "for season in df_all[\"season\"].unique():\n",
    "    season_data = df_all[df_all[\"season\"] == season]\n",
    "    lambda_season = season_data[\"total_goal_count\"].mean()\n",
    "    season_lambdas.append(\n",
    "        {\n",
    "            \"season\": season,\n",
    "            \"lambda\": lambda_season,\n",
    "        }\n",
    "    )\n",
    "\n",
    "df_seasons = pd.DataFrame(season_lambdas).sort_values(\"season\")\n",
    "\n",
    "fig2 = go.Figure()\n",
    "fig2.add_trace(\n",
    "    go.Scatter(\n",
    "        x=df_seasons[\"season\"],\n",
    "        y=df_seasons[\"lambda\"],\n",
    "        mode=\"lines+markers+text\",\n",
    "        name=\"λ по сезонам\",\n",
    "    )\n",
    ")\n",
    "fig2.add_hline(\n",
    "    y=lambda_mle_all,\n",
    "    line_dash=\"dash\",\n",
    "    line_color=\"red\",\n",
    "    annotation_text=f\"Общее λ = {lambda_mle_all:.3f}\",\n",
    ")\n",
    "fig2.update_layout(\n",
    "    title=\"Устойчивость оценки λ по сезонам\",\n",
    "    xaxis_title=\"Сезон\",\n",
    "    yaxis_title=\"λ (средние голы за матч)\",\n",
    ")\n",
    "fig2.show()"
   ]
  },
  {
   "cell_type": "code",
   "execution_count": null,
   "id": "1a8dd7eb",
   "metadata": {},
   "outputs": [
    {
     "data": {
      "application/vnd.plotly.v1+json": {
       "config": {
        "plotlyServerURL": "https://plot.ly"
       },
       "data": [
        {
         "text": [
          "3.135",
          "3.033",
          "2.989",
          "2.972",
          "2.971",
          "2.916",
          "2.915",
          "2.848",
          "2.808",
          "2.742",
          "2.733",
          "2.557",
          "2.472",
          "2.467",
          "2.438"
         ],
         "type": "bar",
         "x": [
          "Germany - Bundesliga",
          "Netherlands - Eredivisie",
          "Germany - Bundesliga 2",
          "Switzerland - Super League",
          "Austria-Bundesliga",
          "England-Premier League",
          "Belgium-Jupiler Pro",
          "Turkey - Super Lig",
          "France-Ligue 1",
          "Russia - Premier League",
          "Italy - Serie A",
          "Spain - La Liga",
          "England-Championship",
          "Greece - Super League",
          "Italy - Serie B"
         ],
         "y": {
          "bdata": "FRUVFRUVCUCQxuOkV0MIQJQ+6ZM+6QdAHQTc+mzGB0BIfMRHfMQHQDn1e26JUwdAA47PkTdRB0C6P9Y198cGQHTnzp07dwZA7+7u7u7uBUDITjOvt9wFQCX0IZN9dQRAD2BLTALHA0Cc3vSmN70DQN1tef/WgQNA",
          "dtype": "f8"
         }
        }
       ],
       "layout": {
        "annotations": [
         {
          "showarrow": false,
          "text": "Общее λ = 2.770",
          "x": 1,
          "xanchor": "right",
          "xref": "x domain",
          "y": 2.7698618841475984,
          "yanchor": "bottom",
          "yref": "y"
         }
        ],
        "shapes": [
         {
          "line": {
           "color": "blue",
           "dash": "dash"
          },
          "type": "line",
          "x0": 0,
          "x1": 1,
          "xref": "x domain",
          "y0": 2.7698618841475984,
          "y1": 2.7698618841475984,
          "yref": "y"
         }
        ],
        "template": {
         "data": {
          "bar": [
           {
            "error_x": {
             "color": "#2a3f5f"
            },
            "error_y": {
             "color": "#2a3f5f"
            },
            "marker": {
             "line": {
              "color": "#E5ECF6",
              "width": 0.5
             },
             "pattern": {
              "fillmode": "overlay",
              "size": 10,
              "solidity": 0.2
             }
            },
            "type": "bar"
           }
          ],
          "barpolar": [
           {
            "marker": {
             "line": {
              "color": "#E5ECF6",
              "width": 0.5
             },
             "pattern": {
              "fillmode": "overlay",
              "size": 10,
              "solidity": 0.2
             }
            },
            "type": "barpolar"
           }
          ],
          "carpet": [
           {
            "aaxis": {
             "endlinecolor": "#2a3f5f",
             "gridcolor": "white",
             "linecolor": "white",
             "minorgridcolor": "white",
             "startlinecolor": "#2a3f5f"
            },
            "baxis": {
             "endlinecolor": "#2a3f5f",
             "gridcolor": "white",
             "linecolor": "white",
             "minorgridcolor": "white",
             "startlinecolor": "#2a3f5f"
            },
            "type": "carpet"
           }
          ],
          "choropleth": [
           {
            "colorbar": {
             "outlinewidth": 0,
             "ticks": ""
            },
            "type": "choropleth"
           }
          ],
          "contour": [
           {
            "colorbar": {
             "outlinewidth": 0,
             "ticks": ""
            },
            "colorscale": [
             [
              0,
              "#0d0887"
             ],
             [
              0.1111111111111111,
              "#46039f"
             ],
             [
              0.2222222222222222,
              "#7201a8"
             ],
             [
              0.3333333333333333,
              "#9c179e"
             ],
             [
              0.4444444444444444,
              "#bd3786"
             ],
             [
              0.5555555555555556,
              "#d8576b"
             ],
             [
              0.6666666666666666,
              "#ed7953"
             ],
             [
              0.7777777777777778,
              "#fb9f3a"
             ],
             [
              0.8888888888888888,
              "#fdca26"
             ],
             [
              1,
              "#f0f921"
             ]
            ],
            "type": "contour"
           }
          ],
          "contourcarpet": [
           {
            "colorbar": {
             "outlinewidth": 0,
             "ticks": ""
            },
            "type": "contourcarpet"
           }
          ],
          "heatmap": [
           {
            "colorbar": {
             "outlinewidth": 0,
             "ticks": ""
            },
            "colorscale": [
             [
              0,
              "#0d0887"
             ],
             [
              0.1111111111111111,
              "#46039f"
             ],
             [
              0.2222222222222222,
              "#7201a8"
             ],
             [
              0.3333333333333333,
              "#9c179e"
             ],
             [
              0.4444444444444444,
              "#bd3786"
             ],
             [
              0.5555555555555556,
              "#d8576b"
             ],
             [
              0.6666666666666666,
              "#ed7953"
             ],
             [
              0.7777777777777778,
              "#fb9f3a"
             ],
             [
              0.8888888888888888,
              "#fdca26"
             ],
             [
              1,
              "#f0f921"
             ]
            ],
            "type": "heatmap"
           }
          ],
          "histogram": [
           {
            "marker": {
             "pattern": {
              "fillmode": "overlay",
              "size": 10,
              "solidity": 0.2
             }
            },
            "type": "histogram"
           }
          ],
          "histogram2d": [
           {
            "colorbar": {
             "outlinewidth": 0,
             "ticks": ""
            },
            "colorscale": [
             [
              0,
              "#0d0887"
             ],
             [
              0.1111111111111111,
              "#46039f"
             ],
             [
              0.2222222222222222,
              "#7201a8"
             ],
             [
              0.3333333333333333,
              "#9c179e"
             ],
             [
              0.4444444444444444,
              "#bd3786"
             ],
             [
              0.5555555555555556,
              "#d8576b"
             ],
             [
              0.6666666666666666,
              "#ed7953"
             ],
             [
              0.7777777777777778,
              "#fb9f3a"
             ],
             [
              0.8888888888888888,
              "#fdca26"
             ],
             [
              1,
              "#f0f921"
             ]
            ],
            "type": "histogram2d"
           }
          ],
          "histogram2dcontour": [
           {
            "colorbar": {
             "outlinewidth": 0,
             "ticks": ""
            },
            "colorscale": [
             [
              0,
              "#0d0887"
             ],
             [
              0.1111111111111111,
              "#46039f"
             ],
             [
              0.2222222222222222,
              "#7201a8"
             ],
             [
              0.3333333333333333,
              "#9c179e"
             ],
             [
              0.4444444444444444,
              "#bd3786"
             ],
             [
              0.5555555555555556,
              "#d8576b"
             ],
             [
              0.6666666666666666,
              "#ed7953"
             ],
             [
              0.7777777777777778,
              "#fb9f3a"
             ],
             [
              0.8888888888888888,
              "#fdca26"
             ],
             [
              1,
              "#f0f921"
             ]
            ],
            "type": "histogram2dcontour"
           }
          ],
          "mesh3d": [
           {
            "colorbar": {
             "outlinewidth": 0,
             "ticks": ""
            },
            "type": "mesh3d"
           }
          ],
          "parcoords": [
           {
            "line": {
             "colorbar": {
              "outlinewidth": 0,
              "ticks": ""
             }
            },
            "type": "parcoords"
           }
          ],
          "pie": [
           {
            "automargin": true,
            "type": "pie"
           }
          ],
          "scatter": [
           {
            "fillpattern": {
             "fillmode": "overlay",
             "size": 10,
             "solidity": 0.2
            },
            "type": "scatter"
           }
          ],
          "scatter3d": [
           {
            "line": {
             "colorbar": {
              "outlinewidth": 0,
              "ticks": ""
             }
            },
            "marker": {
             "colorbar": {
              "outlinewidth": 0,
              "ticks": ""
             }
            },
            "type": "scatter3d"
           }
          ],
          "scattercarpet": [
           {
            "marker": {
             "colorbar": {
              "outlinewidth": 0,
              "ticks": ""
             }
            },
            "type": "scattercarpet"
           }
          ],
          "scattergeo": [
           {
            "marker": {
             "colorbar": {
              "outlinewidth": 0,
              "ticks": ""
             }
            },
            "type": "scattergeo"
           }
          ],
          "scattergl": [
           {
            "marker": {
             "colorbar": {
              "outlinewidth": 0,
              "ticks": ""
             }
            },
            "type": "scattergl"
           }
          ],
          "scattermap": [
           {
            "marker": {
             "colorbar": {
              "outlinewidth": 0,
              "ticks": ""
             }
            },
            "type": "scattermap"
           }
          ],
          "scattermapbox": [
           {
            "marker": {
             "colorbar": {
              "outlinewidth": 0,
              "ticks": ""
             }
            },
            "type": "scattermapbox"
           }
          ],
          "scatterpolar": [
           {
            "marker": {
             "colorbar": {
              "outlinewidth": 0,
              "ticks": ""
             }
            },
            "type": "scatterpolar"
           }
          ],
          "scatterpolargl": [
           {
            "marker": {
             "colorbar": {
              "outlinewidth": 0,
              "ticks": ""
             }
            },
            "type": "scatterpolargl"
           }
          ],
          "scatterternary": [
           {
            "marker": {
             "colorbar": {
              "outlinewidth": 0,
              "ticks": ""
             }
            },
            "type": "scatterternary"
           }
          ],
          "surface": [
           {
            "colorbar": {
             "outlinewidth": 0,
             "ticks": ""
            },
            "colorscale": [
             [
              0,
              "#0d0887"
             ],
             [
              0.1111111111111111,
              "#46039f"
             ],
             [
              0.2222222222222222,
              "#7201a8"
             ],
             [
              0.3333333333333333,
              "#9c179e"
             ],
             [
              0.4444444444444444,
              "#bd3786"
             ],
             [
              0.5555555555555556,
              "#d8576b"
             ],
             [
              0.6666666666666666,
              "#ed7953"
             ],
             [
              0.7777777777777778,
              "#fb9f3a"
             ],
             [
              0.8888888888888888,
              "#fdca26"
             ],
             [
              1,
              "#f0f921"
             ]
            ],
            "type": "surface"
           }
          ],
          "table": [
           {
            "cells": {
             "fill": {
              "color": "#EBF0F8"
             },
             "line": {
              "color": "white"
             }
            },
            "header": {
             "fill": {
              "color": "#C8D4E3"
             },
             "line": {
              "color": "white"
             }
            },
            "type": "table"
           }
          ]
         },
         "layout": {
          "annotationdefaults": {
           "arrowcolor": "#2a3f5f",
           "arrowhead": 0,
           "arrowwidth": 1
          },
          "autotypenumbers": "strict",
          "coloraxis": {
           "colorbar": {
            "outlinewidth": 0,
            "ticks": ""
           }
          },
          "colorscale": {
           "diverging": [
            [
             0,
             "#8e0152"
            ],
            [
             0.1,
             "#c51b7d"
            ],
            [
             0.2,
             "#de77ae"
            ],
            [
             0.3,
             "#f1b6da"
            ],
            [
             0.4,
             "#fde0ef"
            ],
            [
             0.5,
             "#f7f7f7"
            ],
            [
             0.6,
             "#e6f5d0"
            ],
            [
             0.7,
             "#b8e186"
            ],
            [
             0.8,
             "#7fbc41"
            ],
            [
             0.9,
             "#4d9221"
            ],
            [
             1,
             "#276419"
            ]
           ],
           "sequential": [
            [
             0,
             "#0d0887"
            ],
            [
             0.1111111111111111,
             "#46039f"
            ],
            [
             0.2222222222222222,
             "#7201a8"
            ],
            [
             0.3333333333333333,
             "#9c179e"
            ],
            [
             0.4444444444444444,
             "#bd3786"
            ],
            [
             0.5555555555555556,
             "#d8576b"
            ],
            [
             0.6666666666666666,
             "#ed7953"
            ],
            [
             0.7777777777777778,
             "#fb9f3a"
            ],
            [
             0.8888888888888888,
             "#fdca26"
            ],
            [
             1,
             "#f0f921"
            ]
           ],
           "sequentialminus": [
            [
             0,
             "#0d0887"
            ],
            [
             0.1111111111111111,
             "#46039f"
            ],
            [
             0.2222222222222222,
             "#7201a8"
            ],
            [
             0.3333333333333333,
             "#9c179e"
            ],
            [
             0.4444444444444444,
             "#bd3786"
            ],
            [
             0.5555555555555556,
             "#d8576b"
            ],
            [
             0.6666666666666666,
             "#ed7953"
            ],
            [
             0.7777777777777778,
             "#fb9f3a"
            ],
            [
             0.8888888888888888,
             "#fdca26"
            ],
            [
             1,
             "#f0f921"
            ]
           ]
          },
          "colorway": [
           "#636efa",
           "#EF553B",
           "#00cc96",
           "#ab63fa",
           "#FFA15A",
           "#19d3f3",
           "#FF6692",
           "#B6E880",
           "#FF97FF",
           "#FECB52"
          ],
          "font": {
           "color": "#2a3f5f"
          },
          "geo": {
           "bgcolor": "white",
           "lakecolor": "white",
           "landcolor": "#E5ECF6",
           "showlakes": true,
           "showland": true,
           "subunitcolor": "white"
          },
          "hoverlabel": {
           "align": "left"
          },
          "hovermode": "closest",
          "mapbox": {
           "style": "light"
          },
          "paper_bgcolor": "white",
          "plot_bgcolor": "#E5ECF6",
          "polar": {
           "angularaxis": {
            "gridcolor": "white",
            "linecolor": "white",
            "ticks": ""
           },
           "bgcolor": "#E5ECF6",
           "radialaxis": {
            "gridcolor": "white",
            "linecolor": "white",
            "ticks": ""
           }
          },
          "scene": {
           "xaxis": {
            "backgroundcolor": "#E5ECF6",
            "gridcolor": "white",
            "gridwidth": 2,
            "linecolor": "white",
            "showbackground": true,
            "ticks": "",
            "zerolinecolor": "white"
           },
           "yaxis": {
            "backgroundcolor": "#E5ECF6",
            "gridcolor": "white",
            "gridwidth": 2,
            "linecolor": "white",
            "showbackground": true,
            "ticks": "",
            "zerolinecolor": "white"
           },
           "zaxis": {
            "backgroundcolor": "#E5ECF6",
            "gridcolor": "white",
            "gridwidth": 2,
            "linecolor": "white",
            "showbackground": true,
            "ticks": "",
            "zerolinecolor": "white"
           }
          },
          "shapedefaults": {
           "line": {
            "color": "#2a3f5f"
           }
          },
          "ternary": {
           "aaxis": {
            "gridcolor": "white",
            "linecolor": "white",
            "ticks": ""
           },
           "baxis": {
            "gridcolor": "white",
            "linecolor": "white",
            "ticks": ""
           },
           "bgcolor": "#E5ECF6",
           "caxis": {
            "gridcolor": "white",
            "linecolor": "white",
            "ticks": ""
           }
          },
          "title": {
           "x": 0.05
          },
          "xaxis": {
           "automargin": true,
           "gridcolor": "white",
           "linecolor": "white",
           "ticks": "",
           "title": {
            "standoff": 15
           },
           "zerolinecolor": "white",
           "zerolinewidth": 2
          },
          "yaxis": {
           "automargin": true,
           "gridcolor": "white",
           "linecolor": "white",
           "ticks": "",
           "title": {
            "standoff": 15
           },
           "zerolinecolor": "white",
           "zerolinewidth": 2
          }
         }
        },
        "title": {
         "text": "Устойчивость оценки λ по лигам"
        },
        "xaxis": {
         "title": {
          "text": "Лига"
         }
        },
        "yaxis": {
         "title": {
          "text": "λ (средние голы за матч)"
         }
        }
       }
      }
     },
     "metadata": {},
     "output_type": "display_data"
    }
   ],
   "source": [
    "league_lambdas = []\n",
    "for league in df_all[\"league\"].unique():\n",
    "    league_data = df_all[df_all[\"league\"] == league]\n",
    "    lambda_league = league_data[\"total_goal_count\"].mean()\n",
    "    league_lambdas.append(\n",
    "        {\n",
    "            \"league\": league,\n",
    "            \"lambda\": lambda_league,\n",
    "        }\n",
    "    )\n",
    "\n",
    "df_leagues = pd.DataFrame(league_lambdas).sort_values(\"lambda\", ascending=False)\n",
    "\n",
    "fig3 = go.Figure()\n",
    "fig3.add_trace(\n",
    "    go.Bar(\n",
    "        x=df_leagues[\"league\"],\n",
    "        y=df_leagues[\"lambda\"],\n",
    "        text=[f\"{val:.3f}\" for val in df_leagues[\"lambda\"]],\n",
    "    )\n",
    ")\n",
    "fig3.add_hline(\n",
    "    y=lambda_mle_all,\n",
    "    line_dash=\"dash\",\n",
    "    line_color=\"blue\",\n",
    "    annotation_text=f\"Общее λ = {lambda_mle_all:.3f}\",\n",
    ")\n",
    "fig3.update_layout(\n",
    "    title=\"Устойчивость оценки λ по лигам\",\n",
    "    xaxis_title=\"Лига\",\n",
    "    yaxis_title=\"λ (средние голы за матч)\",\n",
    ")\n",
    "fig3.show()"
   ]
  },
  {
   "cell_type": "code",
   "execution_count": 122,
   "id": "2a0a887c",
   "metadata": {},
   "outputs": [
    {
     "data": {
      "application/vnd.plotly.v1+json": {
       "config": {
        "plotlyServerURL": "https://plot.ly"
       },
       "data": [
        {
         "text": [
          "3.982",
          "3.941",
          "3.765",
          "3.635",
          "3.539",
          "3.529",
          "3.456",
          "3.394",
          "3.383",
          "3.382",
          "3.353",
          "3.352",
          "3.324",
          "3.306",
          "3.294",
          "3.293",
          "3.258",
          "3.257",
          "3.255",
          "3.253",
          "3.253",
          "3.250",
          "3.250",
          "3.238",
          "3.231",
          "3.226",
          "3.225",
          "3.218",
          "3.206",
          "3.206",
          "3.200",
          "3.194",
          "3.189",
          "3.182",
          "3.182",
          "3.179",
          "3.176",
          "3.171",
          "3.170",
          "3.155",
          "3.145",
          "3.133",
          "3.132",
          "3.127",
          "3.125",
          "3.124",
          "3.121",
          "3.121",
          "3.121",
          "3.118",
          "3.117",
          "3.116",
          "3.114",
          "3.112",
          "3.104",
          "3.095",
          "3.088",
          "3.083",
          "3.079",
          "3.076",
          "3.076",
          "3.076",
          "3.068",
          "3.065",
          "3.059",
          "3.053",
          "3.053",
          "3.051",
          "3.046",
          "3.042",
          "3.037",
          "3.036",
          "3.035",
          "3.033",
          "3.033",
          "3.029",
          "3.026",
          "3.026",
          "3.022",
          "3.022",
          "3.021",
          "3.020",
          "3.018",
          "3.013",
          "3.012",
          "3.010",
          "3.009",
          "3.000",
          "3.000",
          "2.993",
          "2.990",
          "2.988",
          "2.987",
          "2.982",
          "2.980",
          "2.971",
          "2.967",
          "2.960",
          "2.956",
          "2.953",
          "2.952",
          "2.949",
          "2.949",
          "2.942",
          "2.941",
          "2.937",
          "2.932",
          "2.932",
          "2.931",
          "2.931",
          "2.930",
          "2.921",
          "2.921",
          "2.919",
          "2.918",
          "2.918",
          "2.918",
          "2.917",
          "2.916",
          "2.915",
          "2.913",
          "2.912",
          "2.906",
          "2.906",
          "2.905",
          "2.900",
          "2.900",
          "2.900",
          "2.899",
          "2.895",
          "2.892",
          "2.887",
          "2.886",
          "2.875",
          "2.874",
          "2.874",
          "2.871",
          "2.868",
          "2.868",
          "2.868",
          "2.868",
          "2.865",
          "2.859",
          "2.856",
          "2.853",
          "2.850",
          "2.850",
          "2.846",
          "2.846",
          "2.842",
          "2.842",
          "2.838",
          "2.837",
          "2.837",
          "2.833",
          "2.830",
          "2.826",
          "2.825",
          "2.824",
          "2.820",
          "2.817",
          "2.816",
          "2.814",
          "2.810",
          "2.809",
          "2.807",
          "2.806",
          "2.804",
          "2.801",
          "2.800",
          "2.800",
          "2.800",
          "2.794",
          "2.794",
          "2.794",
          "2.791",
          "2.782",
          "2.771",
          "2.768",
          "2.768",
          "2.763",
          "2.761",
          "2.756",
          "2.750",
          "2.750",
          "2.746",
          "2.742",
          "2.740",
          "2.739",
          "2.737",
          "2.736",
          "2.733",
          "2.729",
          "2.726",
          "2.724",
          "2.723",
          "2.711",
          "2.710",
          "2.708",
          "2.706",
          "2.705",
          "2.700",
          "2.688",
          "2.688",
          "2.685",
          "2.681",
          "2.680",
          "2.679",
          "2.676",
          "2.675",
          "2.675",
          "2.675",
          "2.670",
          "2.668",
          "2.667",
          "2.665",
          "2.661",
          "2.658",
          "2.648",
          "2.647",
          "2.646",
          "2.644",
          "2.638",
          "2.637",
          "2.634",
          "2.632",
          "2.632",
          "2.627",
          "2.623",
          "2.622",
          "2.615",
          "2.612",
          "2.611",
          "2.611",
          "2.609",
          "2.609",
          "2.608",
          "2.607",
          "2.606",
          "2.599",
          "2.593",
          "2.590",
          "2.590",
          "2.588",
          "2.585",
          "2.579",
          "2.577",
          "2.574",
          "2.573",
          "2.568",
          "2.568",
          "2.567",
          "2.564",
          "2.560",
          "2.553",
          "2.549",
          "2.547",
          "2.539",
          "2.534",
          "2.531",
          "2.529",
          "2.529",
          "2.528",
          "2.526",
          "2.526",
          "2.526",
          "2.525",
          "2.522",
          "2.519",
          "2.518",
          "2.513",
          "2.509",
          "2.505",
          "2.504",
          "2.502",
          "2.500",
          "2.500",
          "2.500",
          "2.497",
          "2.495",
          "2.484",
          "2.484",
          "2.484",
          "2.478",
          "2.478",
          "2.474",
          "2.474",
          "2.473",
          "2.471",
          "2.468",
          "2.465",
          "2.457",
          "2.444",
          "2.441",
          "2.439",
          "2.439",
          "2.439",
          "2.433",
          "2.432",
          "2.421",
          "2.410",
          "2.408",
          "2.407",
          "2.406",
          "2.406",
          "2.385",
          "2.384",
          "2.382",
          "2.378",
          "2.378",
          "2.363",
          "2.359",
          "2.359",
          "2.355",
          "2.353",
          "2.350",
          "2.349",
          "2.348",
          "2.348",
          "2.342",
          "2.342",
          "2.330",
          "2.325",
          "2.324",
          "2.324",
          "2.317",
          "2.316",
          "2.309",
          "2.305",
          "2.303",
          "2.289",
          "2.278",
          "2.275",
          "2.268",
          "2.268",
          "2.267",
          "2.263",
          "2.253",
          "2.239",
          "2.234",
          "2.233",
          "2.226",
          "2.204",
          "2.195",
          "2.195",
          "2.182",
          "2.174",
          "2.152",
          "2.145",
          "2.144",
          "2.138",
          "2.132",
          "2.068",
          "2.067",
          "1.917"
         ],
         "type": "bar",
         "x": [
          "Bayern München",
          "VVV",
          "PSV",
          "Borussia Dortmund",
          "Zulte-Waregem",
          "Ajax",
          "Volendam",
          "Borussia M'gladbach",
          "KVC Westerlo",
          "Hoffenheim",
          "Waasland-Beveren",
          "PSG",
          "Excelsior",
          "Hamburger SV",
          "Schalke 04",
          "Wolfsberger AC",
          "Tottenham Hotspur",
          "Austria Lustenau",
          "Fenerbahçe",
          "Bayer Leverkusen",
          "Wattens",
          "Salzburg",
          "Austria Klagenfurt",
          "Feyenoord",
          "Beerschot-Wilrijk",
          "Manchester City",
          "Kaiserslautern",
          "Stuttgart",
          "Cambuur",
          "Darmstadt 98",
          "Holstein Kiel",
          "RWDM",
          "Liverpool",
          "Karlsruher SC",
          "Eintracht Frankfurt",
          "Ipswich Town",
          "Hertha BSC",
          "Bordeaux",
          "AZ",
          "Adana Demirspor",
          "Crotone",
          "Akron",
          "Elversberg",
          "Magdeburg",
          "FCV Dender EH",
          "KV Mechelen",
          "Kifisia",
          "Atalanta",
          "Olympique Lyonnais",
          "Würzburger Kickers",
          "Kasımpaşa",
          "Sassuolo",
          "Luzern",
          "Werder Bremen",
          "Monaco",
          "KRC Genk",
          "ADO Den Haag",
          "Ümraniyespor",
          "Stade Lausanne-Ouchy",
          "RB Leipzig",
          "Bochum",
          "Greuther Fürth",
          "FC Barcelona",
          "Young Boys",
          "Paderborn",
          "Almería",
          "Girona FC",
          "Rapid Wien",
          "KV Oostende",
          "Inter Milan",
          "Newcastle United",
          "Winterthur",
          "Leicester City",
          "Montpellier",
          "St. Gallen",
          "Emmen",
          "Pendikspor",
          "Levante UD",
          "Orenburg",
          "Basel",
          "Galatasaray",
          "Dinamo Moskva",
          "Göztepe",
          "Yverdon Sport",
          "Fortuna Düsseldorf",
          "Club Brugge",
          "Saint-Étienne",
          "Gençlerbirliği",
          "St. Pölten",
          "Sion",
          "Southampton",
          "Freiburg",
          "Fatih Karagümrük",
          "Wolfsburg",
          "Rizespor",
          "RKC Waalwijk",
          "Zenit",
          "Lokomotiv Moskva",
          "Erzgebirge Aue",
          "Lausanne Sport",
          "Leeds United",
          "AS Eupen",
          "Twente",
          "West Ham United",
          "Nürnberg",
          "Heerenveen",
          "İstanbulspor",
          "Arsenal",
          "Hatayspor",
          "Austria Wien",
          "Granada CF",
          "Nîmes",
          "Villarreal",
          "Heracles",
          "Zürich",
          "Servette",
          "Fortuna Sittard",
          "Sturm Graz",
          "Utrecht",
          "Alanyaspor",
          "Plymouth Argyle",
          "Heidenheim",
          "NEC",
          "Go Ahead Eagles",
          "Lorient",
          "AC Milan",
          "Rostov",
          "Union Saint-Gilloise",
          "Beşiktaş",
          "Aston Villa",
          "Sandhausen",
          "Krasnodar",
          "Brentford",
          "Denizlispor",
          "Real Madrid",
          "Olympique Marseille",
          "KAA Gent",
          "FeralpiSalò",
          "Lecco",
          "Manchester United",
          "Rennes",
          "Mainz 05",
          "Augsburg",
          "LASK Linz",
          "RFC Seraing",
          "FK Sochi",
          "Vitesse",
          "Brest",
          "OH Leuven",
          "Lugano",
          "Troyes",
          "Osnabrück",
          "Brighton & Hove Albion",
          "Lazio",
          "Fulham",
          "Trabzonspor",
          "Peterborough United",
          "Hartberg",
          "Grasshopper",
          "Spartak Moskva",
          "Khimki",
          "Chelsea",
          "Willem II",
          "KV Kortrijk",
          "Eintracht Braunschweig",
          "PAOK",
          "Köln",
          "Portsmouth",
          "PEC Zwolle",
          "BB Erzurumspor",
          "Tambov",
          "Arsenal Tula",
          "St. Pauli",
          "Ingolstadt",
          "Le Havre",
          "Strasbourg",
          "Hannover 96",
          "Kayserispor",
          "Napoli",
          "Panserraikos",
          "RSC Anderlecht",
          "Gazişehir Gaziantep",
          "Catanzaro",
          "Jahn Regensburg",
          "Eyüpspor",
          "Norwich City",
          "Krylya Sovetov",
          "AFC Bournemouth",
          "Cercle Brugge",
          "Fiorentina",
          "Auxerre",
          "Torpedo Moskva",
          "Ried",
          "Roma",
          "Sporting Charleroi",
          "Groningen",
          "Mantova",
          "Olympiakos Piraeus",
          "Royal Antwerp FC",
          "NAC Breda",
          "Atlético Madrid",
          "Celta de Vigo",
          "Reading",
          "AEK Athens",
          "Sint-Truiden",
          "Sivasspor",
          "CSKA Moskva",
          "Crystal Palace",
          "Angers SCO",
          "Ankaragücü",
          "RCD Espanyol",
          "Rubin Kazan",
          "Toulouse",
          "Bologna",
          "Spezia",
          "Union Berlin",
          "Palermo",
          "Real Valladolid",
          "Sparta Rotterdam",
          "Arminia Bielefeld",
          "Parma",
          "İstanbul Başakşehir",
          "Ternana",
          "Udinese",
          "Middlesbrough",
          "Almere City",
          "Lens",
          "Metz",
          "Hellas Verona",
          "Sampdoria",
          "Salernitana",
          "Como",
          "Vaduz",
          "Wolverhampton Wanderers",
          "Admira",
          "Clermont",
          "Volos NFC",
          "Akhmat Grozny",
          "Antalyaspor",
          "Nantes",
          "Standard Liège",
          "Venezia",
          "Cagliari",
          "Pisa",
          "Konyaspor",
          "Dijon",
          "Vicenza",
          "Real Betis",
          "Benevento",
          "Samsunspor",
          "Giresunspor",
          "Olimpiyets",
          "Yeni Malatyaspor",
          "Lille",
          "Ajaccio",
          "Hansa Rostock",
          "Empoli",
          "Sheffield United",
          "Bristol City",
          "Rheindorf Altach",
          "Wehen Wiesbaden",
          "Royal Excel Mouscron",
          "Swansea City",
          "US Alessandria",
          "Nottingham Forest",
          "Altay",
          "Cremonese",
          "Blackpool",
          "Coventry City",
          "OFI",
          "Huddersfield Town",
          "Modena",
          "Juventus",
          "Cardiff City",
          "Luton Town",
          "Leganés",
          "Baltika",
          "Monza",
          "Brescia",
          "Valencia CF",
          "Frosinone",
          "Everton",
          "Nice",
          "Oxford United",
          "Sheffield Wednesday",
          "Blackburn Rovers",
          "Virtus Entella",
          "Watford",
          "Ulm",
          "Sevilla FC",
          "Queens Park Rangers",
          "Rotherham United",
          "Kallithea",
          "Preußen Münster",
          "Ionikos",
          "Elche CF",
          "SPAL",
          "West Bromwich Albion",
          "Burnley",
          "Lamia",
          "Cesena",
          "Birmingham City",
          "Reims",
          "Levadiakos",
          "Sunderland",
          "Lecce",
          "CA Osasuna",
          "UD Las Palmas",
          "Preston North End",
          "Atromitos",
          "Genoa",
          "Südtirol",
          "Chievo",
          "Pordenone",
          "Hull City",
          "Ufa",
          "Deportivo Alavés",
          "PAS Giannina",
          "Wycombe Wanderers",
          "Torino",
          "Pescara",
          "Stoke City",
          "Reggiana",
          "Panathinaikos",
          "Dynamo Dresden",
          "Ural",
          "Carrarese",
          "Barnsley",
          "Athletic Club Bilbao",
          "Rayo Vallecano",
          "SD Huesca",
          "Reggina",
          "Bari 1908",
          "Real Sociedad",
          "Ascoli",
          "Aris",
          "Cádiz",
          "Cosenza",
          "Wigan Athletic",
          "Asteras Tripolis",
          "Rotor Volgograd",
          "Panaitolikos",
          "RCD Mallorca",
          "Juve Stabia",
          "Perugia",
          "Larissa",
          "Millwall",
          "Apollon Smirnis",
          "Derby County",
          "Fakel",
          "Cittadella",
          "SD Eibar",
          "Getafe CF",
          "Makhachkala",
          "BB Bodrumspor"
         ],
         "y": {
          "bdata": "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",
          "dtype": "f8"
         }
        }
       ],
       "layout": {
        "annotations": [
         {
          "showarrow": false,
          "text": "Общее λ = 2.770",
          "x": 1,
          "xanchor": "right",
          "xref": "x domain",
          "y": 2.7698618841475984,
          "yanchor": "bottom",
          "yref": "y"
         }
        ],
        "shapes": [
         {
          "line": {
           "color": "blue",
           "dash": "dash"
          },
          "type": "line",
          "x0": 0,
          "x1": 1,
          "xref": "x domain",
          "y0": 2.7698618841475984,
          "y1": 2.7698618841475984,
          "yref": "y"
         }
        ],
        "template": {
         "data": {
          "bar": [
           {
            "error_x": {
             "color": "#2a3f5f"
            },
            "error_y": {
             "color": "#2a3f5f"
            },
            "marker": {
             "line": {
              "color": "#E5ECF6",
              "width": 0.5
             },
             "pattern": {
              "fillmode": "overlay",
              "size": 10,
              "solidity": 0.2
             }
            },
            "type": "bar"
           }
          ],
          "barpolar": [
           {
            "marker": {
             "line": {
              "color": "#E5ECF6",
              "width": 0.5
             },
             "pattern": {
              "fillmode": "overlay",
              "size": 10,
              "solidity": 0.2
             }
            },
            "type": "barpolar"
           }
          ],
          "carpet": [
           {
            "aaxis": {
             "endlinecolor": "#2a3f5f",
             "gridcolor": "white",
             "linecolor": "white",
             "minorgridcolor": "white",
             "startlinecolor": "#2a3f5f"
            },
            "baxis": {
             "endlinecolor": "#2a3f5f",
             "gridcolor": "white",
             "linecolor": "white",
             "minorgridcolor": "white",
             "startlinecolor": "#2a3f5f"
            },
            "type": "carpet"
           }
          ],
          "choropleth": [
           {
            "colorbar": {
             "outlinewidth": 0,
             "ticks": ""
            },
            "type": "choropleth"
           }
          ],
          "contour": [
           {
            "colorbar": {
             "outlinewidth": 0,
             "ticks": ""
            },
            "colorscale": [
             [
              0,
              "#0d0887"
             ],
             [
              0.1111111111111111,
              "#46039f"
             ],
             [
              0.2222222222222222,
              "#7201a8"
             ],
             [
              0.3333333333333333,
              "#9c179e"
             ],
             [
              0.4444444444444444,
              "#bd3786"
             ],
             [
              0.5555555555555556,
              "#d8576b"
             ],
             [
              0.6666666666666666,
              "#ed7953"
             ],
             [
              0.7777777777777778,
              "#fb9f3a"
             ],
             [
              0.8888888888888888,
              "#fdca26"
             ],
             [
              1,
              "#f0f921"
             ]
            ],
            "type": "contour"
           }
          ],
          "contourcarpet": [
           {
            "colorbar": {
             "outlinewidth": 0,
             "ticks": ""
            },
            "type": "contourcarpet"
           }
          ],
          "heatmap": [
           {
            "colorbar": {
             "outlinewidth": 0,
             "ticks": ""
            },
            "colorscale": [
             [
              0,
              "#0d0887"
             ],
             [
              0.1111111111111111,
              "#46039f"
             ],
             [
              0.2222222222222222,
              "#7201a8"
             ],
             [
              0.3333333333333333,
              "#9c179e"
             ],
             [
              0.4444444444444444,
              "#bd3786"
             ],
             [
              0.5555555555555556,
              "#d8576b"
             ],
             [
              0.6666666666666666,
              "#ed7953"
             ],
             [
              0.7777777777777778,
              "#fb9f3a"
             ],
             [
              0.8888888888888888,
              "#fdca26"
             ],
             [
              1,
              "#f0f921"
             ]
            ],
            "type": "heatmap"
           }
          ],
          "histogram": [
           {
            "marker": {
             "pattern": {
              "fillmode": "overlay",
              "size": 10,
              "solidity": 0.2
             }
            },
            "type": "histogram"
           }
          ],
          "histogram2d": [
           {
            "colorbar": {
             "outlinewidth": 0,
             "ticks": ""
            },
            "colorscale": [
             [
              0,
              "#0d0887"
             ],
             [
              0.1111111111111111,
              "#46039f"
             ],
             [
              0.2222222222222222,
              "#7201a8"
             ],
             [
              0.3333333333333333,
              "#9c179e"
             ],
             [
              0.4444444444444444,
              "#bd3786"
             ],
             [
              0.5555555555555556,
              "#d8576b"
             ],
             [
              0.6666666666666666,
              "#ed7953"
             ],
             [
              0.7777777777777778,
              "#fb9f3a"
             ],
             [
              0.8888888888888888,
              "#fdca26"
             ],
             [
              1,
              "#f0f921"
             ]
            ],
            "type": "histogram2d"
           }
          ],
          "histogram2dcontour": [
           {
            "colorbar": {
             "outlinewidth": 0,
             "ticks": ""
            },
            "colorscale": [
             [
              0,
              "#0d0887"
             ],
             [
              0.1111111111111111,
              "#46039f"
             ],
             [
              0.2222222222222222,
              "#7201a8"
             ],
             [
              0.3333333333333333,
              "#9c179e"
             ],
             [
              0.4444444444444444,
              "#bd3786"
             ],
             [
              0.5555555555555556,
              "#d8576b"
             ],
             [
              0.6666666666666666,
              "#ed7953"
             ],
             [
              0.7777777777777778,
              "#fb9f3a"
             ],
             [
              0.8888888888888888,
              "#fdca26"
             ],
             [
              1,
              "#f0f921"
             ]
            ],
            "type": "histogram2dcontour"
           }
          ],
          "mesh3d": [
           {
            "colorbar": {
             "outlinewidth": 0,
             "ticks": ""
            },
            "type": "mesh3d"
           }
          ],
          "parcoords": [
           {
            "line": {
             "colorbar": {
              "outlinewidth": 0,
              "ticks": ""
             }
            },
            "type": "parcoords"
           }
          ],
          "pie": [
           {
            "automargin": true,
            "type": "pie"
           }
          ],
          "scatter": [
           {
            "fillpattern": {
             "fillmode": "overlay",
             "size": 10,
             "solidity": 0.2
            },
            "type": "scatter"
           }
          ],
          "scatter3d": [
           {
            "line": {
             "colorbar": {
              "outlinewidth": 0,
              "ticks": ""
             }
            },
            "marker": {
             "colorbar": {
              "outlinewidth": 0,
              "ticks": ""
             }
            },
            "type": "scatter3d"
           }
          ],
          "scattercarpet": [
           {
            "marker": {
             "colorbar": {
              "outlinewidth": 0,
              "ticks": ""
             }
            },
            "type": "scattercarpet"
           }
          ],
          "scattergeo": [
           {
            "marker": {
             "colorbar": {
              "outlinewidth": 0,
              "ticks": ""
             }
            },
            "type": "scattergeo"
           }
          ],
          "scattergl": [
           {
            "marker": {
             "colorbar": {
              "outlinewidth": 0,
              "ticks": ""
             }
            },
            "type": "scattergl"
           }
          ],
          "scattermap": [
           {
            "marker": {
             "colorbar": {
              "outlinewidth": 0,
              "ticks": ""
             }
            },
            "type": "scattermap"
           }
          ],
          "scattermapbox": [
           {
            "marker": {
             "colorbar": {
              "outlinewidth": 0,
              "ticks": ""
             }
            },
            "type": "scattermapbox"
           }
          ],
          "scatterpolar": [
           {
            "marker": {
             "colorbar": {
              "outlinewidth": 0,
              "ticks": ""
             }
            },
            "type": "scatterpolar"
           }
          ],
          "scatterpolargl": [
           {
            "marker": {
             "colorbar": {
              "outlinewidth": 0,
              "ticks": ""
             }
            },
            "type": "scatterpolargl"
           }
          ],
          "scatterternary": [
           {
            "marker": {
             "colorbar": {
              "outlinewidth": 0,
              "ticks": ""
             }
            },
            "type": "scatterternary"
           }
          ],
          "surface": [
           {
            "colorbar": {
             "outlinewidth": 0,
             "ticks": ""
            },
            "colorscale": [
             [
              0,
              "#0d0887"
             ],
             [
              0.1111111111111111,
              "#46039f"
             ],
             [
              0.2222222222222222,
              "#7201a8"
             ],
             [
              0.3333333333333333,
              "#9c179e"
             ],
             [
              0.4444444444444444,
              "#bd3786"
             ],
             [
              0.5555555555555556,
              "#d8576b"
             ],
             [
              0.6666666666666666,
              "#ed7953"
             ],
             [
              0.7777777777777778,
              "#fb9f3a"
             ],
             [
              0.8888888888888888,
              "#fdca26"
             ],
             [
              1,
              "#f0f921"
             ]
            ],
            "type": "surface"
           }
          ],
          "table": [
           {
            "cells": {
             "fill": {
              "color": "#EBF0F8"
             },
             "line": {
              "color": "white"
             }
            },
            "header": {
             "fill": {
              "color": "#C8D4E3"
             },
             "line": {
              "color": "white"
             }
            },
            "type": "table"
           }
          ]
         },
         "layout": {
          "annotationdefaults": {
           "arrowcolor": "#2a3f5f",
           "arrowhead": 0,
           "arrowwidth": 1
          },
          "autotypenumbers": "strict",
          "coloraxis": {
           "colorbar": {
            "outlinewidth": 0,
            "ticks": ""
           }
          },
          "colorscale": {
           "diverging": [
            [
             0,
             "#8e0152"
            ],
            [
             0.1,
             "#c51b7d"
            ],
            [
             0.2,
             "#de77ae"
            ],
            [
             0.3,
             "#f1b6da"
            ],
            [
             0.4,
             "#fde0ef"
            ],
            [
             0.5,
             "#f7f7f7"
            ],
            [
             0.6,
             "#e6f5d0"
            ],
            [
             0.7,
             "#b8e186"
            ],
            [
             0.8,
             "#7fbc41"
            ],
            [
             0.9,
             "#4d9221"
            ],
            [
             1,
             "#276419"
            ]
           ],
           "sequential": [
            [
             0,
             "#0d0887"
            ],
            [
             0.1111111111111111,
             "#46039f"
            ],
            [
             0.2222222222222222,
             "#7201a8"
            ],
            [
             0.3333333333333333,
             "#9c179e"
            ],
            [
             0.4444444444444444,
             "#bd3786"
            ],
            [
             0.5555555555555556,
             "#d8576b"
            ],
            [
             0.6666666666666666,
             "#ed7953"
            ],
            [
             0.7777777777777778,
             "#fb9f3a"
            ],
            [
             0.8888888888888888,
             "#fdca26"
            ],
            [
             1,
             "#f0f921"
            ]
           ],
           "sequentialminus": [
            [
             0,
             "#0d0887"
            ],
            [
             0.1111111111111111,
             "#46039f"
            ],
            [
             0.2222222222222222,
             "#7201a8"
            ],
            [
             0.3333333333333333,
             "#9c179e"
            ],
            [
             0.4444444444444444,
             "#bd3786"
            ],
            [
             0.5555555555555556,
             "#d8576b"
            ],
            [
             0.6666666666666666,
             "#ed7953"
            ],
            [
             0.7777777777777778,
             "#fb9f3a"
            ],
            [
             0.8888888888888888,
             "#fdca26"
            ],
            [
             1,
             "#f0f921"
            ]
           ]
          },
          "colorway": [
           "#636efa",
           "#EF553B",
           "#00cc96",
           "#ab63fa",
           "#FFA15A",
           "#19d3f3",
           "#FF6692",
           "#B6E880",
           "#FF97FF",
           "#FECB52"
          ],
          "font": {
           "color": "#2a3f5f"
          },
          "geo": {
           "bgcolor": "white",
           "lakecolor": "white",
           "landcolor": "#E5ECF6",
           "showlakes": true,
           "showland": true,
           "subunitcolor": "white"
          },
          "hoverlabel": {
           "align": "left"
          },
          "hovermode": "closest",
          "mapbox": {
           "style": "light"
          },
          "paper_bgcolor": "white",
          "plot_bgcolor": "#E5ECF6",
          "polar": {
           "angularaxis": {
            "gridcolor": "white",
            "linecolor": "white",
            "ticks": ""
           },
           "bgcolor": "#E5ECF6",
           "radialaxis": {
            "gridcolor": "white",
            "linecolor": "white",
            "ticks": ""
           }
          },
          "scene": {
           "xaxis": {
            "backgroundcolor": "#E5ECF6",
            "gridcolor": "white",
            "gridwidth": 2,
            "linecolor": "white",
            "showbackground": true,
            "ticks": "",
            "zerolinecolor": "white"
           },
           "yaxis": {
            "backgroundcolor": "#E5ECF6",
            "gridcolor": "white",
            "gridwidth": 2,
            "linecolor": "white",
            "showbackground": true,
            "ticks": "",
            "zerolinecolor": "white"
           },
           "zaxis": {
            "backgroundcolor": "#E5ECF6",
            "gridcolor": "white",
            "gridwidth": 2,
            "linecolor": "white",
            "showbackground": true,
            "ticks": "",
            "zerolinecolor": "white"
           }
          },
          "shapedefaults": {
           "line": {
            "color": "#2a3f5f"
           }
          },
          "ternary": {
           "aaxis": {
            "gridcolor": "white",
            "linecolor": "white",
            "ticks": ""
           },
           "baxis": {
            "gridcolor": "white",
            "linecolor": "white",
            "ticks": ""
           },
           "bgcolor": "#E5ECF6",
           "caxis": {
            "gridcolor": "white",
            "linecolor": "white",
            "ticks": ""
           }
          },
          "title": {
           "x": 0.05
          },
          "xaxis": {
           "automargin": true,
           "gridcolor": "white",
           "linecolor": "white",
           "ticks": "",
           "title": {
            "standoff": 15
           },
           "zerolinecolor": "white",
           "zerolinewidth": 2
          },
          "yaxis": {
           "automargin": true,
           "gridcolor": "white",
           "linecolor": "white",
           "ticks": "",
           "title": {
            "standoff": 15
           },
           "zerolinecolor": "white",
           "zerolinewidth": 2
          }
         }
        },
        "title": {
         "text": "Устойчивость оценки λ по командам (топ-20 по количеству матчей)"
        },
        "xaxis": {
         "title": {
          "text": "Команда"
         }
        },
        "yaxis": {
         "title": {
          "text": "λ (средние голы за матч)"
         }
        }
       }
      }
     },
     "metadata": {},
     "output_type": "display_data"
    }
   ],
   "source": [
    "all_teams = pd.concat([df_all[\"home_team_name\"], df_all[\"away_team_name\"]])\n",
    "team_match_counts = all_teams.value_counts()\n",
    "top_teams = team_match_counts.index\n",
    "\n",
    "team_lambdas = []\n",
    "for team in top_teams:\n",
    "    team_home = df_all[df_all[\"home_team_name\"] == team]\n",
    "    team_away = df_all[df_all[\"away_team_name\"] == team]\n",
    "    team_matches = pd.concat([team_home, team_away])\n",
    "\n",
    "    total_goals_team = team_matches[\"total_goal_count\"].sum()\n",
    "    lambda_team = total_goals_team / len(team_matches)\n",
    "\n",
    "    team_lambdas.append(\n",
    "        {\n",
    "            \"team\": team,\n",
    "            \"lambda\": lambda_team,\n",
    "        }\n",
    "    )\n",
    "\n",
    "df_teams = pd.DataFrame(team_lambdas).sort_values(\"lambda\", ascending=False)\n",
    "\n",
    "fig4 = go.Figure()\n",
    "fig4.add_trace(\n",
    "    go.Bar(\n",
    "        x=df_teams[\"team\"],\n",
    "        y=df_teams[\"lambda\"],\n",
    "        text=[f\"{val:.3f}\" for val in df_teams[\"lambda\"]],\n",
    "    )\n",
    ")\n",
    "fig4.add_hline(\n",
    "    y=lambda_mle_all,\n",
    "    line_dash=\"dash\",\n",
    "    line_color=\"blue\",\n",
    "    annotation_text=f\"Общее λ = {lambda_mle_all:.3f}\",\n",
    ")\n",
    "fig4.update_layout(\n",
    "    title=\"Устойчивость оценки λ по командам (топ-20 по количеству матчей)\",\n",
    "    xaxis_title=\"Команда\",\n",
    "    yaxis_title=\"λ (средние голы за матч)\",\n",
    ")\n",
    "fig4.show()"
   ]
  },
  {
   "cell_type": "markdown",
   "id": "613c025a",
   "metadata": {},
   "source": [
    "### TASK 3: Стиль игры\n",
    "\n",
    "1. Выберите одну конкретную команду. Оцените два параметра:\n",
    "\n",
    "* λ_attack – среднее количество голов, забиваемое этой командой за матч (используйте данные по всем матчам, где она играла).\n",
    "\n",
    "* λ_defence – среднее количество голов, пропускаемых этой командой за матч.\n",
    "\n",
    "2. Сравните λ_attack и λ_defence для этой команды. Что это говорит о ее стиле игры? Является ли она атакующей, оборонительной или сбалансированной?"
   ]
  },
  {
   "cell_type": "code",
   "execution_count": 126,
   "id": "e5582ae2",
   "metadata": {},
   "outputs": [
    {
     "name": "stdout",
     "output_type": "stream",
     "text": [
      "PSG\n",
      "Домашних матчей: 91\n",
      "Гостевых матчей: 91\n",
      "Всего матчей: 182\n"
     ]
    }
   ],
   "source": [
    "selected_team = \"PSG\"\n",
    "team_home_matches = df_all[df_all['home_team_name'] == \"PSG\"]\n",
    "team_away_matches = df_all[df_all['away_team_name'] == \"PSG\"]\n",
    "\n",
    "print(\"PSG\")\n",
    "print(f\"Домашних матчей: {len(team_home_matches)}\")\n",
    "print(f\"Гостевых матчей: {len(team_away_matches)}\")\n",
    "print(f\"Всего матчей: {len(team_home_matches) + len(team_away_matches)}\")"
   ]
  },
  {
   "cell_type": "code",
   "execution_count": null,
   "id": "048337c8",
   "metadata": {},
   "outputs": [
    {
     "name": "stdout",
     "output_type": "stream",
     "text": [
      "Всего забито голов: 438.0\n",
      "Всего пропущено голов: 172.0\n",
      "Разница голов: 266\n",
      "λ_attack (средние забитые голы/матч): 2.4066\n",
      "λ_defense (средние пропущенные голы/матч): 0.9451\n",
      "Разница (атака - оборона): 1.4615\n"
     ]
    }
   ],
   "source": [
    "def calculate_team_metrics(home_matches, away_matches, team_name):\n",
    "    goals_for_home = home_matches['home_team_goal_count'].sum()\n",
    "    goals_for_away = away_matches['away_team_goal_count'].sum()\n",
    "    total_goals_for = goals_for_home + goals_for_away\n",
    "    \n",
    "    goals_against_home = home_matches['away_team_goal_count'].sum()\n",
    "    goals_against_away = away_matches['home_team_goal_count'].sum()\n",
    "    total_goals_against = goals_against_home + goals_against_away\n",
    "    \n",
    "    total_matches = len(home_matches) + len(away_matches)\n",
    "    \n",
    "    lambda_attack = total_goals_for / total_matches\n",
    "    lambda_defense = total_goals_against / total_matches\n",
    "    \n",
    "    \n",
    "    return {\n",
    "        'team': team_name,\n",
    "        'total_matches': total_matches,\n",
    "        'total_goals_for': total_goals_for,\n",
    "        'total_goals_against': total_goals_against,\n",
    "        'lambda_attack': lambda_attack,\n",
    "        'lambda_defense': lambda_defense,\n",
    "        'goal_difference': total_goals_for - total_goals_against,\n",
    "        'attack_advantage': lambda_attack - lambda_defense\n",
    "    }\n",
    "\n",
    "team_metrics = calculate_team_metrics(team_home_matches, team_away_matches, selected_team)\n",
    "\n",
    "print(f\"Всего забито голов: {team_metrics['total_goals_for']}\")\n",
    "print(f\"Всего пропущено голов: {team_metrics['total_goals_against']}\")\n",
    "print(f\"Разница голов: {team_metrics['goal_difference']:.0f}\")\n",
    "print(f\"λ_attack (средние забитые голы/матч): {team_metrics['lambda_attack']:.4f}\")\n",
    "print(f\"λ_defense (средние пропущенные голы/матч): {team_metrics['lambda_defense']:.4f}\")\n",
    "print(f\"Разница (атака - оборона): {team_metrics['attack_advantage']:.4f}\")"
   ]
  },
  {
   "cell_type": "code",
   "execution_count": 136,
   "id": "4878384f",
   "metadata": {},
   "outputs": [
    {
     "name": "stdout",
     "output_type": "stream",
     "text": [
      "t-тест: t = 11.1367, p-value = 0.0000\n",
      "Статистически значимое различие между атакой и обороной\n"
     ]
    }
   ],
   "source": [
    "attack_data = pd.concat([\n",
    "    team_home_matches['home_team_goal_count'], \n",
    "    team_away_matches['away_team_goal_count']\n",
    "])\n",
    "defense_data = pd.concat([\n",
    "    team_home_matches['away_team_goal_count'],\n",
    "    team_away_matches['home_team_goal_count']\n",
    "])\n",
    "\n",
    "# t-тест т.к. мало наблюдений\n",
    "t_stat, p_value = stats.ttest_ind(attack_data, defense_data, equal_var=False)\n",
    "\n",
    "print(f\"t-тест: t = {t_stat:.4f}, p-value = {p_value:.4f}\")\n",
    "if p_value < 0.05:\n",
    "    print(f\"Статистически значимое различие между атакой и обороной\")\n",
    "else:\n",
    "    print(f\"Нет статистически значимого различия\")\n"
   ]
  },
  {
   "cell_type": "code",
   "execution_count": 151,
   "id": "e816ecee",
   "metadata": {},
   "outputs": [
    {
     "data": {
      "application/vnd.plotly.v1+json": {
       "config": {
        "plotlyServerURL": "https://plot.ly"
       },
       "data": [
        {
         "marker": {
          "color": [
           "green",
           "red"
          ]
         },
         "name": "Параметры команды",
         "type": "bar",
         "x": [
          "Атака (λ_attack)",
          "Оборона (λ_defense)"
         ],
         "xaxis": "x",
         "y": [
          2.4065934065934065,
          0.945054945054945
         ],
         "yaxis": "y"
        },
        {
         "marker": {
          "color": "green"
         },
         "name": "Забитые голы",
         "text": {
          "bdata": "AAAAAAAAM0AAAAAAAABCQAAAAAAAAEZAAAAAAAAAREAAAAAAAAA8QAAAAAAAACJAAAAAAAAAFEAAAAAAAADwPw==",
          "dtype": "f8"
         },
         "type": "bar",
         "x": {
          "bdata": "AAAAAAAAAAAAAAAAAADwPwAAAAAAAABAAAAAAAAACEAAAAAAAAAQQAAAAAAAABRAAAAAAAAAGEAAAAAAAAAcQA==",
          "dtype": "f8"
         },
         "xaxis": "x2",
         "y": {
          "bdata": "EyQsKBwJBQE=",
          "dtype": "i1"
         },
         "yaxis": "y2"
        },
        {
         "marker": {
          "color": "red"
         },
         "name": "Пропущенные голы",
         "text": {
          "bdata": "AAAAAAAAUEAAAAAAAMBTQAAAAAAAADhAAAAAAAAALkA=",
          "dtype": "f8"
         },
         "type": "bar",
         "x": {
          "bdata": "AAAAAAAAAAAAAAAAAADwPwAAAAAAAABAAAAAAAAACEA=",
          "dtype": "f8"
         },
         "xaxis": "x2",
         "y": {
          "bdata": "QE8YDw==",
          "dtype": "i1"
         },
         "yaxis": "y2"
        },
        {
         "line": {
          "color": "green"
         },
         "mode": "lines+markers",
         "name": "Атака",
         "type": "scatter",
         "x": [
          "matches-2020",
          "matches-2021",
          "matches-2022",
          "matches-2023",
          "matches-2024"
         ],
         "xaxis": "x3",
         "y": {
          "bdata": "r6G8hvIaAkAor6G8hvICQMprKK+hvAJADw8PDw8PA0CmpaWlpaUFQA==",
          "dtype": "f8"
         },
         "yaxis": "y3"
        },
        {
         "line": {
          "color": "red"
         },
         "mode": "lines+markers",
         "name": "Оборона",
         "type": "scatter",
         "x": [
          "matches-2020",
          "matches-2021",
          "matches-2022",
          "matches-2023",
          "matches-2024"
         ],
         "xaxis": "x3",
         "y": {
          "bdata": "Q3kN5TWU5z8N5TWU11DuP3kN5TWU1/A/Dw8PDw8P7z94eHh4eHjwPw==",
          "dtype": "f8"
         },
         "yaxis": "y3"
        }
       ],
       "layout": {
        "annotations": [
         {
          "font": {
           "size": 16
          },
          "showarrow": false,
          "text": "Сравнение атаки и обороны",
          "x": 0.225,
          "xanchor": "center",
          "xref": "paper",
          "y": 1,
          "yanchor": "bottom",
          "yref": "paper"
         },
         {
          "font": {
           "size": 16
          },
          "showarrow": false,
          "text": "Распределение голов за матч",
          "x": 0.775,
          "xanchor": "center",
          "xref": "paper",
          "y": 1,
          "yanchor": "bottom",
          "yref": "paper"
         },
         {
          "font": {
           "size": 16
          },
          "showarrow": false,
          "text": "Динамика по сезонам",
          "x": 0.225,
          "xanchor": "center",
          "xref": "paper",
          "y": 0.375,
          "yanchor": "bottom",
          "yref": "paper"
         }
        ],
        "template": {
         "data": {
          "bar": [
           {
            "error_x": {
             "color": "#2a3f5f"
            },
            "error_y": {
             "color": "#2a3f5f"
            },
            "marker": {
             "line": {
              "color": "#E5ECF6",
              "width": 0.5
             },
             "pattern": {
              "fillmode": "overlay",
              "size": 10,
              "solidity": 0.2
             }
            },
            "type": "bar"
           }
          ],
          "barpolar": [
           {
            "marker": {
             "line": {
              "color": "#E5ECF6",
              "width": 0.5
             },
             "pattern": {
              "fillmode": "overlay",
              "size": 10,
              "solidity": 0.2
             }
            },
            "type": "barpolar"
           }
          ],
          "carpet": [
           {
            "aaxis": {
             "endlinecolor": "#2a3f5f",
             "gridcolor": "white",
             "linecolor": "white",
             "minorgridcolor": "white",
             "startlinecolor": "#2a3f5f"
            },
            "baxis": {
             "endlinecolor": "#2a3f5f",
             "gridcolor": "white",
             "linecolor": "white",
             "minorgridcolor": "white",
             "startlinecolor": "#2a3f5f"
            },
            "type": "carpet"
           }
          ],
          "choropleth": [
           {
            "colorbar": {
             "outlinewidth": 0,
             "ticks": ""
            },
            "type": "choropleth"
           }
          ],
          "contour": [
           {
            "colorbar": {
             "outlinewidth": 0,
             "ticks": ""
            },
            "colorscale": [
             [
              0,
              "#0d0887"
             ],
             [
              0.1111111111111111,
              "#46039f"
             ],
             [
              0.2222222222222222,
              "#7201a8"
             ],
             [
              0.3333333333333333,
              "#9c179e"
             ],
             [
              0.4444444444444444,
              "#bd3786"
             ],
             [
              0.5555555555555556,
              "#d8576b"
             ],
             [
              0.6666666666666666,
              "#ed7953"
             ],
             [
              0.7777777777777778,
              "#fb9f3a"
             ],
             [
              0.8888888888888888,
              "#fdca26"
             ],
             [
              1,
              "#f0f921"
             ]
            ],
            "type": "contour"
           }
          ],
          "contourcarpet": [
           {
            "colorbar": {
             "outlinewidth": 0,
             "ticks": ""
            },
            "type": "contourcarpet"
           }
          ],
          "heatmap": [
           {
            "colorbar": {
             "outlinewidth": 0,
             "ticks": ""
            },
            "colorscale": [
             [
              0,
              "#0d0887"
             ],
             [
              0.1111111111111111,
              "#46039f"
             ],
             [
              0.2222222222222222,
              "#7201a8"
             ],
             [
              0.3333333333333333,
              "#9c179e"
             ],
             [
              0.4444444444444444,
              "#bd3786"
             ],
             [
              0.5555555555555556,
              "#d8576b"
             ],
             [
              0.6666666666666666,
              "#ed7953"
             ],
             [
              0.7777777777777778,
              "#fb9f3a"
             ],
             [
              0.8888888888888888,
              "#fdca26"
             ],
             [
              1,
              "#f0f921"
             ]
            ],
            "type": "heatmap"
           }
          ],
          "histogram": [
           {
            "marker": {
             "pattern": {
              "fillmode": "overlay",
              "size": 10,
              "solidity": 0.2
             }
            },
            "type": "histogram"
           }
          ],
          "histogram2d": [
           {
            "colorbar": {
             "outlinewidth": 0,
             "ticks": ""
            },
            "colorscale": [
             [
              0,
              "#0d0887"
             ],
             [
              0.1111111111111111,
              "#46039f"
             ],
             [
              0.2222222222222222,
              "#7201a8"
             ],
             [
              0.3333333333333333,
              "#9c179e"
             ],
             [
              0.4444444444444444,
              "#bd3786"
             ],
             [
              0.5555555555555556,
              "#d8576b"
             ],
             [
              0.6666666666666666,
              "#ed7953"
             ],
             [
              0.7777777777777778,
              "#fb9f3a"
             ],
             [
              0.8888888888888888,
              "#fdca26"
             ],
             [
              1,
              "#f0f921"
             ]
            ],
            "type": "histogram2d"
           }
          ],
          "histogram2dcontour": [
           {
            "colorbar": {
             "outlinewidth": 0,
             "ticks": ""
            },
            "colorscale": [
             [
              0,
              "#0d0887"
             ],
             [
              0.1111111111111111,
              "#46039f"
             ],
             [
              0.2222222222222222,
              "#7201a8"
             ],
             [
              0.3333333333333333,
              "#9c179e"
             ],
             [
              0.4444444444444444,
              "#bd3786"
             ],
             [
              0.5555555555555556,
              "#d8576b"
             ],
             [
              0.6666666666666666,
              "#ed7953"
             ],
             [
              0.7777777777777778,
              "#fb9f3a"
             ],
             [
              0.8888888888888888,
              "#fdca26"
             ],
             [
              1,
              "#f0f921"
             ]
            ],
            "type": "histogram2dcontour"
           }
          ],
          "mesh3d": [
           {
            "colorbar": {
             "outlinewidth": 0,
             "ticks": ""
            },
            "type": "mesh3d"
           }
          ],
          "parcoords": [
           {
            "line": {
             "colorbar": {
              "outlinewidth": 0,
              "ticks": ""
             }
            },
            "type": "parcoords"
           }
          ],
          "pie": [
           {
            "automargin": true,
            "type": "pie"
           }
          ],
          "scatter": [
           {
            "fillpattern": {
             "fillmode": "overlay",
             "size": 10,
             "solidity": 0.2
            },
            "type": "scatter"
           }
          ],
          "scatter3d": [
           {
            "line": {
             "colorbar": {
              "outlinewidth": 0,
              "ticks": ""
             }
            },
            "marker": {
             "colorbar": {
              "outlinewidth": 0,
              "ticks": ""
             }
            },
            "type": "scatter3d"
           }
          ],
          "scattercarpet": [
           {
            "marker": {
             "colorbar": {
              "outlinewidth": 0,
              "ticks": ""
             }
            },
            "type": "scattercarpet"
           }
          ],
          "scattergeo": [
           {
            "marker": {
             "colorbar": {
              "outlinewidth": 0,
              "ticks": ""
             }
            },
            "type": "scattergeo"
           }
          ],
          "scattergl": [
           {
            "marker": {
             "colorbar": {
              "outlinewidth": 0,
              "ticks": ""
             }
            },
            "type": "scattergl"
           }
          ],
          "scattermap": [
           {
            "marker": {
             "colorbar": {
              "outlinewidth": 0,
              "ticks": ""
             }
            },
            "type": "scattermap"
           }
          ],
          "scattermapbox": [
           {
            "marker": {
             "colorbar": {
              "outlinewidth": 0,
              "ticks": ""
             }
            },
            "type": "scattermapbox"
           }
          ],
          "scatterpolar": [
           {
            "marker": {
             "colorbar": {
              "outlinewidth": 0,
              "ticks": ""
             }
            },
            "type": "scatterpolar"
           }
          ],
          "scatterpolargl": [
           {
            "marker": {
             "colorbar": {
              "outlinewidth": 0,
              "ticks": ""
             }
            },
            "type": "scatterpolargl"
           }
          ],
          "scatterternary": [
           {
            "marker": {
             "colorbar": {
              "outlinewidth": 0,
              "ticks": ""
             }
            },
            "type": "scatterternary"
           }
          ],
          "surface": [
           {
            "colorbar": {
             "outlinewidth": 0,
             "ticks": ""
            },
            "colorscale": [
             [
              0,
              "#0d0887"
             ],
             [
              0.1111111111111111,
              "#46039f"
             ],
             [
              0.2222222222222222,
              "#7201a8"
             ],
             [
              0.3333333333333333,
              "#9c179e"
             ],
             [
              0.4444444444444444,
              "#bd3786"
             ],
             [
              0.5555555555555556,
              "#d8576b"
             ],
             [
              0.6666666666666666,
              "#ed7953"
             ],
             [
              0.7777777777777778,
              "#fb9f3a"
             ],
             [
              0.8888888888888888,
              "#fdca26"
             ],
             [
              1,
              "#f0f921"
             ]
            ],
            "type": "surface"
           }
          ],
          "table": [
           {
            "cells": {
             "fill": {
              "color": "#EBF0F8"
             },
             "line": {
              "color": "white"
             }
            },
            "header": {
             "fill": {
              "color": "#C8D4E3"
             },
             "line": {
              "color": "white"
             }
            },
            "type": "table"
           }
          ]
         },
         "layout": {
          "annotationdefaults": {
           "arrowcolor": "#2a3f5f",
           "arrowhead": 0,
           "arrowwidth": 1
          },
          "autotypenumbers": "strict",
          "coloraxis": {
           "colorbar": {
            "outlinewidth": 0,
            "ticks": ""
           }
          },
          "colorscale": {
           "diverging": [
            [
             0,
             "#8e0152"
            ],
            [
             0.1,
             "#c51b7d"
            ],
            [
             0.2,
             "#de77ae"
            ],
            [
             0.3,
             "#f1b6da"
            ],
            [
             0.4,
             "#fde0ef"
            ],
            [
             0.5,
             "#f7f7f7"
            ],
            [
             0.6,
             "#e6f5d0"
            ],
            [
             0.7,
             "#b8e186"
            ],
            [
             0.8,
             "#7fbc41"
            ],
            [
             0.9,
             "#4d9221"
            ],
            [
             1,
             "#276419"
            ]
           ],
           "sequential": [
            [
             0,
             "#0d0887"
            ],
            [
             0.1111111111111111,
             "#46039f"
            ],
            [
             0.2222222222222222,
             "#7201a8"
            ],
            [
             0.3333333333333333,
             "#9c179e"
            ],
            [
             0.4444444444444444,
             "#bd3786"
            ],
            [
             0.5555555555555556,
             "#d8576b"
            ],
            [
             0.6666666666666666,
             "#ed7953"
            ],
            [
             0.7777777777777778,
             "#fb9f3a"
            ],
            [
             0.8888888888888888,
             "#fdca26"
            ],
            [
             1,
             "#f0f921"
            ]
           ],
           "sequentialminus": [
            [
             0,
             "#0d0887"
            ],
            [
             0.1111111111111111,
             "#46039f"
            ],
            [
             0.2222222222222222,
             "#7201a8"
            ],
            [
             0.3333333333333333,
             "#9c179e"
            ],
            [
             0.4444444444444444,
             "#bd3786"
            ],
            [
             0.5555555555555556,
             "#d8576b"
            ],
            [
             0.6666666666666666,
             "#ed7953"
            ],
            [
             0.7777777777777778,
             "#fb9f3a"
            ],
            [
             0.8888888888888888,
             "#fdca26"
            ],
            [
             1,
             "#f0f921"
            ]
           ]
          },
          "colorway": [
           "#636efa",
           "#EF553B",
           "#00cc96",
           "#ab63fa",
           "#FFA15A",
           "#19d3f3",
           "#FF6692",
           "#B6E880",
           "#FF97FF",
           "#FECB52"
          ],
          "font": {
           "color": "#2a3f5f"
          },
          "geo": {
           "bgcolor": "white",
           "lakecolor": "white",
           "landcolor": "#E5ECF6",
           "showlakes": true,
           "showland": true,
           "subunitcolor": "white"
          },
          "hoverlabel": {
           "align": "left"
          },
          "hovermode": "closest",
          "mapbox": {
           "style": "light"
          },
          "paper_bgcolor": "white",
          "plot_bgcolor": "#E5ECF6",
          "polar": {
           "angularaxis": {
            "gridcolor": "white",
            "linecolor": "white",
            "ticks": ""
           },
           "bgcolor": "#E5ECF6",
           "radialaxis": {
            "gridcolor": "white",
            "linecolor": "white",
            "ticks": ""
           }
          },
          "scene": {
           "xaxis": {
            "backgroundcolor": "#E5ECF6",
            "gridcolor": "white",
            "gridwidth": 2,
            "linecolor": "white",
            "showbackground": true,
            "ticks": "",
            "zerolinecolor": "white"
           },
           "yaxis": {
            "backgroundcolor": "#E5ECF6",
            "gridcolor": "white",
            "gridwidth": 2,
            "linecolor": "white",
            "showbackground": true,
            "ticks": "",
            "zerolinecolor": "white"
           },
           "zaxis": {
            "backgroundcolor": "#E5ECF6",
            "gridcolor": "white",
            "gridwidth": 2,
            "linecolor": "white",
            "showbackground": true,
            "ticks": "",
            "zerolinecolor": "white"
           }
          },
          "shapedefaults": {
           "line": {
            "color": "#2a3f5f"
           }
          },
          "ternary": {
           "aaxis": {
            "gridcolor": "white",
            "linecolor": "white",
            "ticks": ""
           },
           "baxis": {
            "gridcolor": "white",
            "linecolor": "white",
            "ticks": ""
           },
           "bgcolor": "#E5ECF6",
           "caxis": {
            "gridcolor": "white",
            "linecolor": "white",
            "ticks": ""
           }
          },
          "title": {
           "x": 0.05
          },
          "xaxis": {
           "automargin": true,
           "gridcolor": "white",
           "linecolor": "white",
           "ticks": "",
           "title": {
            "standoff": 15
           },
           "zerolinecolor": "white",
           "zerolinewidth": 2
          },
          "yaxis": {
           "automargin": true,
           "gridcolor": "white",
           "linecolor": "white",
           "ticks": "",
           "title": {
            "standoff": 15
           },
           "zerolinecolor": "white",
           "zerolinewidth": 2
          }
         }
        },
        "title": {
         "text": "Анализ стиля игры: PSG"
        },
        "xaxis": {
         "anchor": "y",
         "domain": [
          0,
          0.45
         ]
        },
        "xaxis2": {
         "anchor": "y2",
         "domain": [
          0.55,
          1
         ]
        },
        "xaxis3": {
         "anchor": "y3",
         "domain": [
          0,
          0.45
         ]
        },
        "xaxis4": {
         "anchor": "y4",
         "domain": [
          0.55,
          1
         ]
        },
        "yaxis": {
         "anchor": "x",
         "domain": [
          0.625,
          1
         ],
         "title": {
          "text": "λ (голы/матч)"
         }
        },
        "yaxis2": {
         "anchor": "x2",
         "domain": [
          0.625,
          1
         ],
         "title": {
          "text": "Количество матчей"
         }
        },
        "yaxis3": {
         "anchor": "x3",
         "domain": [
          0,
          0.375
         ],
         "title": {
          "text": "λ (голы/матч)"
         }
        },
        "yaxis4": {
         "anchor": "x4",
         "domain": [
          0,
          0.375
         ]
        }
       }
      }
     },
     "metadata": {},
     "output_type": "display_data"
    }
   ],
   "source": [
    "fig_style = make_subplots(\n",
    "    rows=2,\n",
    "    cols=2,\n",
    "    subplot_titles=(\n",
    "        \"Сравнение атаки и обороны\",\n",
    "        \"Распределение голов за матч\",\n",
    "        \"Динамика по сезонам\",\n",
    "    ),\n",
    ")\n",
    "\n",
    "fig_style.add_trace(\n",
    "    go.Bar(\n",
    "        x=[\"Атака (λ_attack)\", \"Оборона (λ_defense)\"],\n",
    "        y=[team_metrics[\"lambda_attack\"], team_metrics[\"lambda_defense\"]],\n",
    "        marker_color=[\"green\", \"red\"],\n",
    "        name=\"Параметры команды\",\n",
    "    ),\n",
    "    row=1,\n",
    "    col=1,\n",
    ")\n",
    "\n",
    "attack_counts = attack_data.value_counts().sort_index()\n",
    "fig_style.add_trace(\n",
    "    go.Bar(\n",
    "        x=attack_counts.index,\n",
    "        y=attack_counts.values,\n",
    "        name=\"Забитые голы\",\n",
    "        marker_color=\"green\",\n",
    "        text=attack_counts.values,\n",
    "    ),\n",
    "    row=1,\n",
    "    col=2,\n",
    ")\n",
    "\n",
    "defense_counts = defense_data.value_counts().sort_index()\n",
    "fig_style.add_trace(\n",
    "    go.Bar(\n",
    "        x=defense_counts.index,\n",
    "        y=defense_counts.values,\n",
    "        name=\"Пропущенные голы\",\n",
    "        marker_color=\"red\",\n",
    "        text=defense_counts.values,\n",
    "    ),\n",
    "    row=1,\n",
    "    col=2,\n",
    ")\n",
    "\n",
    "season_attack = []\n",
    "season_defense = []\n",
    "\n",
    "for season in df_all[\"season\"].unique():\n",
    "    season_home = team_home_matches[team_home_matches[\"season\"] == season]\n",
    "    season_away = team_away_matches[team_away_matches[\"season\"] == season]\n",
    "\n",
    "    season_metrics = calculate_team_metrics(season_home, season_away, selected_team)\n",
    "    season_attack.append(\n",
    "        {\"season\": season, \"lambda_attack\": season_metrics[\"lambda_attack\"]}\n",
    "    )\n",
    "    season_defense.append(\n",
    "        {\"season\": season, \"lambda_defense\": season_metrics[\"lambda_defense\"]}\n",
    "    )\n",
    "\n",
    "df_season_attack = pd.DataFrame(season_attack).sort_values(\"season\")\n",
    "df_season_defense = pd.DataFrame(season_defense).sort_values(\"season\")\n",
    "\n",
    "fig_style.add_trace(\n",
    "    go.Scatter(\n",
    "        x=df_season_attack[\"season\"],\n",
    "        y=df_season_attack[\"lambda_attack\"],\n",
    "        mode=\"lines+markers\",\n",
    "        name=\"Атака\",\n",
    "        line=dict(\n",
    "            color=\"green\",\n",
    "        ),\n",
    "    ),\n",
    "    row=2,\n",
    "    col=1,\n",
    ")\n",
    "\n",
    "fig_style.add_trace(\n",
    "    go.Scatter(\n",
    "        x=df_season_defense[\"season\"],\n",
    "        y=df_season_defense[\"lambda_defense\"],\n",
    "        mode=\"lines+markers\",\n",
    "        name=\"Оборона\",\n",
    "        line=dict(\n",
    "            color=\"red\",\n",
    "        ),\n",
    "    ),\n",
    "    row=2,\n",
    "    col=1,\n",
    ")\n",
    "\n",
    "fig_style.update_layout(\n",
    "    title=f\"Анализ стиля игры: {selected_team}\",\n",
    ")\n",
    "\n",
    "fig_style.update_yaxes(title_text=\"λ (голы/матч)\", row=1, col=1)\n",
    "fig_style.update_yaxes(title_text=\"Количество матчей\", row=1, col=2)\n",
    "fig_style.update_yaxes(title_text=\"λ (голы/матч)\", row=2, col=1)\n",
    "\n",
    "fig_style.show()"
   ]
  },
  {
   "cell_type": "markdown",
   "id": "733ba770",
   "metadata": {},
   "source": [
    "### TASK 4: Существует ли эффект домашнего поля?\n",
    "\n",
    "* Формулировка гипотезы: Команды в среднем забивают больше голов, играя дома, чем в гостях.\n",
    "\n",
    "\n",
    "1. Для выбранной команды (или для всех команд в совокупности) оцените λ_home (средние голы дома) и λ_away (средние голы в гостях).\n",
    "\n",
    "2. Постройте 95% доверительные интервалы для λ_home и λ_away (можно использовать свойство асимптотической нормальности оценки ММП). Перекрываются ли они?\n",
    "\n",
    "3. Проверьте гипотезу H₀: λ_home = λ_away против H₁: λ_home > λ_away (Hint: можно использовать тест отношения правдоподобия)."
   ]
  },
  {
   "cell_type": "code",
   "execution_count": 157,
   "id": "cb3d6e4e",
   "metadata": {},
   "outputs": [
    {
     "name": "stdout",
     "output_type": "stream",
     "text": [
      "λ_home = 1.5223\n",
      "λ_away = 1.2475\n",
      "λ_home: [1.5068, 1.5379]\n",
      "λ_away: [1.2335, 1.2616]\n",
      "Доверительные интервалы не перекрываются\n"
     ]
    }
   ],
   "source": [
    "home_goals_all = df_all['home_team_goal_count'].sum()\n",
    "away_goals_all = df_all['away_team_goal_count'].sum()\n",
    "\n",
    "total_home_matches = len(df_all)\n",
    "total_away_matches = len(df_all)  \n",
    "\n",
    "lambda_home = home_goals_all / total_home_matches\n",
    "lambda_away = away_goals_all / total_away_matches\n",
    "\n",
    "print(f\"λ_home = {lambda_home:.4f}\")\n",
    "print(f\"λ_away = {lambda_away:.4f}\")\n",
    "\n",
    "\n",
    "def calculate_poisson_ci(lambda_est, n, alpha=0.05):\n",
    "    z = stats.norm.ppf(1 - alpha/2)\n",
    "    se = np.sqrt(lambda_est / n)\n",
    "    ci_lower = lambda_est - z * se\n",
    "    ci_upper = lambda_est + z * se\n",
    "    return ci_lower, ci_upper, se\n",
    "\n",
    "ci_home_lower, ci_home_upper, se_home = calculate_poisson_ci(lambda_home, total_home_matches)\n",
    "ci_away_lower, ci_away_upper, se_away = calculate_poisson_ci(lambda_away, total_away_matches)\n",
    "\n",
    "print(f\"λ_home: [{ci_home_lower:.4f}, {ci_home_upper:.4f}]\")\n",
    "print(f\"λ_away: [{ci_away_lower:.4f}, {ci_away_upper:.4f}]\")\n",
    "print(\"Доверительные интервалы не перекрываются\")"
   ]
  },
  {
   "cell_type": "code",
   "execution_count": 159,
   "id": "6c5c1660",
   "metadata": {},
   "outputs": [
    {
     "name": "stdout",
     "output_type": "stream",
     "text": [
      "H0: λ_common = 1.3849\n",
      "H1: λ_home = 1.5223, λ_away = 1.2475\n",
      "logL(H0) = -73708.0854\n",
      "logL(H1) = -73376.9348\n",
      "Статистика теста: 662.3012\n",
      "Критическое значение (alpha=0.05): chi^2(1) = 3.8415\n",
      "p-value: 0.000000\n",
      "Эффект домашнего поля статистически значим\n"
     ]
    }
   ],
   "source": [
    "def poisson_log_likelihood(lambda_param, goals_data):\n",
    "    return np.sum(stats.poisson.logpmf(goals_data, lambda_param))\n",
    "\n",
    "home_goals_data = df_all['home_team_goal_count'].values\n",
    "away_goals_data = df_all['away_team_goal_count'].values\n",
    "\n",
    "# H0\n",
    "lambda_common = (home_goals_all + away_goals_all) / (total_home_matches + total_away_matches)\n",
    "\n",
    "# H1\n",
    "lambda_home_mle = lambda_home\n",
    "lambda_away_mle = lambda_away\n",
    "\n",
    "print(f\"H0: λ_common = {lambda_common:.4f}\")\n",
    "print(f\"H1: λ_home = {lambda_home_mle:.4f}, λ_away = {lambda_away_mle:.4f}\")\n",
    "\n",
    "logL_H0 = (poisson_log_likelihood(lambda_common, home_goals_data) + \n",
    "          poisson_log_likelihood(lambda_common, away_goals_data))\n",
    "\n",
    "logL_H1 = (poisson_log_likelihood(lambda_home_mle, home_goals_data) + \n",
    "          poisson_log_likelihood(lambda_away_mle, away_goals_data))\n",
    "\n",
    "print(f\"logL(H0) = {logL_H0:.4f}\")\n",
    "print(f\"logL(H1) = {logL_H1:.4f}\")\n",
    "\n",
    "LR_statistic = -2 * (logL_H0 - logL_H1)\n",
    "print(f\"Статистика теста: {LR_statistic:.4f}\")\n",
    "\n",
    "df = 1\n",
    "critical_value = stats.chi2.ppf(0.95, df) \n",
    "p_value = 1 - stats.chi2.cdf(LR_statistic, df)\n",
    "\n",
    "print(f\"Критическое значение (alpha=0.05): chi^2(1) = {critical_value:.4f}\")\n",
    "print(f\"p-value: {p_value:.6f}\")\n",
    "\n",
    "if p_value < 0.05:\n",
    "    print(f\"Эффект домашнего поля статистически значим\")\n",
    "else:\n",
    "    print(f\"Эффекта домашнего поля не статистически значим\")"
   ]
  }
 ],
 "metadata": {
  "kernelspec": {
   "display_name": "tvims-py3.13 (3.13.1)",
   "language": "python",
   "name": "python3"
  },
  "language_info": {
   "codemirror_mode": {
    "name": "ipython",
    "version": 3
   },
   "file_extension": ".py",
   "mimetype": "text/x-python",
   "name": "python",
   "nbconvert_exporter": "python",
   "pygments_lexer": "ipython3",
   "version": "3.13.1"
  }
 },
 "nbformat": 4,
 "nbformat_minor": 5
}
